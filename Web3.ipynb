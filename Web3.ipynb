{
 "cells": [
  {
   "cell_type": "markdown",
   "metadata": {},
   "source": [
    "連結 Web3\n",
    "==========\n",
    "https://web3py.readthedocs.io/en/stable/quickstart.html#using-web3\n",
    "\n",
    "https://web3py.readthedocs.io/en/stable/examples.html"
   ]
  },
  {
   "cell_type": "code",
   "execution_count": 1,
   "metadata": {},
   "outputs": [
    {
     "name": "stdout",
     "output_type": "stream",
     "text": [
      "Looking in indexes: https://pypi.nuwainfo.com/nuwa/dev/+simple/\n",
      "Requirement already satisfied: web3 in c:\\programdata\\anaconda3\\envs\\pythonteach38\\lib\\site-packages (5.12.2)\n",
      "Requirement already satisfied: eth-account<0.6.0,>=0.5.3 in c:\\programdata\\anaconda3\\envs\\pythonteach38\\lib\\site-packages (from web3) (0.5.4)\n",
      "Requirement already satisfied: jsonschema<4.0.0,>=3.2.0 in c:\\programdata\\anaconda3\\envs\\pythonteach38\\lib\\site-packages (from web3) (3.2.0)\n",
      "Requirement already satisfied: eth-typing<3.0.0,>=2.0.0 in c:\\programdata\\anaconda3\\envs\\pythonteach38\\lib\\site-packages (from web3) (2.2.2)\n",
      "Requirement already satisfied: hexbytes<1.0.0,>=0.1.0 in c:\\programdata\\anaconda3\\envs\\pythonteach38\\lib\\site-packages (from web3) (0.2.1)\n",
      "Requirement already satisfied: lru-dict<2.0.0,>=1.1.6 in c:\\programdata\\anaconda3\\envs\\pythonteach38\\lib\\site-packages (from web3) (1.1.6)\n",
      "Requirement already satisfied: eth-hash[pycryptodome]<1.0.0,>=0.2.0 in c:\\programdata\\anaconda3\\envs\\pythonteach38\\lib\\site-packages (from web3) (0.2.0)\n",
      "Requirement already satisfied: websockets<9.0.0,>=8.1.0 in c:\\programdata\\anaconda3\\envs\\pythonteach38\\lib\\site-packages (from web3) (8.1)\n",
      "Requirement already satisfied: requests<3.0.0,>=2.16.0 in c:\\programdata\\anaconda3\\envs\\pythonteach38\\lib\\site-packages (from web3) (2.24.0)\n",
      "Requirement already satisfied: pypiwin32>=223; platform_system == \"Windows\" in c:\\programdata\\anaconda3\\envs\\pythonteach38\\lib\\site-packages (from web3) (223)\n",
      "Requirement already satisfied: ipfshttpclient<1,>=0.4.13 in c:\\programdata\\anaconda3\\envs\\pythonteach38\\lib\\site-packages (from web3) (0.6.1)\n",
      "Requirement already satisfied: protobuf<4,>=3.10.0 in c:\\programdata\\anaconda3\\envs\\pythonteach38\\lib\\site-packages (from web3) (3.13.0)\n",
      "Requirement already satisfied: eth-abi<3.0.0,>=2.0.0b6 in c:\\programdata\\anaconda3\\envs\\pythonteach38\\lib\\site-packages (from web3) (2.1.1)\n",
      "Requirement already satisfied: eth-utils<2.0.0,>=1.9.5 in c:\\programdata\\anaconda3\\envs\\pythonteach38\\lib\\site-packages (from web3) (1.9.5)\n",
      "Requirement already satisfied: bitarray<1.3.0,>=1.2.1 in c:\\programdata\\anaconda3\\envs\\pythonteach38\\lib\\site-packages (from eth-account<0.6.0,>=0.5.3->web3) (1.2.2)\n",
      "Requirement already satisfied: eth-keys!=0.3.2,<0.4.0,>=0.2.1 in c:\\programdata\\anaconda3\\envs\\pythonteach38\\lib\\site-packages (from eth-account<0.6.0,>=0.5.3->web3) (0.3.3)\n",
      "Requirement already satisfied: eth-keyfile<0.6.0,>=0.5.0 in c:\\programdata\\anaconda3\\envs\\pythonteach38\\lib\\site-packages (from eth-account<0.6.0,>=0.5.3->web3) (0.5.1)\n",
      "Requirement already satisfied: rlp<3,>=1.0.0 in c:\\programdata\\anaconda3\\envs\\pythonteach38\\lib\\site-packages (from eth-account<0.6.0,>=0.5.3->web3) (2.0.0)\n",
      "Requirement already satisfied: eth-rlp<2,>=0.1.2 in c:\\programdata\\anaconda3\\envs\\pythonteach38\\lib\\site-packages (from eth-account<0.6.0,>=0.5.3->web3) (0.2.1)\n",
      "Requirement already satisfied: pyrsistent>=0.14.0 in c:\\programdata\\anaconda3\\envs\\pythonteach38\\lib\\site-packages (from jsonschema<4.0.0,>=3.2.0->web3) (0.16.0)\n",
      "Requirement already satisfied: attrs>=17.4.0 in c:\\programdata\\anaconda3\\envs\\pythonteach38\\lib\\site-packages (from jsonschema<4.0.0,>=3.2.0->web3) (19.3.0)\n",
      "Requirement already satisfied: setuptools in c:\\programdata\\anaconda3\\envs\\pythonteach38\\lib\\site-packages (from jsonschema<4.0.0,>=3.2.0->web3) (49.3.0.post20200809)\n",
      "Requirement already satisfied: six>=1.11.0 in c:\\programdata\\anaconda3\\envs\\pythonteach38\\lib\\site-packages (from jsonschema<4.0.0,>=3.2.0->web3) (1.15.0)\n",
      "Requirement already satisfied: pycryptodome<4,>=3.6.6; extra == \"pycryptodome\" in c:\\programdata\\anaconda3\\envs\\pythonteach38\\lib\\site-packages (from eth-hash[pycryptodome]<1.0.0,>=0.2.0->web3) (3.9.8)\n",
      "Requirement already satisfied: certifi>=2017.4.17 in c:\\programdata\\anaconda3\\envs\\pythonteach38\\lib\\site-packages (from requests<3.0.0,>=2.16.0->web3) (2020.6.20)\n",
      "Requirement already satisfied: idna<3,>=2.5 in c:\\programdata\\anaconda3\\envs\\pythonteach38\\lib\\site-packages (from requests<3.0.0,>=2.16.0->web3) (2.10)\n",
      "Requirement already satisfied: chardet<4,>=3.0.2 in c:\\programdata\\anaconda3\\envs\\pythonteach38\\lib\\site-packages (from requests<3.0.0,>=2.16.0->web3) (3.0.4)\n",
      "Requirement already satisfied: urllib3!=1.25.0,!=1.25.1,<1.26,>=1.21.1 in c:\\programdata\\anaconda3\\envs\\pythonteach38\\lib\\site-packages (from requests<3.0.0,>=2.16.0->web3) (1.25.10)\n",
      "Requirement already satisfied: pywin32>=223 in c:\\programdata\\anaconda3\\envs\\pythonteach38\\lib\\site-packages (from pypiwin32>=223; platform_system == \"Windows\"->web3) (227)\n",
      "Requirement already satisfied: multiaddr>=0.0.7 in c:\\programdata\\anaconda3\\envs\\pythonteach38\\lib\\site-packages (from ipfshttpclient<1,>=0.4.13->web3) (0.0.9)\n",
      "Requirement already satisfied: parsimonious<0.9.0,>=0.8.0 in c:\\programdata\\anaconda3\\envs\\pythonteach38\\lib\\site-packages (from eth-abi<3.0.0,>=2.0.0b6->web3) (0.8.1)\n",
      "Requirement already satisfied: cytoolz<1.0.0,>=0.10.1; implementation_name == \"cpython\" in c:\\programdata\\anaconda3\\envs\\pythonteach38\\lib\\site-packages (from eth-utils<2.0.0,>=1.9.5->web3) (0.10.1)\n",
      "Requirement already satisfied: base58 in c:\\programdata\\anaconda3\\envs\\pythonteach38\\lib\\site-packages (from multiaddr>=0.0.7->ipfshttpclient<1,>=0.4.13->web3) (2.0.1)\n",
      "Requirement already satisfied: netaddr in c:\\programdata\\anaconda3\\envs\\pythonteach38\\lib\\site-packages (from multiaddr>=0.0.7->ipfshttpclient<1,>=0.4.13->web3) (0.8.0)\n",
      "Requirement already satisfied: varint in c:\\programdata\\anaconda3\\envs\\pythonteach38\\lib\\site-packages (from multiaddr>=0.0.7->ipfshttpclient<1,>=0.4.13->web3) (1.0.2)\n",
      "Requirement already satisfied: toolz>=0.8.0 in c:\\programdata\\anaconda3\\envs\\pythonteach38\\lib\\site-packages (from cytoolz<1.0.0,>=0.10.1; implementation_name == \"cpython\"->eth-utils<2.0.0,>=1.9.5->web3) (0.10.0)\n"
     ]
    },
    {
     "name": "stderr",
     "output_type": "stream",
     "text": [
      "Consider installing rusty-rlp to improve pyrlp performance with a rust based backend\n"
     ]
    },
    {
     "data": {
      "text/plain": [
       "True"
      ]
     },
     "execution_count": 1,
     "metadata": {},
     "output_type": "execute_result"
    }
   ],
   "source": [
    "# 安裝 python web3\n",
    "!pip install web3\n",
    "from web3 import Web3\n",
    "\n",
    "# 安裝 Ganache\n",
    "# https://www.trufflesuite.com/ganache\n",
    "\n",
    "# 連結 Ganache\n",
    "w3 = Web3(Web3.HTTPProvider('http://127.0.0.1:7545'))\n",
    "\n",
    "# 確認是否有連上\n",
    "w3.isConnected()"
   ]
  },
  {
   "cell_type": "code",
   "execution_count": 2,
   "metadata": {},
   "outputs": [
    {
     "data": {
      "text/plain": [
       "['0x6cb14124FE638a22F55Eb6BB18Ba08eC07E11F63',\n",
       " '0xe8452E323D4AEa5927b631EeD26302308b7F301E',\n",
       " '0x3D33805fD6F3A926791F045276b6CA1B61725a80',\n",
       " '0x6BC66c4Dbe0Eb258a3876d51D656E33953FAf138',\n",
       " '0x7CF6c2f211429CC33B8882caB85260baeA723530',\n",
       " '0x5958b70696aCc024551Fb5436FF55cB76aB1cDAD',\n",
       " '0x84C56c45155F59bf8fa63e39B11AaCEb6C44e4CB',\n",
       " '0x05C71c4b29039777EDc9cAcadec2271a5953b9C6',\n",
       " '0x9702865988C916F042e5e3eB36e434eB71cF147e',\n",
       " '0x97a79173f7677ADcE79c38AB74Bb5b6B22bf86f6']"
      ]
     },
     "execution_count": 2,
     "metadata": {},
     "output_type": "execute_result"
    }
   ],
   "source": [
    "# 所有帳號\n",
    "w3.eth.accounts"
   ]
  },
  {
   "cell_type": "code",
   "execution_count": 3,
   "metadata": {},
   "outputs": [
    {
     "data": {
      "text/plain": [
       "10000000000000000000000"
      ]
     },
     "execution_count": 3,
     "metadata": {},
     "output_type": "execute_result"
    }
   ],
   "source": [
    "# 拿取 balance\n",
    "w3.eth.getBalance(w3.eth.accounts[0])"
   ]
  },
  {
   "cell_type": "code",
   "execution_count": 12,
   "metadata": {},
   "outputs": [
    {
     "data": {
      "text/plain": [
       "HexBytes('0x89475dc2126a4a195f4229f126236e8c3cdd30d213078d90560967b2602d6387')"
      ]
     },
     "execution_count": 12,
     "metadata": {},
     "output_type": "execute_result"
    }
   ],
   "source": [
    "# 產生交易區塊\n",
    "w3.eth.sendTransaction({'to': w3.eth.accounts[1], 'from': w3.eth.coinbase, 'value': 12345})"
   ]
  },
  {
   "cell_type": "code",
   "execution_count": 5,
   "metadata": {},
   "outputs": [
    {
     "data": {
      "text/plain": [
       "9999999579999999987655"
      ]
     },
     "execution_count": 5,
     "metadata": {},
     "output_type": "execute_result"
    }
   ],
   "source": [
    "# 拿取 balance\n",
    "w3.eth.getBalance(w3.eth.accounts[0])"
   ]
  },
  {
   "cell_type": "code",
   "execution_count": 9,
   "metadata": {},
   "outputs": [
    {
     "name": "stdout",
     "output_type": "stream",
     "text": [
      "AttributeDict({'number': 1, 'hash': HexBytes('0x79dc3a013067e5bb25a499ceae4ceaac25be36d22f6068728a027273a5371476'), 'parentHash': HexBytes('0x15ac93792515df8c65d0c133cb9b0cb5873f5c9119c4342a79d9a6dfa6037173'), 'mixHash': HexBytes('0x0000000000000000000000000000000000000000000000000000000000000000'), 'nonce': HexBytes('0x0000000000000000'), 'sha3Uncles': HexBytes('0x1dcc4de8dec75d7aab85b567b6ccd41ad312451b948a7413f0a142fd40d49347'), 'logsBloom': HexBytes('0x00000000000000000000000000000000000000000000000000000000000000000000000000000000000000000000000000000000000000000000000000000000000000000000000000000000000000000000000000000000000000000000000000000000000000000000000000000000000000000000000000000000000000000000000000000000000000000000000000000000000000000000000000000000000000000000000000000000000000000000000000000000000000000000000000000000000000000000000000000000000000000000000000000000000000000000000000000000000000000000000000000000000000000000000000000000'), 'transactionsRoot': HexBytes('0x9929d1a1af09149c76116c13c7a52d3dd59db5b3bd53fec84a19dbfad82ba63d'), 'stateRoot': HexBytes('0xef5bbb7848824665b2b54b7063fb0d05469f3bcdb763c250ca211828bbda032f'), 'receiptsRoot': HexBytes('0x056b23fbba480696b65fe5a59b8f2148a1299103c4f57df839233af2cf4ca2d2'), 'miner': '0x0000000000000000000000000000000000000000', 'difficulty': 0, 'totalDifficulty': 0, 'extraData': HexBytes('0x'), 'size': 1000, 'gasLimit': 6721975, 'gasUsed': 21000, 'timestamp': 1603106124, 'transactions': [HexBytes('0xdd00e3abc7947643d4b50d56756d41ad12830c246c78e472bf1b70b199162653')], 'uncles': []})\n"
     ]
    }
   ],
   "source": [
    "# 拿最新的區塊\n",
    "latest_block = w3.eth.getBlock('latest')\n",
    "\n",
    "print(latest_block)"
   ]
  },
  {
   "cell_type": "code",
   "execution_count": 10,
   "metadata": {},
   "outputs": [
    {
     "name": "stdout",
     "output_type": "stream",
     "text": [
      "AttributeDict({'number': 1, 'hash': HexBytes('0x79dc3a013067e5bb25a499ceae4ceaac25be36d22f6068728a027273a5371476'), 'parentHash': HexBytes('0x15ac93792515df8c65d0c133cb9b0cb5873f5c9119c4342a79d9a6dfa6037173'), 'mixHash': HexBytes('0x0000000000000000000000000000000000000000000000000000000000000000'), 'nonce': HexBytes('0x0000000000000000'), 'sha3Uncles': HexBytes('0x1dcc4de8dec75d7aab85b567b6ccd41ad312451b948a7413f0a142fd40d49347'), 'logsBloom': HexBytes('0x00000000000000000000000000000000000000000000000000000000000000000000000000000000000000000000000000000000000000000000000000000000000000000000000000000000000000000000000000000000000000000000000000000000000000000000000000000000000000000000000000000000000000000000000000000000000000000000000000000000000000000000000000000000000000000000000000000000000000000000000000000000000000000000000000000000000000000000000000000000000000000000000000000000000000000000000000000000000000000000000000000000000000000000000000000000'), 'transactionsRoot': HexBytes('0x9929d1a1af09149c76116c13c7a52d3dd59db5b3bd53fec84a19dbfad82ba63d'), 'stateRoot': HexBytes('0xef5bbb7848824665b2b54b7063fb0d05469f3bcdb763c250ca211828bbda032f'), 'receiptsRoot': HexBytes('0x056b23fbba480696b65fe5a59b8f2148a1299103c4f57df839233af2cf4ca2d2'), 'miner': '0x0000000000000000000000000000000000000000', 'difficulty': 0, 'totalDifficulty': 0, 'extraData': HexBytes('0x'), 'size': 1000, 'gasLimit': 6721975, 'gasUsed': 21000, 'timestamp': 1603106124, 'transactions': [HexBytes('0xdd00e3abc7947643d4b50d56756d41ad12830c246c78e472bf1b70b199162653')], 'uncles': []})\n"
     ]
    }
   ],
   "source": [
    "# 拿區塊\n",
    "block_hash = latest_block.hash\n",
    "block = w3.eth.getBlock(block_hash)\n",
    "print(block)"
   ]
  },
  {
   "cell_type": "code",
   "execution_count": 13,
   "metadata": {},
   "outputs": [
    {
     "data": {
      "text/plain": [
       "2"
      ]
     },
     "execution_count": 13,
     "metadata": {},
     "output_type": "execute_result"
    }
   ],
   "source": [
    "# 有幾個區塊\n",
    "w3.eth.blockNumber"
   ]
  },
  {
   "cell_type": "code",
   "execution_count": 14,
   "metadata": {},
   "outputs": [
    {
     "data": {
      "text/plain": [
       "AttributeDict({'hash': HexBytes('0xdd00e3abc7947643d4b50d56756d41ad12830c246c78e472bf1b70b199162653'),\n",
       " 'nonce': 0,\n",
       " 'blockHash': HexBytes('0x79dc3a013067e5bb25a499ceae4ceaac25be36d22f6068728a027273a5371476'),\n",
       " 'blockNumber': 1,\n",
       " 'transactionIndex': 0,\n",
       " 'from': '0x6cb14124FE638a22F55Eb6BB18Ba08eC07E11F63',\n",
       " 'to': '0xe8452E323D4AEa5927b631EeD26302308b7F301E',\n",
       " 'value': 12345,\n",
       " 'gas': 121000,\n",
       " 'gasPrice': 20000000000,\n",
       " 'input': '0x',\n",
       " 'v': 37,\n",
       " 'r': HexBytes('0xf90d51d5f8d41a4b2024b3ff44912cb43d75fb1af66667a91116a00f13599059'),\n",
       " 's': HexBytes('0x09f0c7fa65893eb30fe329958d7d31e5f1b2419ffcd6939b4cd33f8f8e42db82')})"
      ]
     },
     "execution_count": 14,
     "metadata": {},
     "output_type": "execute_result"
    }
   ],
   "source": [
    "# 拿取交易資料\n",
    "tx_hash = block.transactions[0]\n",
    "w3.eth.getTransaction(tx_hash)"
   ]
  },
  {
   "cell_type": "markdown",
   "metadata": {},
   "source": [
    "編譯 Solidity\n",
    "============"
   ]
  },
  {
   "cell_type": "code",
   "execution_count": 17,
   "metadata": {},
   "outputs": [],
   "source": [
    "# 定義 sol 檔內容及檔名\n",
    "# Greeter.sol\n",
    "sol_name = \"Greeter.sol\"\n",
    "sol_content = '''\n",
    "pragma solidity ^0.7.3;\n",
    "\n",
    "contract Greeter {\n",
    "  string public greeting;\n",
    "\n",
    "  constructor() public {\n",
    "      greeting = 'Hello~';\n",
    "  }\n",
    "\n",
    "  function setGreeting(string memory _greeting) public {\n",
    "      greeting = _greeting;\n",
    "  }\n",
    "\n",
    "  function greet() view public returns (string memory) {\n",
    "      return greeting;\n",
    "  }\n",
    "}\n",
    "'''"
   ]
  },
  {
   "cell_type": "code",
   "execution_count": 15,
   "metadata": {},
   "outputs": [
    {
     "name": "stdout",
     "output_type": "stream",
     "text": [
      "Looking in indexes: https://pypi.nuwainfo.com/nuwa/dev/+simple/\n",
      "Requirement already satisfied: py-solc in c:\\programdata\\anaconda3\\envs\\pythonteach38\\lib\\site-packages (3.2.0)\n",
      "Requirement already satisfied: semantic-version>=2.6.0 in c:\\programdata\\anaconda3\\envs\\pythonteach38\\lib\\site-packages (from py-solc) (2.8.5)\n"
     ]
    }
   ],
   "source": [
    "# 設定 sol 編譯環境\n",
    "# linus 可參考 https://solidity.readthedocs.io/en/latest/installing-solidity.html#versioning\n",
    "# 我這邊採用 https://github.com/ethereum/solidity/releases 下載 solc-windows.exe，或許 mac 可下載 solc-macos 試試\n",
    "import os\n",
    "os.environ[\"SOLC_BINARY\"] = \"solc-windows.exe\" # 設定 solc-windows.exe 位置，mac 或許是 solc-macos\n",
    "\n",
    "# 安裝編譯套件\n",
    "# https://github.com/ethereum/py-solc\n",
    "!pip install py-solc\n",
    "from solc import compile_standard \n",
    "\n",
    "# 定義編譯 Function\n",
    "def compile_sol(name, content):\n",
    "    data = {\n",
    "        \"language\": \"Solidity\",\n",
    "        \"sources\": {\n",
    "            name: {\n",
    "                \"content\": content\n",
    "            },\n",
    "        },\n",
    "        \"settings\":\n",
    "            {\n",
    "                \"outputSelection\": {\n",
    "                    \"*\": {\n",
    "                        \"*\": [\n",
    "                            \"metadata\", \"evm.bytecode\"\n",
    "                            , \"evm.bytecode.sourceMap\"\n",
    "                        ]\n",
    "                    }\n",
    "                }\n",
    "            }\n",
    "    }\n",
    "    \n",
    "    compiled_sol = compile_standard(data)\n",
    "    return compiled_sol"
   ]
  },
  {
   "cell_type": "code",
   "execution_count": 19,
   "metadata": {},
   "outputs": [
    {
     "name": "stdout",
     "output_type": "stream",
     "text": [
      "{'contracts': {'Greeter.sol': {'Greeter': {'evm': {'bytecode': {'generatedSources': [], 'linkReferences': {}, 'object': '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', 'opcodes': 'PUSH1 0x80 PUSH1 0x40 MSTORE CALLVALUE DUP1 ISZERO PUSH2 0x10 JUMPI PUSH1 0x0 DUP1 REVERT JUMPDEST POP PUSH1 0x40 MLOAD DUP1 PUSH1 0x40 ADD PUSH1 0x40 MSTORE DUP1 PUSH1 0x6 DUP2 MSTORE PUSH1 0x20 ADD PUSH32 0x48656C6C6F7E0000000000000000000000000000000000000000000000000000 DUP2 MSTORE POP PUSH1 0x0 SWAP1 DUP1 MLOAD SWAP1 PUSH1 0x20 ADD SWAP1 PUSH2 0x5C SWAP3 SWAP2 SWAP1 PUSH2 0x62 JUMP JUMPDEST POP PUSH2 0xFF JUMP JUMPDEST DUP3 DUP1 SLOAD PUSH1 0x1 DUP2 PUSH1 0x1 AND ISZERO PUSH2 0x100 MUL SUB AND PUSH1 0x2 SWAP1 DIV SWAP1 PUSH1 0x0 MSTORE PUSH1 0x20 PUSH1 0x0 KECCAK256 SWAP1 PUSH1 0x1F ADD PUSH1 0x20 SWAP1 DIV DUP2 ADD SWAP3 DUP3 PUSH1 0x1F LT PUSH2 0xA3 JUMPI DUP1 MLOAD PUSH1 0xFF NOT AND DUP4 DUP1 ADD OR DUP6 SSTORE PUSH2 0xD1 JUMP JUMPDEST DUP3 DUP1 ADD PUSH1 0x1 ADD DUP6 SSTORE DUP3 ISZERO PUSH2 0xD1 JUMPI SWAP2 DUP3 ADD JUMPDEST DUP3 DUP2 GT ISZERO PUSH2 0xD0 JUMPI DUP3 MLOAD DUP3 SSTORE SWAP2 PUSH1 0x20 ADD SWAP2 SWAP1 PUSH1 0x1 ADD SWAP1 PUSH2 0xB5 JUMP JUMPDEST JUMPDEST POP SWAP1 POP PUSH2 0xDE SWAP2 SWAP1 PUSH2 0xE2 JUMP JUMPDEST POP SWAP1 JUMP JUMPDEST JUMPDEST DUP1 DUP3 GT ISZERO PUSH2 0xFB JUMPI PUSH1 0x0 DUP2 PUSH1 0x0 SWAP1 SSTORE POP PUSH1 0x1 ADD PUSH2 0xE3 JUMP JUMPDEST POP SWAP1 JUMP JUMPDEST PUSH2 0x434 DUP1 PUSH2 0x10E PUSH1 0x0 CODECOPY PUSH1 0x0 RETURN INVALID PUSH1 0x80 PUSH1 0x40 MSTORE CALLVALUE DUP1 ISZERO PUSH2 0x10 JUMPI PUSH1 0x0 DUP1 REVERT JUMPDEST POP PUSH1 0x4 CALLDATASIZE LT PUSH2 0x41 JUMPI PUSH1 0x0 CALLDATALOAD PUSH1 0xE0 SHR DUP1 PUSH4 0xA4136862 EQ PUSH2 0x46 JUMPI DUP1 PUSH4 0xCFAE3217 EQ PUSH2 0x101 JUMPI DUP1 PUSH4 0xEF690CC0 EQ PUSH2 0x184 JUMPI JUMPDEST PUSH1 0x0 DUP1 REVERT JUMPDEST PUSH2 0xFF PUSH1 0x4 DUP1 CALLDATASIZE SUB PUSH1 0x20 DUP2 LT ISZERO PUSH2 0x5C JUMPI PUSH1 0x0 DUP1 REVERT JUMPDEST DUP2 ADD SWAP1 DUP1 DUP1 CALLDATALOAD SWAP1 PUSH1 0x20 ADD SWAP1 PUSH5 0x100000000 DUP2 GT ISZERO PUSH2 0x79 JUMPI PUSH1 0x0 DUP1 REVERT JUMPDEST DUP3 ADD DUP4 PUSH1 0x20 DUP3 ADD GT ISZERO PUSH2 0x8B JUMPI PUSH1 0x0 DUP1 REVERT JUMPDEST DUP1 CALLDATALOAD SWAP1 PUSH1 0x20 ADD SWAP2 DUP5 PUSH1 0x1 DUP4 MUL DUP5 ADD GT PUSH5 0x100000000 DUP4 GT OR ISZERO PUSH2 0xAD JUMPI PUSH1 0x0 DUP1 REVERT JUMPDEST SWAP2 SWAP1 DUP1 DUP1 PUSH1 0x1F ADD PUSH1 0x20 DUP1 SWAP2 DIV MUL PUSH1 0x20 ADD PUSH1 0x40 MLOAD SWAP1 DUP2 ADD PUSH1 0x40 MSTORE DUP1 SWAP4 SWAP3 SWAP2 SWAP1 DUP2 DUP2 MSTORE PUSH1 0x20 ADD DUP4 DUP4 DUP1 DUP3 DUP5 CALLDATACOPY PUSH1 0x0 DUP2 DUP5 ADD MSTORE PUSH1 0x1F NOT PUSH1 0x1F DUP3 ADD AND SWAP1 POP DUP1 DUP4 ADD SWAP3 POP POP POP POP POP POP POP SWAP2 SWAP3 SWAP2 SWAP3 SWAP1 POP POP POP PUSH2 0x207 JUMP JUMPDEST STOP JUMPDEST PUSH2 0x109 PUSH2 0x221 JUMP JUMPDEST PUSH1 0x40 MLOAD DUP1 DUP1 PUSH1 0x20 ADD DUP3 DUP2 SUB DUP3 MSTORE DUP4 DUP2 DUP2 MLOAD DUP2 MSTORE PUSH1 0x20 ADD SWAP2 POP DUP1 MLOAD SWAP1 PUSH1 0x20 ADD SWAP1 DUP1 DUP4 DUP4 PUSH1 0x0 JUMPDEST DUP4 DUP2 LT ISZERO PUSH2 0x149 JUMPI DUP1 DUP3 ADD MLOAD DUP2 DUP5 ADD MSTORE PUSH1 0x20 DUP2 ADD SWAP1 POP PUSH2 0x12E JUMP JUMPDEST POP POP POP POP SWAP1 POP SWAP1 DUP2 ADD SWAP1 PUSH1 0x1F AND DUP1 ISZERO PUSH2 0x176 JUMPI DUP1 DUP3 SUB DUP1 MLOAD PUSH1 0x1 DUP4 PUSH1 0x20 SUB PUSH2 0x100 EXP SUB NOT AND DUP2 MSTORE PUSH1 0x20 ADD SWAP2 POP JUMPDEST POP SWAP3 POP POP POP PUSH1 0x40 MLOAD DUP1 SWAP2 SUB SWAP1 RETURN JUMPDEST PUSH2 0x18C PUSH2 0x2C3 JUMP JUMPDEST PUSH1 0x40 MLOAD DUP1 DUP1 PUSH1 0x20 ADD DUP3 DUP2 SUB DUP3 MSTORE DUP4 DUP2 DUP2 MLOAD DUP2 MSTORE PUSH1 0x20 ADD SWAP2 POP DUP1 MLOAD SWAP1 PUSH1 0x20 ADD SWAP1 DUP1 DUP4 DUP4 PUSH1 0x0 JUMPDEST DUP4 DUP2 LT ISZERO PUSH2 0x1CC JUMPI DUP1 DUP3 ADD MLOAD DUP2 DUP5 ADD MSTORE PUSH1 0x20 DUP2 ADD SWAP1 POP PUSH2 0x1B1 JUMP JUMPDEST POP POP POP POP SWAP1 POP SWAP1 DUP2 ADD SWAP1 PUSH1 0x1F AND DUP1 ISZERO PUSH2 0x1F9 JUMPI DUP1 DUP3 SUB DUP1 MLOAD PUSH1 0x1 DUP4 PUSH1 0x20 SUB PUSH2 0x100 EXP SUB NOT AND DUP2 MSTORE PUSH1 0x20 ADD SWAP2 POP JUMPDEST POP SWAP3 POP POP POP PUSH1 0x40 MLOAD DUP1 SWAP2 SUB SWAP1 RETURN JUMPDEST DUP1 PUSH1 0x0 SWAP1 DUP1 MLOAD SWAP1 PUSH1 0x20 ADD SWAP1 PUSH2 0x21D SWAP3 SWAP2 SWAP1 PUSH2 0x361 JUMP JUMPDEST POP POP JUMP JUMPDEST PUSH1 0x60 PUSH1 0x0 DUP1 SLOAD PUSH1 0x1 DUP2 PUSH1 0x1 AND ISZERO PUSH2 0x100 MUL SUB AND PUSH1 0x2 SWAP1 DIV DUP1 PUSH1 0x1F ADD PUSH1 0x20 DUP1 SWAP2 DIV MUL PUSH1 0x20 ADD PUSH1 0x40 MLOAD SWAP1 DUP2 ADD PUSH1 0x40 MSTORE DUP1 SWAP3 SWAP2 SWAP1 DUP2 DUP2 MSTORE PUSH1 0x20 ADD DUP3 DUP1 SLOAD PUSH1 0x1 DUP2 PUSH1 0x1 AND ISZERO PUSH2 0x100 MUL SUB AND PUSH1 0x2 SWAP1 DIV DUP1 ISZERO PUSH2 0x2B9 JUMPI DUP1 PUSH1 0x1F LT PUSH2 0x28E JUMPI PUSH2 0x100 DUP1 DUP4 SLOAD DIV MUL DUP4 MSTORE SWAP2 PUSH1 0x20 ADD SWAP2 PUSH2 0x2B9 JUMP JUMPDEST DUP3 ADD SWAP2 SWAP1 PUSH1 0x0 MSTORE PUSH1 0x20 PUSH1 0x0 KECCAK256 SWAP1 JUMPDEST DUP2 SLOAD DUP2 MSTORE SWAP1 PUSH1 0x1 ADD SWAP1 PUSH1 0x20 ADD DUP1 DUP4 GT PUSH2 0x29C JUMPI DUP3 SWAP1 SUB PUSH1 0x1F AND DUP3 ADD SWAP2 JUMPDEST POP POP POP POP POP SWAP1 POP SWAP1 JUMP JUMPDEST PUSH1 0x0 DUP1 SLOAD PUSH1 0x1 DUP2 PUSH1 0x1 AND ISZERO PUSH2 0x100 MUL SUB AND PUSH1 0x2 SWAP1 DIV DUP1 PUSH1 0x1F ADD PUSH1 0x20 DUP1 SWAP2 DIV MUL PUSH1 0x20 ADD PUSH1 0x40 MLOAD SWAP1 DUP2 ADD PUSH1 0x40 MSTORE DUP1 SWAP3 SWAP2 SWAP1 DUP2 DUP2 MSTORE PUSH1 0x20 ADD DUP3 DUP1 SLOAD PUSH1 0x1 DUP2 PUSH1 0x1 AND ISZERO PUSH2 0x100 MUL SUB AND PUSH1 0x2 SWAP1 DIV DUP1 ISZERO PUSH2 0x359 JUMPI DUP1 PUSH1 0x1F LT PUSH2 0x32E JUMPI PUSH2 0x100 DUP1 DUP4 SLOAD DIV MUL DUP4 MSTORE SWAP2 PUSH1 0x20 ADD SWAP2 PUSH2 0x359 JUMP JUMPDEST DUP3 ADD SWAP2 SWAP1 PUSH1 0x0 MSTORE PUSH1 0x20 PUSH1 0x0 KECCAK256 SWAP1 JUMPDEST DUP2 SLOAD DUP2 MSTORE SWAP1 PUSH1 0x1 ADD SWAP1 PUSH1 0x20 ADD DUP1 DUP4 GT PUSH2 0x33C JUMPI DUP3 SWAP1 SUB PUSH1 0x1F AND DUP3 ADD SWAP2 JUMPDEST POP POP POP POP POP DUP2 JUMP JUMPDEST DUP3 DUP1 SLOAD PUSH1 0x1 DUP2 PUSH1 0x1 AND ISZERO PUSH2 0x100 MUL SUB AND PUSH1 0x2 SWAP1 DIV SWAP1 PUSH1 0x0 MSTORE PUSH1 0x20 PUSH1 0x0 KECCAK256 SWAP1 PUSH1 0x1F ADD PUSH1 0x20 SWAP1 DIV DUP2 ADD SWAP3 DUP3 PUSH1 0x1F LT PUSH2 0x3A2 JUMPI DUP1 MLOAD PUSH1 0xFF NOT AND DUP4 DUP1 ADD OR DUP6 SSTORE PUSH2 0x3D0 JUMP JUMPDEST DUP3 DUP1 ADD PUSH1 0x1 ADD DUP6 SSTORE DUP3 ISZERO PUSH2 0x3D0 JUMPI SWAP2 DUP3 ADD JUMPDEST DUP3 DUP2 GT ISZERO PUSH2 0x3CF JUMPI DUP3 MLOAD DUP3 SSTORE SWAP2 PUSH1 0x20 ADD SWAP2 SWAP1 PUSH1 0x1 ADD SWAP1 PUSH2 0x3B4 JUMP JUMPDEST JUMPDEST POP SWAP1 POP PUSH2 0x3DD SWAP2 SWAP1 PUSH2 0x3E1 JUMP JUMPDEST POP SWAP1 JUMP JUMPDEST JUMPDEST DUP1 DUP3 GT ISZERO PUSH2 0x3FA JUMPI PUSH1 0x0 DUP2 PUSH1 0x0 SWAP1 SSTORE POP PUSH1 0x1 ADD PUSH2 0x3E2 JUMP JUMPDEST POP SWAP1 JUMP INVALID LOG2 PUSH5 0x6970667358 0x22 SLT KECCAK256 MUL 0xED CODESIZE 0xCF EXP LOG2 GASPRICE 0x4A PUSH16 0xF38EBC96F978BCDABBBE2632BEE62000 0xD2 PUSH9 0x7045B67D2964736F6C PUSH4 0x43000703 STOP CALLER ', 'sourceMap': '26:278:0:-:0;;;74:53;;;;;;;;;;103:19;;;;;;;;;;;;;;;;;:8;:19;;;;;;;;;;;;:::i;:::-;;26:278;;;;;;;;;;;;;;;;;;;;;;;;;;;;;;;;;;;;;;;;;;;;;;;;;;;;;;;;;;;;;;;;;;;;;;;;;;;;;;;;;;;;;;;;;;;;;;;;:::i;:::-;;;:::o;:::-;;;;;;;;;;;;;;;;;;;;;:::o;:::-;;;;;;;'}}, 'metadata': '{\"compiler\":{\"version\":\"0.7.3+commit.9bfce1f6\"},\"language\":\"Solidity\",\"output\":{\"abi\":[{\"inputs\":[],\"stateMutability\":\"nonpayable\",\"type\":\"constructor\"},{\"inputs\":[],\"name\":\"greet\",\"outputs\":[{\"internalType\":\"string\",\"name\":\"\",\"type\":\"string\"}],\"stateMutability\":\"view\",\"type\":\"function\"},{\"inputs\":[],\"name\":\"greeting\",\"outputs\":[{\"internalType\":\"string\",\"name\":\"\",\"type\":\"string\"}],\"stateMutability\":\"view\",\"type\":\"function\"},{\"inputs\":[{\"internalType\":\"string\",\"name\":\"_greeting\",\"type\":\"string\"}],\"name\":\"setGreeting\",\"outputs\":[],\"stateMutability\":\"nonpayable\",\"type\":\"function\"}],\"devdoc\":{\"kind\":\"dev\",\"methods\":{},\"version\":1},\"userdoc\":{\"kind\":\"user\",\"methods\":{},\"version\":1}},\"settings\":{\"compilationTarget\":{\"Greeter.sol\":\"Greeter\"},\"evmVersion\":\"istanbul\",\"libraries\":{},\"metadata\":{\"bytecodeHash\":\"ipfs\"},\"optimizer\":{\"enabled\":false,\"runs\":200},\"remappings\":[]},\"sources\":{\"Greeter.sol\":{\"keccak256\":\"0x45325f5961e213a68300d9c782966bd8ac26f0fc70cd1acf088b217256481225\",\"urls\":[\"bzz-raw://051662c699f81dacdd6710287e512bef6a51633a4a99dca018fa2714e1b00a7e\",\"dweb:/ipfs/QmRYCpC6WP59pwauKmxcHz9HgxFXg6D2JTgTUaMo9hUwBs\"]}},\"version\":1}'}}}, 'errors': [{'component': 'general', 'errorCode': '1878', 'formattedMessage': 'Greeter.sol: Warning: SPDX license identifier not provided in source file. Before publishing, consider adding a comment containing \"SPDX-License-Identifier: <SPDX-License>\" to each source file. Use \"SPDX-License-Identifier: UNLICENSED\" for non-open-source code. Please see https://spdx.org for more information.\\n', 'message': 'SPDX license identifier not provided in source file. Before publishing, consider adding a comment containing \"SPDX-License-Identifier: <SPDX-License>\" to each source file. Use \"SPDX-License-Identifier: UNLICENSED\" for non-open-source code. Please see https://spdx.org for more information.', 'severity': 'warning', 'sourceLocation': {'end': -1, 'file': 'Greeter.sol', 'start': -1}, 'type': 'Warning'}, {'component': 'general', 'errorCode': '2462', 'formattedMessage': 'Greeter.sol:7:3: Warning: Visibility for constructor is ignored. If you want the contract to be non-deployable, making it \"abstract\" is sufficient.\\n  constructor() public {\\n  ^ (Relevant source part starts here and spans across multiple lines).\\n', 'message': 'Visibility for constructor is ignored. If you want the contract to be non-deployable, making it \"abstract\" is sufficient.', 'severity': 'warning', 'sourceLocation': {'end': 127, 'file': 'Greeter.sol', 'start': 74}, 'type': 'Warning'}], 'sources': {'Greeter.sol': {'id': 0}}}\n"
     ]
    }
   ],
   "source": [
    "# 執行編譯\n",
    "compiled_sol = compile_sol(sol_name, sol_content)\n",
    "\n",
    "print(compiled_sol)"
   ]
  },
  {
   "cell_type": "code",
   "execution_count": 20,
   "metadata": {},
   "outputs": [
    {
     "name": "stdout",
     "output_type": "stream",
     "text": [
      "[{'inputs': [], 'stateMutability': 'nonpayable', 'type': 'constructor'}, {'inputs': [], 'name': 'greet', 'outputs': [{'internalType': 'string', 'name': '', 'type': 'string'}], 'stateMutability': 'view', 'type': 'function'}, {'inputs': [], 'name': 'greeting', 'outputs': [{'internalType': 'string', 'name': '', 'type': 'string'}], 'stateMutability': 'view', 'type': 'function'}, {'inputs': [{'internalType': 'string', 'name': '_greeting', 'type': 'string'}], 'name': 'setGreeting', 'outputs': [], 'stateMutability': 'nonpayable', 'type': 'function'}]\n"
     ]
    }
   ],
   "source": [
    "# 從編譯好的 sol 內取出資料，組出 python contract 物件\n",
    "import json\n",
    "\n",
    "bytecode = compiled_sol['contracts']['Greeter.sol']['Greeter']['evm']['bytecode']['object']\n",
    "abi = json.loads(compiled_sol['contracts']['Greeter.sol']['Greeter']['metadata'])['output']['abi']\n",
    "\n",
    "print(abi)\n",
    "Greeter = w3.eth.contract(abi=abi, bytecode=bytecode)"
   ]
  },
  {
   "cell_type": "code",
   "execution_count": 21,
   "metadata": {},
   "outputs": [],
   "source": [
    "#設定預設帳號\n",
    "w3.eth.defaultAccount = w3.eth.accounts[0]\n",
    "    \n",
    "#提交合約，回傳交易 hash(tx hash)\n",
    "tx_hash = Greeter.constructor().transact()"
   ]
  },
  {
   "cell_type": "code",
   "execution_count": 23,
   "metadata": {},
   "outputs": [
    {
     "name": "stdout",
     "output_type": "stream",
     "text": [
      "b'\\x88j\\x9aR\\x98\\xbb\\xa7\\xb6\\x0fZ\\xdfr\\x9b\\x9e\\xf50\\xb1\\x0c\\x01lk\\xdbS\\x1f\\\\Q%Z6Z\\xdaX'\n"
     ]
    },
    {
     "data": {
      "text/plain": [
       "'0x886a9a5298bba7b60f5adf729b9ef530b10c016c6bdb531f5c51255a365ada58'"
      ]
     },
     "execution_count": 23,
     "metadata": {},
     "output_type": "execute_result"
    }
   ],
   "source": [
    "print(tx_hash)\n",
    "\n",
    "Web3.toHex(tx_hash)"
   ]
  },
  {
   "cell_type": "code",
   "execution_count": 24,
   "metadata": {},
   "outputs": [],
   "source": [
    "# Wait for the transaction to be mined, and get the transaction receipt\n",
    "tx_receipt = w3.eth.waitForTransactionReceipt(tx_hash)"
   ]
  },
  {
   "cell_type": "code",
   "execution_count": 134,
   "metadata": {},
   "outputs": [
    {
     "name": "stdout",
     "output_type": "stream",
     "text": [
      "AttributeDict({'transactionHash': HexBytes('0xdb1bd8d4feda729517970303772f86652eec5842524809d0f138366b0365d720'), 'transactionIndex': 0, 'blockHash': HexBytes('0xe9dca8f6e7125c76c76e29158331d8c019c298db8ed3e7c7faf83e3bf8307ffd'), 'blockNumber': 4, 'from': '0x7863646FB1C5cB9239E2b8BE9187b3443958c943', 'to': None, 'gasUsed': 310002, 'cumulativeGasUsed': 310002, 'contractAddress': '0x389832547D18D6BD5a630BbE9e1a12411f2e859d', 'logs': [], 'status': 1, 'logsBloom': HexBytes('0x00000000000000000000000000000000000000000000000000000000000000000000000000000000000000000000000000000000000000000000000000000000000000000000000000000000000000000000000000000000000000000000000000000000000000000000000000000000000000000000000000000000000000000000000000000000000000000000000000000000000000000000000000000000000000000000000000000000000000000000000000000000000000000000000000000000000000000000000000000000000000000000000000000000000000000000000000000000000000000000000000000000000000000000000000000000')})\n"
     ]
    }
   ],
   "source": [
    "print(tx_receipt)"
   ]
  },
  {
   "cell_type": "code",
   "execution_count": 25,
   "metadata": {},
   "outputs": [],
   "source": [
    "# 拿取合約\n",
    "greeter = w3.eth.contract(\n",
    "     address=tx_receipt.contractAddress,\n",
    "     abi=abi\n",
    ")"
   ]
  },
  {
   "cell_type": "code",
   "execution_count": 26,
   "metadata": {},
   "outputs": [
    {
     "data": {
      "text/plain": [
       "'Hello~'"
      ]
     },
     "execution_count": 26,
     "metadata": {},
     "output_type": "execute_result"
    }
   ],
   "source": [
    "# 執行合約\n",
    "greeter.functions.greet().call()"
   ]
  },
  {
   "cell_type": "code",
   "execution_count": 27,
   "metadata": {},
   "outputs": [
    {
     "data": {
      "text/plain": [
       "'Lavender'"
      ]
     },
     "execution_count": 27,
     "metadata": {},
     "output_type": "execute_result"
    }
   ],
   "source": [
    "tx_hash = greeter.functions.setGreeting('Lavender').transact()\n",
    "tx_receipt = w3.eth.waitForTransactionReceipt(tx_hash)\n",
    "greeter.functions.greet().call()"
   ]
  },
  {
   "cell_type": "code",
   "execution_count": 138,
   "metadata": {},
   "outputs": [
    {
     "name": "stdout",
     "output_type": "stream",
     "text": [
      "AttributeDict({'transactionHash': HexBytes('0xfb7713be5bb483355cc79520cf9526352ebba726005c22b0983a177a83495f6f'), 'transactionIndex': 0, 'blockHash': HexBytes('0xf821abf03ef0ed9f2e9d5d26a6a3089127624a78c35ddb25aeda673ddd4d2aa0'), 'blockNumber': 5, 'from': '0x7863646FB1C5cB9239E2b8BE9187b3443958c943', 'to': '0x389832547D18D6BD5a630BbE9e1a12411f2e859d', 'gasUsed': 29088, 'cumulativeGasUsed': 29088, 'contractAddress': None, 'logs': [], 'status': 1, 'logsBloom': HexBytes('0x00000000000000000000000000000000000000000000000000000000000000000000000000000000000000000000000000000000000000000000000000000000000000000000000000000000000000000000000000000000000000000000000000000000000000000000000000000000000000000000000000000000000000000000000000000000000000000000000000000000000000000000000000000000000000000000000000000000000000000000000000000000000000000000000000000000000000000000000000000000000000000000000000000000000000000000000000000000000000000000000000000000000000000000000000000000')})\n"
     ]
    }
   ],
   "source": [
    "print(tx_receipt)"
   ]
  },
  {
   "cell_type": "markdown",
   "metadata": {},
   "source": [
    "範例 2\n",
    "=========="
   ]
  },
  {
   "cell_type": "code",
   "execution_count": 30,
   "metadata": {},
   "outputs": [],
   "source": [
    "sol_name = \"NCCUBank.sol\"\n",
    "sol_content = '''\n",
    "pragma solidity ^0.7.3;\n",
    "\n",
    "contract NCCUBank {\n",
    "    \n",
    "    //餘額 帳號=>數字\n",
    "    mapping(address => uint) balances;\n",
    "    \n",
    "    //存款事件\n",
    "    event DepositEvent(address from, uint value, uint timestamp);\n",
    "    //提款事件\n",
    "    event WithdrawEvent(address from, uint value, uint timestamp);\n",
    "    //轉帳事件\n",
    "    event TransferEvent(address from, address to, uint value, uint timestamp);\n",
    "    \n",
    "    //存款\n",
    "    function Deposit(uint value) public {\n",
    "        //餘額增加\n",
    "        balances[msg.sender] += value;\n",
    "        //觸發存款事件\n",
    "        emit DepositEvent(msg.sender, value, block.timestamp);\n",
    "    }\n",
    "    \n",
    "    //提款\n",
    "    function Withdraw(uint value) public {\n",
    "        //require 餘額 比 要提的錢 多\n",
    "        require(balances[msg.sender] >= value);\n",
    "        //餘額減少\n",
    "        balances[msg.sender] -= value;\n",
    "        //觸發提款事件\n",
    "        emit WithdrawEvent(msg.sender, value, block.timestamp);\n",
    "    }\n",
    "    \n",
    "    // 轉帳\n",
    "    function Transfer(address to, uint value) public {\n",
    "        //require 餘額 比 要轉帳的錢 多\n",
    "        require(balances[msg.sender] >= value);\n",
    "        //將自己的餘額減少\n",
    "        balances[msg.sender] -= value;\n",
    "        //將對方的餘額增加\n",
    "        balances[to] += value;\n",
    "        //觸發轉帳事件\n",
    "        emit TransferEvent(msg.sender, to, value, block.timestamp);\n",
    "    }\n",
    "    \n",
    "    //利息試算\n",
    "    function interestTrial(uint value, uint year) pure public returns(uint){\n",
    "        //for迴圈 每一年增加6%利息\n",
    "        for(uint i = 0; i < year; i++){\n",
    "            value = value / 100 * 106;\n",
    "        }\n",
    "        //回傳value\n",
    "        return value;\n",
    "    }\n",
    "    \n",
    "    //查看自己餘額\n",
    "    function getBalance() view public returns(uint){\n",
    "        //回傳餘額\n",
    "        return balances[msg.sender];\n",
    "    }\n",
    "}\n",
    "'''"
   ]
  },
  {
   "cell_type": "code",
   "execution_count": 31,
   "metadata": {},
   "outputs": [],
   "source": [
    "# 執行編譯\n",
    "compiled_sol = compile_sol(sol_name, sol_content)"
   ]
  },
  {
   "cell_type": "code",
   "execution_count": 32,
   "metadata": {},
   "outputs": [],
   "source": [
    "#提交合約，回傳交易 hash(tx hash)\n",
    "bytecode = compiled_sol['contracts'][sol_name]['NCCUBank']['evm']['bytecode']['object']\n",
    "abi = json.loads(compiled_sol['contracts'][sol_name]['NCCUBank']['metadata'])['output']['abi']\n",
    "\n",
    "nccu_bank = w3.eth.contract(abi=abi, bytecode=bytecode)\n",
    "\n",
    "tx_hash = nccu_bank.constructor().transact()"
   ]
  },
  {
   "cell_type": "code",
   "execution_count": 35,
   "metadata": {},
   "outputs": [],
   "source": [
    "# Wait for the transaction to be mined, and get the transaction receipt\n",
    "tx_receipt = w3.eth.waitForTransactionReceipt(tx_hash)"
   ]
  },
  {
   "cell_type": "code",
   "execution_count": 36,
   "metadata": {},
   "outputs": [],
   "source": [
    "# 拿取合約\n",
    "nccu_bank = w3.eth.contract(\n",
    "     address=tx_receipt.contractAddress,\n",
    "     abi=abi\n",
    ")"
   ]
  },
  {
   "cell_type": "code",
   "execution_count": 41,
   "metadata": {},
   "outputs": [
    {
     "name": "stdout",
     "output_type": "stream",
     "text": [
      "b'b\\x8e\\xd5|M;F\\xd2\\xfc\\xc0\\xd0\\xab\\x14:\\x8e\\xce\\x99\\xc6\\xe4\\xa3\\xf5P\\xb3<\\xc4I\\x9f\\x97\\xa0\\xcd\\xb1\\x07'\n",
      "500\n",
      "1060\n"
     ]
    }
   ],
   "source": [
    "# 存款，並執行交易，回傳交易號\n",
    "tx_hash = nccu_bank.functions.Deposit(100).transact()\n",
    "print(tx_hash)\n",
    "\n",
    "# 查看餘額\n",
    "result = nccu_bank.functions.getBalance().call()\n",
    "print(result)\n",
    "\n",
    "# 利息試算\n",
    "result = nccu_bank.functions.interestTrial(1000, 2).call()\n",
    "print(result)"
   ]
  },
  {
   "cell_type": "code",
   "execution_count": null,
   "metadata": {},
   "outputs": [],
   "source": []
  },
  {
   "cell_type": "code",
   "execution_count": null,
   "metadata": {},
   "outputs": [],
   "source": []
  }
 ],
 "metadata": {
  "kernelspec": {
   "display_name": "Python 3",
   "language": "python",
   "name": "python3"
  },
  "language_info": {
   "codemirror_mode": {
    "name": "ipython",
    "version": 3
   },
   "file_extension": ".py",
   "mimetype": "text/x-python",
   "name": "python",
   "nbconvert_exporter": "python",
   "pygments_lexer": "ipython3",
   "version": "3.8.5"
  }
 },
 "nbformat": 4,
 "nbformat_minor": 4
}
