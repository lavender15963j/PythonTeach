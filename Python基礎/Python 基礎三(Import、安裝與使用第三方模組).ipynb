{
 "cells": [
  {
   "cell_type": "markdown",
   "metadata": {},
   "source": [
    "一、Import 其他 py 檔\n",
    "======================="
   ]
  },
  {
   "cell_type": "code",
   "execution_count": 1,
   "metadata": {},
   "outputs": [
    {
     "name": "stdout",
     "output_type": "stream",
     "text": [
      "Hello\n"
     ]
    }
   ],
   "source": [
    "import Hello\n",
    "\n",
    "Hello.printHello()\n"
   ]
  },
  {
   "cell_type": "code",
   "execution_count": 2,
   "metadata": {},
   "outputs": [
    {
     "name": "stdout",
     "output_type": "stream",
     "text": [
      "Hello\n"
     ]
    }
   ],
   "source": [
    "from Hello import printHello\n",
    "\n",
    "printHello()"
   ]
  },
  {
   "cell_type": "code",
   "execution_count": 3,
   "metadata": {},
   "outputs": [
    {
     "name": "stdout",
     "output_type": "stream",
     "text": [
      "Blue\n"
     ]
    }
   ],
   "source": [
    "from Hello import Car\n",
    "\n",
    "car1 = Car(\"Blue\")\n",
    "print(car1.color)"
   ]
  },
  {
   "cell_type": "code",
   "execution_count": 4,
   "metadata": {},
   "outputs": [
    {
     "name": "stdout",
     "output_type": "stream",
     "text": [
      "Blue\n"
     ]
    }
   ],
   "source": [
    "from Hello import Car as CCC\n",
    "\n",
    "car1 = CCC(\"Blue\")\n",
    "print(car1.color)"
   ]
  },
  {
   "cell_type": "markdown",
   "metadata": {},
   "source": [
    "二、Import 模組(內建模組)\n",
    "========================="
   ]
  },
  {
   "cell_type": "code",
   "execution_count": 8,
   "metadata": {
    "collapsed": true
   },
   "outputs": [],
   "source": [
    "import os\n",
    "\n",
    "os.mkdir(\"DirA\") # 創立成功"
   ]
  },
  {
   "cell_type": "code",
   "execution_count": 9,
   "metadata": {},
   "outputs": [
    {
     "ename": "FileExistsError",
     "evalue": "[WinError 183] 當檔案已存在時，無法建立該檔案。: 'DirA'",
     "output_type": "error",
     "traceback": [
      "\u001b[1;31m---------------------------------------------------------------------------\u001b[0m",
      "\u001b[1;31mFileExistsError\u001b[0m                           Traceback (most recent call last)",
      "\u001b[1;32m<ipython-input-9-500fa881cfe0>\u001b[0m in \u001b[0;36m<module>\u001b[1;34m\u001b[0m\n\u001b[0;32m      1\u001b[0m \u001b[1;32mimport\u001b[0m \u001b[0mos\u001b[0m\u001b[1;33m\u001b[0m\u001b[1;33m\u001b[0m\u001b[0m\n\u001b[0;32m      2\u001b[0m \u001b[1;33m\u001b[0m\u001b[0m\n\u001b[1;32m----> 3\u001b[1;33m \u001b[0mos\u001b[0m\u001b[1;33m.\u001b[0m\u001b[0mmkdir\u001b[0m\u001b[1;33m(\u001b[0m\u001b[1;34m\"DirA\"\u001b[0m\u001b[1;33m)\u001b[0m \u001b[1;31m# 創立失敗，因為資料夾已經存在\u001b[0m\u001b[1;33m\u001b[0m\u001b[1;33m\u001b[0m\u001b[0m\n\u001b[0m",
      "\u001b[1;31mFileExistsError\u001b[0m: [WinError 183] 當檔案已存在時，無法建立該檔案。: 'DirA'"
     ]
    }
   ],
   "source": [
    "import os\n",
    "\n",
    "os.mkdir(\"DirA\") # 創立失敗，因為資料夾已經存在"
   ]
  },
  {
   "cell_type": "code",
   "execution_count": 11,
   "metadata": {
    "collapsed": true
   },
   "outputs": [],
   "source": [
    "import os\n",
    "\n",
    "if not os.path.exists(\"DirA\"): # 判斷 DirA 是否存在\n",
    "    os.mkdir(\"DirA\")"
   ]
  },
  {
   "cell_type": "code",
   "execution_count": 12,
   "metadata": {},
   "outputs": [
    {
     "name": "stdout",
     "output_type": "stream",
     "text": [
      "DirA\\Test.txt\n"
     ]
    }
   ],
   "source": [
    "import os\n",
    "\n",
    "# 組檔案路徑\n",
    "filePath = os.path.join(\"DirA\", \"Test.txt\")\n",
    "print(filePath)"
   ]
  },
  {
   "cell_type": "code",
   "execution_count": 13,
   "metadata": {},
   "outputs": [
    {
     "name": "stdout",
     "output_type": "stream",
     "text": [
      "D:\\Main\\Source\\PracticeWork\\Teach\\DirA\\Test.txt\n"
     ]
    }
   ],
   "source": [
    "import os\n",
    "\n",
    "# 組檔案路徑\n",
    "filePath = os.path.abspath(os.path.join(\"DirA\", \"Test.txt\"))\n",
    "print(filePath)"
   ]
  },
  {
   "cell_type": "code",
   "execution_count": 15,
   "metadata": {},
   "outputs": [
    {
     "name": "stdout",
     "output_type": "stream",
     "text": [
      "win32\n"
     ]
    }
   ],
   "source": [
    "import sys\n",
    "\n",
    "print(sys.platform)"
   ]
  },
  {
   "cell_type": "code",
   "execution_count": 16,
   "metadata": {},
   "outputs": [
    {
     "name": "stdout",
     "output_type": "stream",
     "text": [
      "2019-03-25 04:12:14.891000\n"
     ]
    }
   ],
   "source": [
    "import datetime\n",
    "\n",
    "print(datetime.datetime.now())"
   ]
  },
  {
   "cell_type": "code",
   "execution_count": 20,
   "metadata": {},
   "outputs": [
    {
     "name": "stdout",
     "output_type": "stream",
     "text": [
      "[1, 2, 3, 4, 5]\n",
      "{'Apple': 0}\n"
     ]
    }
   ],
   "source": [
    "import json\n",
    "\n",
    "data = json.loads(\"[1, 2, 3, 4, 5]\")\n",
    "print(data)\n",
    "\n",
    "data = json.loads(\"{\\\"Apple\\\": 0}\")\n",
    "print(data)"
   ]
  },
  {
   "cell_type": "markdown",
   "metadata": {},
   "source": [
    "三、安裝第三方模組\n",
    "=====================\n",
    "使用 pip 安裝"
   ]
  },
  {
   "cell_type": "code",
   "execution_count": 21,
   "metadata": {},
   "outputs": [
    {
     "ename": "ModuleNotFoundError",
     "evalue": "No module named 'requests'",
     "output_type": "error",
     "traceback": [
      "\u001b[1;31m---------------------------------------------------------------------------\u001b[0m",
      "\u001b[1;31mModuleNotFoundError\u001b[0m                       Traceback (most recent call last)",
      "\u001b[1;32m<ipython-input-21-95039fbd75c1>\u001b[0m in \u001b[0;36m<module>\u001b[1;34m\u001b[0m\n\u001b[1;32m----> 1\u001b[1;33m \u001b[1;32mimport\u001b[0m \u001b[0mrequests\u001b[0m\u001b[1;33m\u001b[0m\u001b[1;33m\u001b[0m\u001b[0m\n\u001b[0m",
      "\u001b[1;31mModuleNotFoundError\u001b[0m: No module named 'requests'"
     ]
    }
   ],
   "source": [
    "import requests # 尚未安裝"
   ]
  },
  {
   "cell_type": "code",
   "execution_count": 26,
   "metadata": {},
   "outputs": [
    {
     "name": "stdout",
     "output_type": "stream",
     "text": [
      "<!DOCTYPE html PUBLIC \"-//W3C//DTD XHTML 1.0 Transitional//EN\"\n",
      "  \"http://www.w3.org/TR/xhtml1/DTD/xhtml1-transitional.dtd\">\n",
      "\n",
      "\n",
      "<html xmlns=\"http://www.w3.org/1999/xhtml\" lang=\"zh_CN\">\n",
      "  <head>\n",
      "    <meta http-equiv=\"Content-Type\" content=\"text/html; charset=utf-8\" />\n",
      "    \n",
      "    <title>å¿«éä¸æ &#8212; Requests 2.18.1 ææ¡£</title>\n",
      "    \n",
      "    <link rel=\"stylesheet\" href=\"../_static/alabaster.css\" type=\"text/css\" />\n",
      "    <link rel=\"stylesheet\" href=\"../_static/pygments.css\" type=\"text/css\" />\n",
      "    <link rel=\"stylesheet\" href=\"https://media.readthedocs.org/css/badge_only.css\" type=\"text/css\" />\n",
      "    \n",
      "    <script type=\"text/javascript\">\n",
      "      var DOCUMENTATION_OPTIONS = {\n",
      "        URL_ROOT:    '../',\n",
      "        VERSION:     '2.18.1',\n",
      "        COLLAPSE_INDEX: false,\n",
      "        FILE_SUFFIX: '.html',\n",
      "        HAS_SOURCE:  true,\n",
      "        SOURCELINK_SUFFIX: '.txt'\n",
      "      };\n",
      "    </script>\n",
      "    <script type=\"text/javascript\" src=\"https://media.readthedocs.org/javascript/jquery/jquery-2.0.3.min.js\"></script>\n",
      "    <script type=\"text/javascript\" src=\"https://media.readthedocs.org/javascript/jquery/jquery-migrate-1.2.1.min.js\"></script>\n",
      "    <script type=\"text/javascript\" src=\"https://media.readthedocs.org/javascript/underscore.js\"></script>\n",
      "    <script type=\"text/javascript\" src=\"https://media.readthedocs.org/javascript/doctools.js\"></script>\n",
      "    <script type=\"text/javascript\" src=\"../_static/translations.js\"></script>\n",
      "    <script type=\"text/javascript\" src=\"https://media.readthedocs.org/javascript/readthedocs-doc-embed.js\"></script>\n",
      "    <link rel=\"index\" title=\"ç´¢å¼\" href=\"../genindex.html\" />\n",
      "    <link rel=\"search\" title=\"æç´¢\" href=\"../search.html\" />\n",
      "    <link rel=\"next\" title=\"é«çº§ç¨æ³\" href=\"advanced.html\" />\n",
      "    <link rel=\"prev\" title=\"å®è£",
      " Requests\" href=\"install.html\" />\n",
      "   \n",
      "  <link rel=\"stylesheet\" href=\"../_static/custom.css\" type=\"text/css\" />\n",
      "  \n",
      "  \n",
      "  <meta name=\"viewport\" content=\"width=device-width, initial-scale=0.9, maximum-scale=0.9\" />\n",
      "\n",
      "  \n",
      "<!-- RTD Extra Head -->\n",
      "\n",
      "<!-- \n",
      "Always link to the latest version, as canonical.\n",
      "http://docs.readthedocs.org/en/latest/canonical.html\n",
      "-->\n",
      "<link rel=\"canonical\" href=\"http://docs.python-requests.org/zh_CN/latest/user/quickstart.html\" />\n",
      "\n",
      "<link rel=\"stylesheet\" href=\"https://media.readthedocs.org/css/readthedocs-doc-embed.css\" type=\"text/css\" />\n",
      "\n",
      "<script type=\"text/javascript\" src=\"../_static/readthedocs-data.js\"></script>\n",
      "\n",
      "<!-- Add page-specific data, which must exist in the page js, not global -->\n",
      "<script type=\"text/javascript\">\n",
      "READTHEDOCS_DATA['page'] = 'user/quickstart'\n",
      "READTHEDOCS_DATA['source_suffix'] = '.rst'\n",
      "</script>\n",
      "\n",
      "<script type=\"text/javascript\" src=\"https://media.readthedocs.org/javascript/readthedocs-analytics.js\"></script>\n",
      "\n",
      "<!-- end RTD <extrahead> -->\n",
      "</head>\n",
      "  <body role=\"document\">\n",
      "  \n",
      "\n",
      "    <div class=\"document\">\n",
      "      <div class=\"documentwrapper\">\n",
      "        <div class=\"bodywrapper\">\n",
      "          \n",
      "\n",
      "          <div class=\"body\" role=\"main\">\n",
      "            \n",
      "  <div class=\"section\" id=\"module-requests.models\">\n",
      "<span id=\"id1\"></span><span id=\"quickstart\"></span><h1>å¿«éä¸æ<a class=\"headerlink\" href=\"#module-requests.models\" title=\"æ°¸ä¹",
      "é¾æ¥è³æ é¢\">Â¶</a></h1>\n",
      "<p>è¿«ä¸åå¾",
      "äºåï¼æ¬é¡µå",
      "å®¹ä¸ºå¦ä½å",
      "¥é¨ Requests æä¾äºå¾å¥½çæå¼ãå",
      "¶åè®¾ä½ å·²ç»å®è£",
      "äº Requestsãå¦æè¿æ²¡æï¼å»<a class=\"reference internal\" href=\"install.html#install\"><span class=\"std std-ref\">å®è£",
      "</span></a>ä¸èççå§ã</p>\n",
      "<p>é¦å",
      "ï¼ç¡®è®¤ä¸ä¸ï¼</p>\n",
      "<ul class=\"simple\">\n",
      "<li>Requests <a class=\"reference internal\" href=\"install.html#install\"><span class=\"std std-ref\">å·²å®è£",
      "</span></a></li>\n",
      "<li>Requests <a class=\"reference internal\" href=\"../community/updates.html#updates\"><span class=\"std std-ref\">æ¯ææ°ç</span></a></li>\n",
      "</ul>\n",
      "<p>è®©æä»¬ä»ä¸äºç®åçç¤ºä¾å¼å§å§ã</p>\n",
      "<div class=\"section\" id=\"id2\">\n",
      "<h2>åéè¯·æ±<a class=\"headerlink\" href=\"#id2\" title=\"æ°¸ä¹",
      "é¾æ¥è³æ é¢\">Â¶</a></h2>\n",
      "<p>ä½¿ç¨ Requests åéç½ç»è¯·æ±éå¸¸ç®åã</p>\n",
      "<p>ä¸å¼å§è¦å¯¼å",
      "¥ Requests æ¨¡åï¼</p>\n",
      "<div class=\"highlight-default\"><div class=\"highlight\"><pre><span></span><span class=\"gp\">&gt;&gt;&gt; </span><span class=\"kn\">import</span> <span class=\"nn\">requests</span>\n",
      "</pre></div>\n",
      "</div>\n",
      "<p>ç¶åï¼å°è¯è·åæä¸ªç½é¡µãæ¬ä¾å­ä¸­ï¼æä»¬æ¥è·å Github çå",
      "¬å",
      "±æ¶é´çº¿ï¼</p>\n",
      "<div class=\"highlight-default\"><div class=\"highlight\"><pre><span></span><span class=\"gp\">&gt;&gt;&gt; </span><span class=\"n\">r</span> <span class=\"o\">=</span> <span class=\"n\">requests</span><span class=\"o\">.</span><span class=\"n\">get</span><span class=\"p\">(</span><span class=\"s1\">&#39;https://api.github.com/events&#39;</span><span class=\"p\">)</span>\n",
      "</pre></div>\n",
      "</div>\n",
      "<p>ç°å¨ï¼æä»¬æä¸ä¸ªåä¸º <code class=\"docutils literal\"><span class=\"pre\">r</span></code> ç <a class=\"reference internal\" href=\"../api.html#requests.Response\" title=\"requests.Response\"><code class=\"xref py py-class docutils literal\"><span class=\"pre\">Response</span></code></a>\n",
      "å¯¹è±¡ãæä»¬å¯ä»¥ä»è¿ä¸ªå¯¹è±¡ä¸­è·åæææä»¬æ³è¦çä¿¡æ¯ã</p>\n",
      "<p>Requests ç®ä¾¿ç API æå³çææ HTTP è¯·æ±ç±»åé½æ¯æ¾èæè§çãä¾å¦ï¼ä½ å¯ä»¥è¿æ ·åéä¸ä¸ª\n",
      "HTTP POST è¯·æ±ï¼</p>\n",
      "<div class=\"highlight-default\"><div class=\"highlight\"><pre><span></span><span class=\"gp\">&gt;&gt;&gt; </span><span class=\"n\">r</span> <span class=\"o\">=</span> <span class=\"n\">requests</span><span class=\"o\">.</span><span class=\"n\">post</span><span class=\"p\">(</span><span class=\"s1\">&#39;http://httpbin.org/post&#39;</span><span class=\"p\">,</span> <span class=\"n\">data</span> <span class=\"o\">=</span> <span class=\"p\">{</span><span class=\"s1\">&#39;key&#39;</span><span class=\"p\">:</span><span class=\"s1\">&#39;value&#39;</span><span class=\"p\">})</span>\n",
      "</pre></div>\n",
      "</div>\n",
      "<p>æ¼äº®ï¼å¯¹å§ï¼é£ä¹å",
      "¶ä» HTTP è¯·æ±ç±»åï¼PUTï¼DELETEï¼HEAD ä»¥å OPTIONS åæ¯å¦ä½çå¢ï¼é½æ¯ä¸æ ·çç®åï¼</p>\n",
      "<div class=\"highlight-default\"><div class=\"highlight\"><pre><span></span><span class=\"gp\">&gt;&gt;&gt; </span><span class=\"n\">r</span> <span class=\"o\">=</span> <span class=\"n\">requests</span><span class=\"o\">.</span><span class=\"n\">put</span><span class=\"p\">(</span><span class=\"s1\">&#39;http://httpbin.org/put&#39;</span><span class=\"p\">,</span> <span class=\"n\">data</span> <span class=\"o\">=</span> <span class=\"p\">{</span><span class=\"s1\">&#39;key&#39;</span><span class=\"p\">:</span><span class=\"s1\">&#39;value&#39;</span><span class=\"p\">})</span>\n",
      "<span class=\"gp\">&gt;&gt;&gt; </span><span class=\"n\">r</span> <span class=\"o\">=</span> <span class=\"n\">requests</span><span class=\"o\">.</span><span class=\"n\">delete</span><span class=\"p\">(</span><span class=\"s1\">&#39;http://httpbin.org/delete&#39;</span><span class=\"p\">)</span>\n",
      "<span class=\"gp\">&gt;&gt;&gt; </span><span class=\"n\">r</span> <span class=\"o\">=</span> <span class=\"n\">requests</span><span class=\"o\">.</span><span class=\"n\">head</span><span class=\"p\">(</span><span class=\"s1\">&#39;http://httpbin.org/get&#39;</span><span class=\"p\">)</span>\n",
      "<span class=\"gp\">&gt;&gt;&gt; </span><span class=\"n\">r</span> <span class=\"o\">=</span> <span class=\"n\">requests</span><span class=\"o\">.</span><span class=\"n\">options</span><span class=\"p\">(</span><span class=\"s1\">&#39;http://httpbin.org/get&#39;</span><span class=\"p\">)</span>\n",
      "</pre></div>\n",
      "</div>\n",
      "<p>é½å¾ä¸éå§ï¼ä½è¿ä¹ä»",
      "æ¯ Requests çå°å±±ä¸è§å¢ã</p>\n",
      "</div>\n",
      "<div class=\"section\" id=\"url\">\n",
      "<h2>ä¼ é URL åæ°<a class=\"headerlink\" href=\"#url\" title=\"æ°¸ä¹",
      "é¾æ¥è³æ é¢\">Â¶</a></h2>\n",
      "<p>ä½ ä¹è®¸ç»å¸¸æ³ä¸º URL çæ¥è¯¢å­ç¬¦ä¸²(query string)ä¼ éæç§æ°æ®ãå¦æä½ æ¯æå·¥æå»º URLï¼é£ä¹æ°æ®ä¼ä»¥é®/å¼å¯¹çå½¢å¼ç½®äº URL ä¸­ï¼è·å¨ä¸ä¸ªé®å·çåé¢ãä¾å¦ï¼ <code class=\"docutils literal\"><span class=\"pre\">httpbin.org/get?key=val</span></code>ã\n",
      "Requests å",
      "è®¸ä½ ä½¿ç¨ <code class=\"docutils literal\"><span class=\"pre\">params</span></code> å",
      "³é®å­åæ°ï¼ä»¥ä¸ä¸ªå­ç¬¦ä¸²å­å",
      "¸æ¥æä¾è¿äºåæ°ãä¸¾ä¾æ¥è¯´ï¼å¦æä½ æ³ä¼ é\n",
      "<code class=\"docutils literal\"><span class=\"pre\">key1=value1</span></code> å <code class=\"docutils literal\"><span class=\"pre\">key2=value2</span></code> å° <code class=\"docutils literal\"><span class=\"pre\">httpbin.org/get</span></code> ï¼é£ä¹ä½ å¯ä»¥ä½¿ç¨å¦ä¸ä»£ç ï¼</p>\n",
      "<div class=\"highlight-default\"><div class=\"highlight\"><pre><span></span><span class=\"gp\">&gt;&gt;&gt; </span><span class=\"n\">payload</span> <span class=\"o\">=</span> <span class=\"p\">{</span><span class=\"s1\">&#39;key1&#39;</span><span class=\"p\">:</span> <span class=\"s1\">&#39;value1&#39;</span><span class=\"p\">,</span> <span class=\"s1\">&#39;key2&#39;</span><span class=\"p\">:</span> <span class=\"s1\">&#39;value2&#39;</span><span class=\"p\">}</span>\n",
      "<span class=\"gp\">&gt;&gt;&gt; </span><span class=\"n\">r</span> <span class=\"o\">=</span> <span class=\"n\">requests</span><span class=\"o\">.</span><span class=\"n\">get</span><span class=\"p\">(</span><span class=\"s2\">&quot;http://httpbin.org/get&quot;</span><span class=\"p\">,</span> <span class=\"n\">params</span><span class=\"o\">=</span><span class=\"n\">payload</span><span class=\"p\">)</span>\n",
      "</pre></div>\n",
      "</div>\n",
      "<p>éè¿æå°è¾åºè¯¥ URLï¼ä½ è½çå° URL å·²è¢«æ­£ç¡®ç¼ç ï¼</p>\n",
      "<div class=\"highlight-default\"><div class=\"highlight\"><pre><span></span><span class=\"gp\">&gt;&gt;&gt; </span><span class=\"nb\">print</span><span class=\"p\">(</span><span class=\"n\">r</span><span class=\"o\">.</span><span class=\"n\">url</span><span class=\"p\">)</span>\n",
      "<span class=\"go\">http://httpbin.org/get?key2=value2&amp;key1=value1</span>\n",
      "</pre></div>\n",
      "</div>\n",
      "<p>æ³¨æå­å",
      "¸éå¼ä¸º <code class=\"docutils literal\"><span class=\"pre\">None</span></code> çé®é½ä¸ä¼è¢«æ·»å å° URL çæ¥è¯¢å­ç¬¦ä¸²éã</p>\n",
      "<p>ä½ è¿å¯ä»¥å°ä¸ä¸ªåè¡¨ä½ä¸ºå¼ä¼ å",
      "¥ï¼</p>\n",
      "<div class=\"highlight-default\"><div class=\"highlight\"><pre><span></span><span class=\"gp\">&gt;&gt;&gt; </span><span class=\"n\">payload</span> <span class=\"o\">=</span> <span class=\"p\">{</span><span class=\"s1\">&#39;key1&#39;</span><span class=\"p\">:</span> <span class=\"s1\">&#39;value1&#39;</span><span class=\"p\">,</span> <span class=\"s1\">&#39;key2&#39;</span><span class=\"p\">:</span> <span class=\"p\">[</span><span class=\"s1\">&#39;value2&#39;</span><span class=\"p\">,</span> <span class=\"s1\">&#39;value3&#39;</span><span class=\"p\">]}</span>\n",
      "\n",
      "<span class=\"gp\">&gt;&gt;&gt; </span><span class=\"n\">r</span> <span class=\"o\">=</span> <span class=\"n\">requests</span><span class=\"o\">.</span><span class=\"n\">get</span><span class=\"p\">(</span><span class=\"s1\">&#39;http://httpbin.org/get&#39;</span><span class=\"p\">,</span> <span class=\"n\">params</span><span class=\"o\">=</span><span class=\"n\">payload</span><span class=\"p\">)</span>\n",
      "<span class=\"gp\">&gt;&gt;&gt; </span><span class=\"nb\">print</span><span class=\"p\">(</span><span class=\"n\">r</span><span class=\"o\">.</span><span class=\"n\">url</span><span class=\"p\">)</span>\n",
      "<span class=\"go\">http://httpbin.org/get?key1=value1&amp;key2=value2&amp;key2=value3</span>\n",
      "</pre></div>\n",
      "</div>\n",
      "</div>\n",
      "<div class=\"section\" id=\"id3\">\n",
      "<h2>ååºå",
      "å®¹<a class=\"headerlink\" href=\"#id3\" title=\"æ°¸ä¹",
      "é¾æ¥è³æ é¢\">Â¶</a></h2>\n",
      "<p>æä»¬è½è¯»åæå¡å¨ååºçå",
      "å®¹ãåæ¬¡ä»¥ GitHub æ¶é´çº¿ä¸ºä¾ï¼</p>\n",
      "<div class=\"highlight-default\"><div class=\"highlight\"><pre><span></span><span class=\"gp\">&gt;&gt;&gt; </span><span class=\"kn\">import</span> <span class=\"nn\">requests</span>\n",
      "<span class=\"gp\">&gt;&gt;&gt; </span><span class=\"n\">r</span> <span class=\"o\">=</span> <span class=\"n\">requests</span><span class=\"o\">.</span><span class=\"n\">get</span><span class=\"p\">(</span><span class=\"s1\">&#39;https://api.github.com/events&#39;</span><span class=\"p\">)</span>\n",
      "<span class=\"gp\">&gt;&gt;&gt; </span><span class=\"n\">r</span><span class=\"o\">.</span><span class=\"n\">text</span>\n",
      "<span class=\"go\">u&#39;[{&quot;repository&quot;:{&quot;open_issues&quot;:0,&quot;url&quot;:&quot;https://github.com/...</span>\n",
      "</pre></div>\n",
      "</div>\n",
      "<p>Requests ä¼èªå¨è§£ç æ¥èªæå¡å¨çå",
      "å®¹ãå¤§å¤æ° unicode å­ç¬¦éé½è½è¢«æ ç¼å°è§£ç ã</p>\n",
      "<p>è¯·æ±ååºåï¼Requests ä¼åºäº HTTP å¤´é¨å¯¹ååºçç¼ç ä½åºææ ¹æ®çæ¨æµãå½ä½ è®¿é® <code class=\"docutils literal\"><span class=\"pre\">r.text</span></code>\n",
      "ä¹æ¶ï¼Requests ä¼ä½¿ç¨å",
      "¶æ¨æµçææ¬ç¼ç ãä½ å¯ä»¥æ¾åº Requests ä½¿ç¨äºä»ä¹ç¼ç ï¼å¹¶ä¸è½å¤ä½¿ç¨\n",
      "<code class=\"docutils literal\"><span class=\"pre\">r.encoding</span></code> å±æ§æ¥æ¹åå®ï¼</p>\n",
      "<div class=\"highlight-default\"><div class=\"highlight\"><pre><span></span><span class=\"gp\">&gt;&gt;&gt; </span><span class=\"n\">r</span><span class=\"o\">.</span><span class=\"n\">encoding</span>\n",
      "<span class=\"go\">&#39;utf-8&#39;</span>\n",
      "<span class=\"gp\">&gt;&gt;&gt; </span><span class=\"n\">r</span><span class=\"o\">.</span><span class=\"n\">encoding</span> <span class=\"o\">=</span> <span class=\"s1\">&#39;ISO-8859-1&#39;</span>\n",
      "</pre></div>\n",
      "</div>\n",
      "<p>å¦æä½ æ¹åäºç¼ç ï¼æ¯å½ä½ è®¿é® <code class=\"docutils literal\"><span class=\"pre\">r.text</span></code> ï¼Request é½å°ä¼ä½¿ç¨ <code class=\"docutils literal\"><span class=\"pre\">r.encoding</span></code>\n",
      "çæ°å¼ãä½ å¯è½å¸æå¨ä½¿ç¨ç¹æ®é»è¾è®¡ç®åºææ¬çç¼ç çæ",
      "åµä¸æ¥ä¿®æ¹ç¼ç ãæ¯å¦ HTTP å XML\n",
      "èªèº«å¯ä»¥æå®ç¼ç ãè¿æ ·çè¯ï¼ä½ åºè¯¥ä½¿ç¨ <code class=\"docutils literal\"><span class=\"pre\">r.content</span></code> æ¥æ¾å°ç¼ç ï¼ç¶åè®¾ç½® <code class=\"docutils literal\"><span class=\"pre\">r.encoding</span></code>\n",
      "ä¸ºç¸åºçç¼ç ãè¿æ ·å°±è½ä½¿ç¨æ­£ç¡®çç¼ç è§£æ <code class=\"docutils literal\"><span class=\"pre\">r.text</span></code> äºã</p>\n",
      "<p>å¨ä½ éè¦çæ",
      "åµä¸ï¼Requests ä¹å¯ä»¥ä½¿ç¨å®å¶çç¼ç ãå¦æä½ åå»ºäºèªå·±çç¼ç ï¼å¹¶ä½¿ç¨\n",
      "<code class=\"docutils literal\"><span class=\"pre\">codecs</span></code> æ¨¡åè¿è¡æ³¨åï¼ä½ å°±å¯ä»¥è½»æ¾å°ä½¿ç¨è¿ä¸ªè§£ç å¨åç§°ä½ä¸º <code class=\"docutils literal\"><span class=\"pre\">r.encoding</span></code> çå¼ï¼\n",
      "ç¶åç± Requests æ¥ä¸ºä½ å¤çç¼ç ã</p>\n",
      "</div>\n",
      "<div class=\"section\" id=\"id4\">\n",
      "<h2>äºè¿å¶ååºå",
      "å®¹<a class=\"headerlink\" href=\"#id4\" title=\"æ°¸ä¹",
      "é¾æ¥è³æ é¢\">Â¶</a></h2>\n",
      "<p>ä½ ä¹è½ä»¥å­èçæ¹å¼è®¿é®è¯·æ±ååºä½ï¼å¯¹äºéææ¬è¯·æ±ï¼</p>\n",
      "<div class=\"highlight-default\"><div class=\"highlight\"><pre><span></span><span class=\"gp\">&gt;&gt;&gt; </span><span class=\"n\">r</span><span class=\"o\">.</span><span class=\"n\">content</span>\n",
      "<span class=\"go\">b&#39;[{&quot;repository&quot;:{&quot;open_issues&quot;:0,&quot;url&quot;:&quot;https://github.com/...</span>\n",
      "</pre></div>\n",
      "</div>\n",
      "<p>Requests ä¼èªå¨ä¸ºä½ è§£ç  <code class=\"docutils literal\"><span class=\"pre\">gzip</span></code> å <code class=\"docutils literal\"><span class=\"pre\">deflate</span></code> ä¼ è¾ç¼ç çååºæ°æ®ã</p>\n",
      "<p>ä¾å¦ï¼ä»¥è¯·æ±è¿åçäºè¿å¶æ°æ®åå»ºä¸å¼ å¾çï¼ä½ å¯ä»¥ä½¿ç¨å¦ä¸ä»£ç ï¼</p>\n",
      "<div class=\"highlight-default\"><div class=\"highlight\"><pre><span></span><span class=\"gp\">&gt;&gt;&gt; </span><span class=\"kn\">from</span> <span class=\"nn\">PIL</span> <span class=\"k\">import</span> <span class=\"n\">Image</span>\n",
      "<span class=\"gp\">&gt;&gt;&gt; </span><span class=\"kn\">from</span> <span class=\"nn\">io</span> <span class=\"k\">import</span> <span class=\"n\">BytesIO</span>\n",
      "\n",
      "<span class=\"gp\">&gt;&gt;&gt; </span><span class=\"n\">i</span> <span class=\"o\">=</span> <span class=\"n\">Image</span><span class=\"o\">.</span><span class=\"n\">open</span><span class=\"p\">(</span><span class=\"n\">BytesIO</span><span class=\"p\">(</span><span class=\"n\">r</span><span class=\"o\">.</span><span class=\"n\">content</span><span class=\"p\">))</span>\n",
      "</pre></div>\n",
      "</div>\n",
      "</div>\n",
      "<div class=\"section\" id=\"json\">\n",
      "<h2>JSON ååºå",
      "å®¹<a class=\"headerlink\" href=\"#json\" title=\"æ°¸ä¹",
      "é¾æ¥è³æ é¢\">Â¶</a></h2>\n",
      "<p>Requests ä¸­ä¹æä¸ä¸ªå",
      "ç½®ç JSON è§£ç å¨ï¼å©ä½ å¤ç JSON æ°æ®ï¼</p>\n",
      "<div class=\"highlight-default\"><div class=\"highlight\"><pre><span></span><span class=\"gp\">&gt;&gt;&gt; </span><span class=\"kn\">import</span> <span class=\"nn\">requests</span>\n",
      "\n",
      "<span class=\"gp\">&gt;&gt;&gt; </span><span class=\"n\">r</span> <span class=\"o\">=</span> <span class=\"n\">requests</span><span class=\"o\">.</span><span class=\"n\">get</span><span class=\"p\">(</span><span class=\"s1\">&#39;https://api.github.com/events&#39;</span><span class=\"p\">)</span>\n",
      "<span class=\"gp\">&gt;&gt;&gt; </span><span class=\"n\">r</span><span class=\"o\">.</span><span class=\"n\">json</span><span class=\"p\">()</span>\n",
      "<span class=\"go\">[{u&#39;repository&#39;: {u&#39;open_issues&#39;: 0, u&#39;url&#39;: &#39;https://github.com/...</span>\n",
      "</pre></div>\n",
      "</div>\n",
      "<p>å¦æ JSON è§£ç å¤±è´¥ï¼ <code class=\"docutils literal\"><span class=\"pre\">r.json()</span></code> å°±ä¼æåºä¸ä¸ªå¼å¸¸ãä¾å¦ï¼ååºå",
      "å®¹æ¯ 401 (Unauthorized)ï¼å°è¯è®¿é® <code class=\"docutils literal\"><span class=\"pre\">r.json()</span></code> å°ä¼æåº <code class=\"docutils literal\"><span class=\"pre\">ValueError:</span> <span class=\"pre\">No</span> <span class=\"pre\">JSON</span> <span class=\"pre\">object</span> <span class=\"pre\">could</span> <span class=\"pre\">be</span> <span class=\"pre\">decoded</span></code> å¼å¸¸ã</p>\n",
      "<p>éè¦æ³¨æçæ¯ï¼æåè°ç¨ <code class=\"docutils literal\"><span class=\"pre\">r.json()</span></code> å¹¶**ä¸**æå³çååºçæåãæçæå¡å¨ä¼å¨å¤±è´¥çååºä¸­å",
      "å«ä¸ä¸ª JSON å¯¹è±¡ï¼æ¯å¦ HTTP 500 çéè¯¯ç»èï¼ãè¿ç§ JSON ä¼è¢«è§£ç è¿åãè¦æ£æ¥è¯·æ±æ¯å¦æåï¼è¯·ä½¿ç¨ <code class=\"docutils literal\"><span class=\"pre\">r.raise_for_status()</span></code> æè",
      "æ£æ¥ <code class=\"docutils literal\"><span class=\"pre\">r.status_code</span></code> æ¯å¦åä½ çææç¸åã</p>\n",
      "</div>\n",
      "<div class=\"section\" id=\"id5\">\n",
      "<h2>åå§ååºå",
      "å®¹<a class=\"headerlink\" href=\"#id5\" title=\"æ°¸ä¹",
      "é¾æ¥è³æ é¢\">Â¶</a></h2>\n",
      "<p>å¨ç½è§çæ",
      "åµä¸ï¼ä½ å¯è½æ³è·åæ¥èªæå¡å¨çåå§å¥æ¥å­ååºï¼é£ä¹ä½ å¯ä»¥è®¿é® <code class=\"docutils literal\"><span class=\"pre\">r.raw</span></code>ã\n",
      "å¦æä½ ç¡®å®æ³è¿ä¹å¹²ï¼é£è¯·ä½ ç¡®ä¿å¨åå§è¯·æ±ä¸­è®¾ç½®äº <code class=\"docutils literal\"><span class=\"pre\">stream=True</span></code>ãå",
      "·ä½ä½ å¯ä»¥è¿ä¹åï¼</p>\n",
      "<div class=\"highlight-default\"><div class=\"highlight\"><pre><span></span><span class=\"gp\">&gt;&gt;&gt; </span><span class=\"n\">r</span> <span class=\"o\">=</span> <span class=\"n\">requests</span><span class=\"o\">.</span><span class=\"n\">get</span><span class=\"p\">(</span><span class=\"s1\">&#39;https://api.github.com/events&#39;</span><span class=\"p\">,</span> <span class=\"n\">stream</span><span class=\"o\">=</span><span class=\"kc\">True</span><span class=\"p\">)</span>\n",
      "<span class=\"gp\">&gt;&gt;&gt; </span><span class=\"n\">r</span><span class=\"o\">.</span><span class=\"n\">raw</span>\n",
      "<span class=\"go\">&lt;requests.packages.urllib3.response.HTTPResponse object at 0x101194810&gt;</span>\n",
      "<span class=\"gp\">&gt;&gt;&gt; </span><span class=\"n\">r</span><span class=\"o\">.</span><span class=\"n\">raw</span><span class=\"o\">.</span><span class=\"n\">read</span><span class=\"p\">(</span><span class=\"mi\">10</span><span class=\"p\">)</span>\n",
      "<span class=\"go\">&#39;\\x1f\\x8b\\x08\\x00\\x00\\x00\\x00\\x00\\x00\\x03&#39;</span>\n",
      "</pre></div>\n",
      "</div>\n",
      "<p>ä½ä¸è¬æ",
      "åµä¸ï¼ä½ åºè¯¥ä»¥ä¸é¢çæ¨¡å¼å°ææ¬æµä¿å­å°æä»¶ï¼</p>\n",
      "<div class=\"highlight-default\"><div class=\"highlight\"><pre><span></span><span class=\"k\">with</span> <span class=\"nb\">open</span><span class=\"p\">(</span><span class=\"n\">filename</span><span class=\"p\">,</span> <span class=\"s1\">&#39;wb&#39;</span><span class=\"p\">)</span> <span class=\"k\">as</span> <span class=\"n\">fd</span><span class=\"p\">:</span>\n",
      "    <span class=\"k\">for</span> <span class=\"n\">chunk</span> <span class=\"ow\">in</span> <span class=\"n\">r</span><span class=\"o\">.</span><span class=\"n\">iter_content</span><span class=\"p\">(</span><span class=\"n\">chunk_size</span><span class=\"p\">):</span>\n",
      "        <span class=\"n\">fd</span><span class=\"o\">.</span><span class=\"n\">write</span><span class=\"p\">(</span><span class=\"n\">chunk</span><span class=\"p\">)</span>\n",
      "</pre></div>\n",
      "</div>\n",
      "<p>ä½¿ç¨ <code class=\"docutils literal\"><span class=\"pre\">Response.iter_content</span></code> å°ä¼å¤çå¤§éä½ ç´æ¥ä½¿ç¨ <code class=\"docutils literal\"><span class=\"pre\">Response.raw</span></code> ä¸å¾ä¸å¤ççã\n",
      "å½æµä¸è½½æ¶ï¼ä¸é¢æ¯ä¼å",
      "æ¨èçè·åå",
      "å®¹æ¹å¼ã Note that <code class=\"docutils literal\"><span class=\"pre\">chunk_size</span></code> can be freely adjusted to a number that\n",
      "may better fit your use cases.</p>\n",
      "</div>\n",
      "<div class=\"section\" id=\"id6\">\n",
      "<h2>å®å¶è¯·æ±å¤´<a class=\"headerlink\" href=\"#id6\" title=\"æ°¸ä¹",
      "é¾æ¥è³æ é¢\">Â¶</a></h2>\n",
      "<p>å¦æä½ æ³ä¸ºè¯·æ±æ·»å  HTTP å¤´é¨ï¼åªè¦ç®åå°ä¼ éä¸ä¸ª <code class=\"docutils literal\"><span class=\"pre\">dict</span></code> ç» <code class=\"docutils literal\"><span class=\"pre\">headers</span></code> åæ°å°±å¯ä»¥äºã</p>\n",
      "<p>ä¾å¦ï¼å¨åä¸ä¸ªç¤ºä¾ä¸­æä»¬æ²¡ææå® content-type:</p>\n",
      "<div class=\"highlight-default\"><div class=\"highlight\"><pre><span></span><span class=\"gp\">&gt;&gt;&gt; </span><span class=\"n\">url</span> <span class=\"o\">=</span> <span class=\"s1\">&#39;https://api.github.com/some/endpoint&#39;</span>\n",
      "<span class=\"gp\">&gt;&gt;&gt; </span><span class=\"n\">headers</span> <span class=\"o\">=</span> <span class=\"p\">{</span><span class=\"s1\">&#39;user-agent&#39;</span><span class=\"p\">:</span> <span class=\"s1\">&#39;my-app/0.0.1&#39;</span><span class=\"p\">}</span>\n",
      "\n",
      "<span class=\"gp\">&gt;&gt;&gt; </span><span class=\"n\">r</span> <span class=\"o\">=</span> <span class=\"n\">requests</span><span class=\"o\">.</span><span class=\"n\">get</span><span class=\"p\">(</span><span class=\"n\">url</span><span class=\"p\">,</span> <span class=\"n\">headers</span><span class=\"o\">=</span><span class=\"n\">headers</span><span class=\"p\">)</span>\n",
      "</pre></div>\n",
      "</div>\n",
      "<p>æ³¨æ: å®å¶ header çä¼å",
      "çº§ä½äºæäºç¹å®çä¿¡æ¯æºï¼ä¾å¦ï¼</p>\n",
      "<ul class=\"simple\">\n",
      "<li>å¦æå¨ <code class=\"docutils literal\"><span class=\"pre\">.netrc</span></code> ä¸­è®¾ç½®äºç¨æ·è®¤è¯ä¿¡æ¯ï¼ä½¿ç¨ <cite>headers=</cite> è®¾ç½®çææå°±ä¸ä¼çæãèå¦æè®¾ç½®äº\n",
      "<code class=\"docutils literal\"><span class=\"pre\">auth=</span></code> åæ°ï¼``.netrc`` çè®¾ç½®å°±æ æäºã</li>\n",
      "<li>å¦æè¢«éå®åå°å«çä¸»æºï¼ææ header å°±ä¼è¢«å é¤ã</li>\n",
      "<li>ä»£çææ header ä¼è¢« URL ä¸­æä¾çä»£çèº«ä»½è¦çæã</li>\n",
      "<li>å¨æä»¬è½å¤æ­å",
      "å®¹é¿åº¦çæ",
      "åµä¸ï¼header ç Content-Length ä¼è¢«æ¹åã</li>\n",
      "</ul>\n",
      "<p>æ´è¿ä¸æ­¥è®²ï¼Requests ä¸ä¼åºäºå®å¶ header çå",
      "·ä½æ",
      "åµæ¹åèªå·±çè¡ä¸ºãåªä¸è¿å¨æåçè¯·æ±ä¸­ï¼ææç\n",
      "header ä¿¡æ¯é½ä¼è¢«ä¼ éè¿å»ã</p>\n",
      "<p>æ³¨æ: ææç header å¼å¿",
      "é¡»æ¯ <code class=\"docutils literal\"><span class=\"pre\">string</span></code>ãbytestring æè",
      " unicodeãå°½ç®¡ä¼ é unicode\n",
      "header ä¹æ¯å",
      "è®¸çï¼ä½ä¸å»ºè®®è¿æ ·åã</p>\n",
      "</div>\n",
      "<div class=\"section\" id=\"post\">\n",
      "<h2>æ´å å¤æç POST è¯·æ±<a class=\"headerlink\" href=\"#post\" title=\"æ°¸ä¹",
      "é¾æ¥è³æ é¢\">Â¶</a></h2>\n",
      "<p>éå¸¸ï¼ä½ æ³è¦åéä¸äºç¼ç ä¸ºè¡¨åå½¢å¼çæ°æ®ââéå¸¸åä¸ä¸ª HTML è¡¨åãè¦å®ç°è¿ä¸ªï¼åªéç®åå°ä¼ éä¸ä¸ªå­å",
      "¸ç» <cite>data</cite> åæ°ãä½ çæ°æ®å­å",
      "¸å¨ååºè¯·æ±æ¶ä¼èªå¨ç¼ç ä¸ºè¡¨åå½¢å¼ï¼</p>\n",
      "<div class=\"highlight-default\"><div class=\"highlight\"><pre><span></span><span class=\"gp\">&gt;&gt;&gt; </span><span class=\"n\">payload</span> <span class=\"o\">=</span> <span class=\"p\">{</span><span class=\"s1\">&#39;key1&#39;</span><span class=\"p\">:</span> <span class=\"s1\">&#39;value1&#39;</span><span class=\"p\">,</span> <span class=\"s1\">&#39;key2&#39;</span><span class=\"p\">:</span> <span class=\"s1\">&#39;value2&#39;</span><span class=\"p\">}</span>\n",
      "\n",
      "<span class=\"gp\">&gt;&gt;&gt; </span><span class=\"n\">r</span> <span class=\"o\">=</span> <span class=\"n\">requests</span><span class=\"o\">.</span><span class=\"n\">post</span><span class=\"p\">(</span><span class=\"s2\">&quot;http://httpbin.org/post&quot;</span><span class=\"p\">,</span> <span class=\"n\">data</span><span class=\"o\">=</span><span class=\"n\">payload</span><span class=\"p\">)</span>\n",
      "<span class=\"gp\">&gt;&gt;&gt; </span><span class=\"nb\">print</span><span class=\"p\">(</span><span class=\"n\">r</span><span class=\"o\">.</span><span class=\"n\">text</span><span class=\"p\">)</span>\n",
      "<span class=\"go\">{</span>\n",
      "<span class=\"go\">  ...</span>\n",
      "<span class=\"go\">  &quot;form&quot;: {</span>\n",
      "<span class=\"go\">    &quot;key2&quot;: &quot;value2&quot;,</span>\n",
      "<span class=\"go\">    &quot;key1&quot;: &quot;value1&quot;</span>\n",
      "<span class=\"go\">  },</span>\n",
      "<span class=\"go\">  ...</span>\n",
      "<span class=\"go\">}</span>\n",
      "</pre></div>\n",
      "</div>\n",
      "<p>ä½ è¿å¯ä»¥ä¸º <code class=\"docutils literal\"><span class=\"pre\">data</span></code> åæ°ä¼ å",
      "¥ä¸ä¸ªå",
      "ç»åè¡¨ãå¨è¡¨åä¸­å¤ä¸ªå",
      "ç´ ä½¿ç¨åä¸ key çæ¶åï¼è¿ç§æ¹å¼å°¤å",
      "¶ææï¼</p>\n",
      "<div class=\"highlight-default\"><div class=\"highlight\"><pre><span></span><span class=\"gp\">&gt;&gt;&gt; </span><span class=\"n\">payload</span> <span class=\"o\">=</span> <span class=\"p\">((</span><span class=\"s1\">&#39;key1&#39;</span><span class=\"p\">,</span> <span class=\"s1\">&#39;value1&#39;</span><span class=\"p\">),</span> <span class=\"p\">(</span><span class=\"s1\">&#39;key1&#39;</span><span class=\"p\">,</span> <span class=\"s1\">&#39;value2&#39;</span><span class=\"p\">))</span>\n",
      "<span class=\"gp\">&gt;&gt;&gt; </span><span class=\"n\">r</span> <span class=\"o\">=</span> <span class=\"n\">requests</span><span class=\"o\">.</span><span class=\"n\">post</span><span class=\"p\">(</span><span class=\"s1\">&#39;http://httpbin.org/post&#39;</span><span class=\"p\">,</span> <span class=\"n\">data</span><span class=\"o\">=</span><span class=\"n\">payload</span><span class=\"p\">)</span>\n",
      "<span class=\"gp\">&gt;&gt;&gt; </span><span class=\"nb\">print</span><span class=\"p\">(</span><span class=\"n\">r</span><span class=\"o\">.</span><span class=\"n\">text</span><span class=\"p\">)</span>\n",
      "<span class=\"go\">{</span>\n",
      "<span class=\"go\">  ...</span>\n",
      "<span class=\"go\">  &quot;form&quot;: {</span>\n",
      "<span class=\"go\">    &quot;key1&quot;: [</span>\n",
      "<span class=\"go\">      &quot;value1&quot;,</span>\n",
      "<span class=\"go\">      &quot;value2&quot;</span>\n",
      "<span class=\"go\">    ]</span>\n",
      "<span class=\"go\">  },</span>\n",
      "<span class=\"go\">  ...</span>\n",
      "<span class=\"go\">}</span>\n",
      "</pre></div>\n",
      "</div>\n",
      "<p>å¾å¤æ¶åä½ æ³è¦åéçæ°æ®å¹¶éç¼ç ä¸ºè¡¨åå½¢å¼çãå¦æä½ ä¼ éä¸ä¸ª <code class=\"docutils literal\"><span class=\"pre\">string</span></code> èä¸æ¯ä¸ä¸ª <code class=\"docutils literal\"><span class=\"pre\">dict</span></code>ï¼é£ä¹æ°æ®ä¼è¢«ç´æ¥åå¸åºå»ã</p>\n",
      "<p>ä¾å¦ï¼Github API v3 æ¥åç¼ç ä¸º JSON ç POST/PATCH æ°æ®ï¼</p>\n",
      "<div class=\"highlight-default\"><div class=\"highlight\"><pre><span></span><span class=\"gp\">&gt;&gt;&gt; </span><span class=\"kn\">import</span> <span class=\"nn\">json</span>\n",
      "\n",
      "<span class=\"gp\">&gt;&gt;&gt; </span><span class=\"n\">url</span> <span class=\"o\">=</span> <span class=\"s1\">&#39;https://api.github.com/some/endpoint&#39;</span>\n",
      "<span class=\"gp\">&gt;&gt;&gt; </span><span class=\"n\">payload</span> <span class=\"o\">=</span> <span class=\"p\">{</span><span class=\"s1\">&#39;some&#39;</span><span class=\"p\">:</span> <span class=\"s1\">&#39;data&#39;</span><span class=\"p\">}</span>\n",
      "\n",
      "<span class=\"gp\">&gt;&gt;&gt; </span><span class=\"n\">r</span> <span class=\"o\">=</span> <span class=\"n\">requests</span><span class=\"o\">.</span><span class=\"n\">post</span><span class=\"p\">(</span><span class=\"n\">url</span><span class=\"p\">,</span> <span class=\"n\">data</span><span class=\"o\">=</span><span class=\"n\">json</span><span class=\"o\">.</span><span class=\"n\">dumps</span><span class=\"p\">(</span><span class=\"n\">payload</span><span class=\"p\">))</span>\n",
      "</pre></div>\n",
      "</div>\n",
      "<p>æ­¤å¤é¤äºå¯ä»¥èªè¡å¯¹ <code class=\"docutils literal\"><span class=\"pre\">dict</span></code> è¿è¡ç¼ç ï¼ä½ è¿å¯ä»¥ä½¿ç¨ <code class=\"docutils literal\"><span class=\"pre\">json</span></code> åæ°ç´æ¥ä¼ éï¼ç¶åå®å°±ä¼è¢«èªå¨ç¼ç ãè¿æ¯ 2.4.2 ççæ°å åè½ï¼</p>\n",
      "<div class=\"highlight-default\"><div class=\"highlight\"><pre><span></span><span class=\"gp\">&gt;&gt;&gt; </span><span class=\"n\">url</span> <span class=\"o\">=</span> <span class=\"s1\">&#39;https://api.github.com/some/endpoint&#39;</span>\n",
      "<span class=\"gp\">&gt;&gt;&gt; </span><span class=\"n\">payload</span> <span class=\"o\">=</span> <span class=\"p\">{</span><span class=\"s1\">&#39;some&#39;</span><span class=\"p\">:</span> <span class=\"s1\">&#39;data&#39;</span><span class=\"p\">}</span>\n",
      "\n",
      "<span class=\"gp\">&gt;&gt;&gt; </span><span class=\"n\">r</span> <span class=\"o\">=</span> <span class=\"n\">requests</span><span class=\"o\">.</span><span class=\"n\">post</span><span class=\"p\">(</span><span class=\"n\">url</span><span class=\"p\">,</span> <span class=\"n\">json</span><span class=\"o\">=</span><span class=\"n\">payload</span><span class=\"p\">)</span>\n",
      "</pre></div>\n",
      "</div>\n",
      "</div>\n",
      "<div class=\"section\" id=\"post-multipart-encoded\">\n",
      "<h2>POSTä¸ä¸ªå¤é¨åç¼ç (Multipart-Encoded)çæä»¶<a class=\"headerlink\" href=\"#post-multipart-encoded\" title=\"æ°¸ä¹",
      "é¾æ¥è³æ é¢\">Â¶</a></h2>\n",
      "<p>Requests ä½¿å¾ä¸ä¼ å¤é¨åç¼ç æä»¶åå¾å¾ç®åï¼</p>\n",
      "<div class=\"highlight-default\"><div class=\"highlight\"><pre><span></span><span class=\"gp\">&gt;&gt;&gt; </span><span class=\"n\">url</span> <span class=\"o\">=</span> <span class=\"s1\">&#39;http://httpbin.org/post&#39;</span>\n",
      "<span class=\"gp\">&gt;&gt;&gt; </span><span class=\"n\">files</span> <span class=\"o\">=</span> <span class=\"p\">{</span><span class=\"s1\">&#39;file&#39;</span><span class=\"p\">:</span> <span class=\"nb\">open</span><span class=\"p\">(</span><span class=\"s1\">&#39;report.xls&#39;</span><span class=\"p\">,</span> <span class=\"s1\">&#39;rb&#39;</span><span class=\"p\">)}</span>\n",
      "\n",
      "<span class=\"gp\">&gt;&gt;&gt; </span><span class=\"n\">r</span> <span class=\"o\">=</span> <span class=\"n\">requests</span><span class=\"o\">.</span><span class=\"n\">post</span><span class=\"p\">(</span><span class=\"n\">url</span><span class=\"p\">,</span> <span class=\"n\">files</span><span class=\"o\">=</span><span class=\"n\">files</span><span class=\"p\">)</span>\n",
      "<span class=\"gp\">&gt;&gt;&gt; </span><span class=\"n\">r</span><span class=\"o\">.</span><span class=\"n\">text</span>\n",
      "<span class=\"go\">{</span>\n",
      "<span class=\"go\">  ...</span>\n",
      "<span class=\"go\">  &quot;files&quot;: {</span>\n",
      "<span class=\"go\">    &quot;file&quot;: &quot;&lt;censored...binary...data&gt;&quot;</span>\n",
      "<span class=\"go\">  },</span>\n",
      "<span class=\"go\">  ...</span>\n",
      "<span class=\"go\">}</span>\n",
      "</pre></div>\n",
      "</div>\n",
      "<p>ä½ å¯ä»¥æ¾å¼å°è®¾ç½®æä»¶åï¼æä»¶ç±»ååè¯·æ±å¤´ï¼</p>\n",
      "<div class=\"highlight-default\"><div class=\"highlight\"><pre><span></span><span class=\"gp\">&gt;&gt;&gt; </span><span class=\"n\">url</span> <span class=\"o\">=</span> <span class=\"s1\">&#39;http://httpbin.org/post&#39;</span>\n",
      "<span class=\"gp\">&gt;&gt;&gt; </span><span class=\"n\">files</span> <span class=\"o\">=</span> <span class=\"p\">{</span><span class=\"s1\">&#39;file&#39;</span><span class=\"p\">:</span> <span class=\"p\">(</span><span class=\"s1\">&#39;report.xls&#39;</span><span class=\"p\">,</span> <span class=\"nb\">open</span><span class=\"p\">(</span><span class=\"s1\">&#39;report.xls&#39;</span><span class=\"p\">,</span> <span class=\"s1\">&#39;rb&#39;</span><span class=\"p\">),</span> <span class=\"s1\">&#39;application/vnd.ms-excel&#39;</span><span class=\"p\">,</span> <span class=\"p\">{</span><span class=\"s1\">&#39;Expires&#39;</span><span class=\"p\">:</span> <span class=\"s1\">&#39;0&#39;</span><span class=\"p\">})}</span>\n",
      "\n",
      "<span class=\"gp\">&gt;&gt;&gt; </span><span class=\"n\">r</span> <span class=\"o\">=</span> <span class=\"n\">requests</span><span class=\"o\">.</span><span class=\"n\">post</span><span class=\"p\">(</span><span class=\"n\">url</span><span class=\"p\">,</span> <span class=\"n\">files</span><span class=\"o\">=</span><span class=\"n\">files</span><span class=\"p\">)</span>\n",
      "<span class=\"gp\">&gt;&gt;&gt; </span><span class=\"n\">r</span><span class=\"o\">.</span><span class=\"n\">text</span>\n",
      "<span class=\"go\">{</span>\n",
      "<span class=\"go\">  ...</span>\n",
      "<span class=\"go\">  &quot;files&quot;: {</span>\n",
      "<span class=\"go\">    &quot;file&quot;: &quot;&lt;censored...binary...data&gt;&quot;</span>\n",
      "<span class=\"go\">  },</span>\n",
      "<span class=\"go\">  ...</span>\n",
      "<span class=\"go\">}</span>\n",
      "</pre></div>\n",
      "</div>\n",
      "<p>å¦æä½ æ³ï¼ä½ ä¹å¯ä»¥åéä½ä¸ºæä»¶æ¥æ¥æ¶çå­ç¬¦ä¸²ï¼</p>\n",
      "<div class=\"highlight-default\"><div class=\"highlight\"><pre><span></span><span class=\"gp\">&gt;&gt;&gt; </span><span class=\"n\">url</span> <span class=\"o\">=</span> <span class=\"s1\">&#39;http://httpbin.org/post&#39;</span>\n",
      "<span class=\"gp\">&gt;&gt;&gt; </span><span class=\"n\">files</span> <span class=\"o\">=</span> <span class=\"p\">{</span><span class=\"s1\">&#39;file&#39;</span><span class=\"p\">:</span> <span class=\"p\">(</span><span class=\"s1\">&#39;report.csv&#39;</span><span class=\"p\">,</span> <span class=\"s1\">&#39;some,data,to,send</span><span class=\"se\">\\n</span><span class=\"s1\">another,row,to,send</span><span class=\"se\">\\n</span><span class=\"s1\">&#39;</span><span class=\"p\">)}</span>\n",
      "\n",
      "<span class=\"gp\">&gt;&gt;&gt; </span><span class=\"n\">r</span> <span class=\"o\">=</span> <span class=\"n\">requests</span><span class=\"o\">.</span><span class=\"n\">post</span><span class=\"p\">(</span><span class=\"n\">url</span><span class=\"p\">,</span> <span class=\"n\">files</span><span class=\"o\">=</span><span class=\"n\">files</span><span class=\"p\">)</span>\n",
      "<span class=\"gp\">&gt;&gt;&gt; </span><span class=\"n\">r</span><span class=\"o\">.</span><span class=\"n\">text</span>\n",
      "<span class=\"go\">{</span>\n",
      "<span class=\"go\">  ...</span>\n",
      "<span class=\"go\">  &quot;files&quot;: {</span>\n",
      "<span class=\"go\">    &quot;file&quot;: &quot;some,data,to,send\\\\nanother,row,to,send\\\\n&quot;</span>\n",
      "<span class=\"go\">  },</span>\n",
      "<span class=\"go\">  ...</span>\n",
      "<span class=\"go\">}</span>\n",
      "</pre></div>\n",
      "</div>\n",
      "<p>å¦æä½ åéä¸ä¸ªéå¸¸å¤§çæä»¶ä½ä¸º <code class=\"docutils literal\"><span class=\"pre\">multipart/form-data</span></code> è¯·æ±ï¼ä½ å¯è½å¸æå°è¯·æ±åææ°æ®æµãé»è®¤ä¸ <code class=\"docutils literal\"><span class=\"pre\">requests</span></code> ä¸æ¯æ, ä½æä¸ªç¬¬ä¸æ¹å",
      " <code class=\"docutils literal\"><span class=\"pre\">requests-toolbelt</span></code> æ¯æ¯æçãä½ å¯ä»¥é",
      "è¯»\n",
      "<a class=\"reference external\" href=\"https://toolbelt.rtfd.org\">toolbelt ææ¡£</a> æ¥äºè§£ä½¿ç¨æ¹æ³ã</p>\n",
      "<p>å¨ä¸ä¸ªè¯·æ±ä¸­åéå¤æä»¶åè <a class=\"reference internal\" href=\"advanced.html#advanced\"><span class=\"std std-ref\">é«çº§ç¨æ³</span></a> ä¸èã</p>\n",
      "<div class=\"admonition- admonition\">\n",
      "<p class=\"first admonition-title\">è­¦å</p>\n",
      "<p class=\"last\">æä»¬å¼ºçå»ºè®®ä½ ç¨äºè¿å¶æ¨¡å¼(<a class=\"reference external\" href=\"https://docs.python.org/2/tutorial/inputoutput.html#reading-and-writing-files\">binary mode</a>)æå¼æä»¶ãè¿æ¯å ä¸º Requests å¯è½ä¼è¯å¾ä¸ºä½ æä¾\n",
      "<code class=\"docutils literal\"><span class=\"pre\">Content-Length</span></code> headerï¼å¨å®è¿æ ·åçæ¶åï¼è¿ä¸ªå¼ä¼è¢«è®¾ä¸ºæä»¶çå­èæ°ï¼<em>bytes</em>ï¼ãå¦æç¨ææ¬æ¨¡å¼(text mode)æå¼æä»¶ï¼å°±å¯è½ä¼åçéè¯¯ã</p>\n",
      "</div>\n",
      "</div>\n",
      "<div class=\"section\" id=\"id7\">\n",
      "<h2>ååºç¶æç <a class=\"headerlink\" href=\"#id7\" title=\"æ°¸ä¹",
      "é¾æ¥è³æ é¢\">Â¶</a></h2>\n",
      "<p>æä»¬å¯ä»¥æ£æµååºç¶æç ï¼</p>\n",
      "<div class=\"highlight-default\"><div class=\"highlight\"><pre><span></span><span class=\"gp\">&gt;&gt;&gt; </span><span class=\"n\">r</span> <span class=\"o\">=</span> <span class=\"n\">requests</span><span class=\"o\">.</span><span class=\"n\">get</span><span class=\"p\">(</span><span class=\"s1\">&#39;http://httpbin.org/get&#39;</span><span class=\"p\">)</span>\n",
      "<span class=\"gp\">&gt;&gt;&gt; </span><span class=\"n\">r</span><span class=\"o\">.</span><span class=\"n\">status_code</span>\n",
      "<span class=\"go\">200</span>\n",
      "</pre></div>\n",
      "</div>\n",
      "<p>ä¸ºæ¹ä¾¿å¼ç¨ï¼Requestsè¿éå¸¦äºä¸ä¸ªå",
      "ç½®çç¶æç æ¥è¯¢å¯¹è±¡ï¼</p>\n",
      "<div class=\"highlight-default\"><div class=\"highlight\"><pre><span></span><span class=\"gp\">&gt;&gt;&gt; </span><span class=\"n\">r</span><span class=\"o\">.</span><span class=\"n\">status_code</span> <span class=\"o\">==</span> <span class=\"n\">requests</span><span class=\"o\">.</span><span class=\"n\">codes</span><span class=\"o\">.</span><span class=\"n\">ok</span>\n",
      "<span class=\"go\">True</span>\n",
      "</pre></div>\n",
      "</div>\n",
      "<p>å¦æåéäºä¸ä¸ªéè¯¯è¯·æ±(ä¸ä¸ª 4XX å®¢æ·ç«¯éè¯¯ï¼æè",
      " 5XX æå¡å¨éè¯¯ååº)ï¼æä»¬å¯ä»¥éè¿\n",
      "<a class=\"reference internal\" href=\"../api.html#requests.Response.raise_for_status\" title=\"requests.Response.raise_for_status\"><code class=\"xref py py-meth docutils literal\"><span class=\"pre\">Response.raise_for_status()</span></code></a>\n",
      "æ¥æåºå¼å¸¸ï¼</p>\n",
      "<div class=\"highlight-default\"><div class=\"highlight\"><pre><span></span><span class=\"gp\">&gt;&gt;&gt; </span><span class=\"n\">bad_r</span> <span class=\"o\">=</span> <span class=\"n\">requests</span><span class=\"o\">.</span><span class=\"n\">get</span><span class=\"p\">(</span><span class=\"s1\">&#39;http://httpbin.org/status/404&#39;</span><span class=\"p\">)</span>\n",
      "<span class=\"gp\">&gt;&gt;&gt; </span><span class=\"n\">bad_r</span><span class=\"o\">.</span><span class=\"n\">status_code</span>\n",
      "<span class=\"go\">404</span>\n",
      "\n",
      "<span class=\"gp\">&gt;&gt;&gt; </span><span class=\"n\">bad_r</span><span class=\"o\">.</span><span class=\"n\">raise_for_status</span><span class=\"p\">()</span>\n",
      "<span class=\"gt\">Traceback (most recent call last):</span>\n",
      "  File <span class=\"nb\">&quot;requests/models.py&quot;</span>, line <span class=\"m\">832</span>, in <span class=\"n\">raise_for_status</span>\n",
      "    <span class=\"k\">raise</span> <span class=\"n\">http_error</span>\n",
      "<span class=\"gr\">requests.exceptions.HTTPError</span>: <span class=\"n\">404 Client Error</span>\n",
      "</pre></div>\n",
      "</div>\n",
      "<p>ä½æ¯ï¼ç±äºæä»¬çä¾å­ä¸­ <code class=\"docutils literal\"><span class=\"pre\">r</span></code> ç <code class=\"docutils literal\"><span class=\"pre\">status_code</span></code> æ¯ <code class=\"docutils literal\"><span class=\"pre\">200</span></code> ï¼å½æä»¬è°ç¨\n",
      "<code class=\"docutils literal\"><span class=\"pre\">raise_for_status()</span></code> æ¶ï¼å¾å°çæ¯ï¼</p>\n",
      "<div class=\"highlight-default\"><div class=\"highlight\"><pre><span></span><span class=\"gp\">&gt;&gt;&gt; </span><span class=\"n\">r</span><span class=\"o\">.</span><span class=\"n\">raise_for_status</span><span class=\"p\">()</span>\n",
      "<span class=\"go\">None</span>\n",
      "</pre></div>\n",
      "</div>\n",
      "<p>ä¸åé½æºåè°åã</p>\n",
      "</div>\n",
      "<div class=\"section\" id=\"id8\">\n",
      "<h2>ååºå¤´<a class=\"headerlink\" href=\"#id8\" title=\"æ°¸ä¹",
      "é¾æ¥è³æ é¢\">Â¶</a></h2>\n",
      "<p>æä»¬å¯ä»¥æ¥çä»¥ä¸ä¸ª Python å­å",
      "¸å½¢å¼å±ç¤ºçæå¡å¨ååºå¤´ï¼</p>\n",
      "<div class=\"highlight-default\"><div class=\"highlight\"><pre><span></span><span class=\"gp\">&gt;&gt;&gt; </span><span class=\"n\">r</span><span class=\"o\">.</span><span class=\"n\">headers</span>\n",
      "<span class=\"go\">{</span>\n",
      "<span class=\"go\">    &#39;content-encoding&#39;: &#39;gzip&#39;,</span>\n",
      "<span class=\"go\">    &#39;transfer-encoding&#39;: &#39;chunked&#39;,</span>\n",
      "<span class=\"go\">    &#39;connection&#39;: &#39;close&#39;,</span>\n",
      "<span class=\"go\">    &#39;server&#39;: &#39;nginx/1.0.4&#39;,</span>\n",
      "<span class=\"go\">    &#39;x-runtime&#39;: &#39;148ms&#39;,</span>\n",
      "<span class=\"go\">    &#39;etag&#39;: &#39;&quot;e1ca502697e5c9317743dc078f67693f&quot;&#39;,</span>\n",
      "<span class=\"go\">    &#39;content-type&#39;: &#39;application/json&#39;</span>\n",
      "<span class=\"go\">}</span>\n",
      "</pre></div>\n",
      "</div>\n",
      "<p>ä½æ¯è¿ä¸ªå­å",
      "¸æ¯è¾ç¹æ®ï¼å®æ¯ä»",
      "ä¸º HTTP å¤´é¨èççãæ ¹æ®\n",
      "<a class=\"reference external\" href=\"http://www.w3.org/Protocols/rfc2616/rfc2616-sec14.html\">RFC 2616</a>ï¼\n",
      "HTTP å¤´é¨æ¯å¤§å°åä¸ææçã</p>\n",
      "<p>å æ­¤ï¼æä»¬å¯ä»¥ä½¿ç¨ä»»æå¤§åå½¢å¼æ¥è®¿é®è¿äºååºå¤´å­æ®µï¼</p>\n",
      "<div class=\"highlight-default\"><div class=\"highlight\"><pre><span></span><span class=\"gp\">&gt;&gt;&gt; </span><span class=\"n\">r</span><span class=\"o\">.</span><span class=\"n\">headers</span><span class=\"p\">[</span><span class=\"s1\">&#39;Content-Type&#39;</span><span class=\"p\">]</span>\n",
      "<span class=\"go\">&#39;application/json&#39;</span>\n",
      "\n",
      "<span class=\"gp\">&gt;&gt;&gt; </span><span class=\"n\">r</span><span class=\"o\">.</span><span class=\"n\">headers</span><span class=\"o\">.</span><span class=\"n\">get</span><span class=\"p\">(</span><span class=\"s1\">&#39;content-type&#39;</span><span class=\"p\">)</span>\n",
      "<span class=\"go\">&#39;application/json&#39;</span>\n",
      "</pre></div>\n",
      "</div>\n",
      "<p>å®è¿æä¸ä¸ªç¹æ®ç¹ï¼é£å°±æ¯æå¡å¨å¯ä»¥å¤æ¬¡æ¥ååä¸ headerï¼æ¯æ¬¡é½ä½¿ç¨ä¸åçå¼ãä½ Requests\n",
      "ä¼å°å®ä»¬åå¹¶ï¼è¿æ ·å®ä»¬å°±å¯ä»¥ç¨ä¸ä¸ªæ å°æ¥è¡¨ç¤ºåºæ¥ï¼åè§\n",
      "<a class=\"reference external\" href=\"http://tools.ietf.org/html/rfc7230#section-3.2\">RFC 7230</a>:</p>\n",
      "<blockquote>\n",
      "<div><p>A recipient MAY combine multiple header fields with the same field name\n",
      "into one &quot;field-name: field-value&quot; pair, without changing the semantics\n",
      "of the message, by appending each subsequent field value to the combined\n",
      "field value in order, separated by a comma.</p>\n",
      "<p>æ¥æ¶è",
      "å¯ä»¥åå¹¶å¤ä¸ªç¸ååç§°ç header æ ä½ï¼æå®ä»¬åä¸ºä¸ä¸ª &quot;field-name: field-value&quot;\n",
      "é",
      "å¯¹ï¼å°æ¯ä¸ªåç»­çæ ä½å¼ä¾æ¬¡è¿½å å°åå¹¶çæ ä½å¼ä¸­ï¼ç¨éå·éå¼å³å¯ï¼è¿æ ·åä¸ä¼æ¹åä¿¡æ¯çè¯­ä¹ã</p>\n",
      "</div></blockquote>\n",
      "</div>\n",
      "<div class=\"section\" id=\"cookie\">\n",
      "<h2>Cookie<a class=\"headerlink\" href=\"#cookie\" title=\"æ°¸ä¹",
      "é¾æ¥è³æ é¢\">Â¶</a></h2>\n",
      "<p>å¦ææä¸ªååºä¸­å",
      "å«ä¸äº cookieï¼ä½ å¯ä»¥å¿«éè®¿é®å®ä»¬ï¼</p>\n",
      "<div class=\"highlight-default\"><div class=\"highlight\"><pre><span></span><span class=\"gp\">&gt;&gt;&gt; </span><span class=\"n\">url</span> <span class=\"o\">=</span> <span class=\"s1\">&#39;http://example.com/some/cookie/setting/url&#39;</span>\n",
      "<span class=\"gp\">&gt;&gt;&gt; </span><span class=\"n\">r</span> <span class=\"o\">=</span> <span class=\"n\">requests</span><span class=\"o\">.</span><span class=\"n\">get</span><span class=\"p\">(</span><span class=\"n\">url</span><span class=\"p\">)</span>\n",
      "\n",
      "<span class=\"gp\">&gt;&gt;&gt; </span><span class=\"n\">r</span><span class=\"o\">.</span><span class=\"n\">cookies</span><span class=\"p\">[</span><span class=\"s1\">&#39;example_cookie_name&#39;</span><span class=\"p\">]</span>\n",
      "<span class=\"go\">&#39;example_cookie_value&#39;</span>\n",
      "</pre></div>\n",
      "</div>\n",
      "<p>è¦æ³åéä½ çcookieså°æå¡å¨ï¼å¯ä»¥ä½¿ç¨ <code class=\"docutils literal\"><span class=\"pre\">cookies</span></code> åæ°ï¼</p>\n",
      "<div class=\"highlight-default\"><div class=\"highlight\"><pre><span></span><span class=\"gp\">&gt;&gt;&gt; </span><span class=\"n\">url</span> <span class=\"o\">=</span> <span class=\"s1\">&#39;http://httpbin.org/cookies&#39;</span>\n",
      "<span class=\"gp\">&gt;&gt;&gt; </span><span class=\"n\">cookies</span> <span class=\"o\">=</span> <span class=\"nb\">dict</span><span class=\"p\">(</span><span class=\"n\">cookies_are</span><span class=\"o\">=</span><span class=\"s1\">&#39;working&#39;</span><span class=\"p\">)</span>\n",
      "\n",
      "<span class=\"gp\">&gt;&gt;&gt; </span><span class=\"n\">r</span> <span class=\"o\">=</span> <span class=\"n\">requests</span><span class=\"o\">.</span><span class=\"n\">get</span><span class=\"p\">(</span><span class=\"n\">url</span><span class=\"p\">,</span> <span class=\"n\">cookies</span><span class=\"o\">=</span><span class=\"n\">cookies</span><span class=\"p\">)</span>\n",
      "<span class=\"gp\">&gt;&gt;&gt; </span><span class=\"n\">r</span><span class=\"o\">.</span><span class=\"n\">text</span>\n",
      "<span class=\"go\">&#39;{&quot;cookies&quot;: {&quot;cookies_are&quot;: &quot;working&quot;}}&#39;</span>\n",
      "</pre></div>\n",
      "</div>\n",
      "<p>Cookie çè¿åå¯¹è±¡ä¸º <a class=\"reference internal\" href=\"../api.html#requests.cookies.RequestsCookieJar\" title=\"requests.cookies.RequestsCookieJar\"><code class=\"xref py py-class docutils literal\"><span class=\"pre\">RequestsCookieJar</span></code></a>ï¼å®çè¡ä¸ºåå­å",
      "¸ç±»ä¼¼ï¼ä½æ¥å£æ´ä¸ºå®æ´ï¼éåè·¨ååè·¨è·¯å¾ä½¿ç¨ãä½ è¿å¯ä»¥æ Cookie Jar ä¼ å° Requests ä¸­ï¼</p>\n",
      "<div class=\"highlight-default\"><div class=\"highlight\"><pre><span></span><span class=\"gp\">&gt;&gt;&gt; </span><span class=\"n\">jar</span> <span class=\"o\">=</span> <span class=\"n\">requests</span><span class=\"o\">.</span><span class=\"n\">cookies</span><span class=\"o\">.</span><span class=\"n\">RequestsCookieJar</span><span class=\"p\">()</span>\n",
      "<span class=\"gp\">&gt;&gt;&gt; </span><span class=\"n\">jar</span><span class=\"o\">.</span><span class=\"n\">set</span><span class=\"p\">(</span><span class=\"s1\">&#39;tasty_cookie&#39;</span><span class=\"p\">,</span> <span class=\"s1\">&#39;yum&#39;</span><span class=\"p\">,</span> <span class=\"n\">domain</span><span class=\"o\">=</span><span class=\"s1\">&#39;httpbin.org&#39;</span><span class=\"p\">,</span> <span class=\"n\">path</span><span class=\"o\">=</span><span class=\"s1\">&#39;/cookies&#39;</span><span class=\"p\">)</span>\n",
      "<span class=\"gp\">&gt;&gt;&gt; </span><span class=\"n\">jar</span><span class=\"o\">.</span><span class=\"n\">set</span><span class=\"p\">(</span><span class=\"s1\">&#39;gross_cookie&#39;</span><span class=\"p\">,</span> <span class=\"s1\">&#39;blech&#39;</span><span class=\"p\">,</span> <span class=\"n\">domain</span><span class=\"o\">=</span><span class=\"s1\">&#39;httpbin.org&#39;</span><span class=\"p\">,</span> <span class=\"n\">path</span><span class=\"o\">=</span><span class=\"s1\">&#39;/elsewhere&#39;</span><span class=\"p\">)</span>\n",
      "<span class=\"gp\">&gt;&gt;&gt; </span><span class=\"n\">url</span> <span class=\"o\">=</span> <span class=\"s1\">&#39;http://httpbin.org/cookies&#39;</span>\n",
      "<span class=\"gp\">&gt;&gt;&gt; </span><span class=\"n\">r</span> <span class=\"o\">=</span> <span class=\"n\">requests</span><span class=\"o\">.</span><span class=\"n\">get</span><span class=\"p\">(</span><span class=\"n\">url</span><span class=\"p\">,</span> <span class=\"n\">cookies</span><span class=\"o\">=</span><span class=\"n\">jar</span><span class=\"p\">)</span>\n",
      "<span class=\"gp\">&gt;&gt;&gt; </span><span class=\"n\">r</span><span class=\"o\">.</span><span class=\"n\">text</span>\n",
      "<span class=\"go\">&#39;{&quot;cookies&quot;: {&quot;tasty_cookie&quot;: &quot;yum&quot;}}&#39;</span>\n",
      "</pre></div>\n",
      "</div>\n",
      "</div>\n",
      "<div class=\"section\" id=\"id9\">\n",
      "<h2>éå®åä¸è¯·æ±åå²<a class=\"headerlink\" href=\"#id9\" title=\"æ°¸ä¹",
      "é¾æ¥è³æ é¢\">Â¶</a></h2>\n",
      "<p>é»è®¤æ",
      "åµä¸ï¼é¤äº HEAD, Requests ä¼èªå¨å¤çææéå®åã</p>\n",
      "<p>å¯ä»¥ä½¿ç¨ååºå¯¹è±¡ç <code class=\"docutils literal\"><span class=\"pre\">history</span></code> æ¹æ³æ¥è¿½è¸ªéå®åã</p>\n",
      "<p><a class=\"reference internal\" href=\"../api.html#requests.Response.history\" title=\"requests.Response.history\"><code class=\"xref py py-attr docutils literal\"><span class=\"pre\">Response.history</span></code></a> æ¯ä¸ä¸ª\n",
      "<a class=\"reference internal\" href=\"../api.html#requests.Response\" title=\"requests.Response\"><code class=\"xref py py-class docutils literal\"><span class=\"pre\">Response</span></code></a> å¯¹è±¡çåè¡¨ï¼ä¸ºäºå®æè¯·æ±èåå»ºäºè¿äºå¯¹è±¡ãè¿ä¸ªå¯¹è±¡åè¡¨æç",
      "§ä»æèå°æè¿çè¯·æ±è¿è¡æåºã</p>\n",
      "<p>ä¾å¦ï¼Github å°ææç HTTP è¯·æ±éå®åå° HTTPSï¼</p>\n",
      "<div class=\"highlight-default\"><div class=\"highlight\"><pre><span></span><span class=\"gp\">&gt;&gt;&gt; </span><span class=\"n\">r</span> <span class=\"o\">=</span> <span class=\"n\">requests</span><span class=\"o\">.</span><span class=\"n\">get</span><span class=\"p\">(</span><span class=\"s1\">&#39;http://github.com&#39;</span><span class=\"p\">)</span>\n",
      "\n",
      "<span class=\"gp\">&gt;&gt;&gt; </span><span class=\"n\">r</span><span class=\"o\">.</span><span class=\"n\">url</span>\n",
      "<span class=\"go\">&#39;https://github.com/&#39;</span>\n",
      "\n",
      "<span class=\"gp\">&gt;&gt;&gt; </span><span class=\"n\">r</span><span class=\"o\">.</span><span class=\"n\">status_code</span>\n",
      "<span class=\"go\">200</span>\n",
      "\n",
      "<span class=\"gp\">&gt;&gt;&gt; </span><span class=\"n\">r</span><span class=\"o\">.</span><span class=\"n\">history</span>\n",
      "<span class=\"go\">[&lt;Response [301]&gt;]</span>\n",
      "</pre></div>\n",
      "</div>\n",
      "<p>å¦æä½ ä½¿ç¨çæ¯GETãOPTIONSãPOSTãPUTãPATCH æè",
      " DELETEï¼é£ä¹ä½ å¯ä»¥éè¿ <code class=\"docutils literal\"><span class=\"pre\">allow_redirects</span></code>\n",
      "åæ°ç¦ç¨éå®åå¤çï¼</p>\n",
      "<div class=\"highlight-default\"><div class=\"highlight\"><pre><span></span><span class=\"gp\">&gt;&gt;&gt; </span><span class=\"n\">r</span> <span class=\"o\">=</span> <span class=\"n\">requests</span><span class=\"o\">.</span><span class=\"n\">get</span><span class=\"p\">(</span><span class=\"s1\">&#39;http://github.com&#39;</span><span class=\"p\">,</span> <span class=\"n\">allow_redirects</span><span class=\"o\">=</span><span class=\"kc\">False</span><span class=\"p\">)</span>\n",
      "<span class=\"gp\">&gt;&gt;&gt; </span><span class=\"n\">r</span><span class=\"o\">.</span><span class=\"n\">status_code</span>\n",
      "<span class=\"go\">301</span>\n",
      "<span class=\"gp\">&gt;&gt;&gt; </span><span class=\"n\">r</span><span class=\"o\">.</span><span class=\"n\">history</span>\n",
      "<span class=\"go\">[]</span>\n",
      "</pre></div>\n",
      "</div>\n",
      "<p>å¦æä½ ä½¿ç¨äº HEADï¼ä½ ä¹å¯ä»¥å¯ç¨éå®åï¼</p>\n",
      "<div class=\"highlight-default\"><div class=\"highlight\"><pre><span></span><span class=\"gp\">&gt;&gt;&gt; </span><span class=\"n\">r</span> <span class=\"o\">=</span> <span class=\"n\">requests</span><span class=\"o\">.</span><span class=\"n\">head</span><span class=\"p\">(</span><span class=\"s1\">&#39;http://github.com&#39;</span><span class=\"p\">,</span> <span class=\"n\">allow_redirects</span><span class=\"o\">=</span><span class=\"kc\">True</span><span class=\"p\">)</span>\n",
      "<span class=\"gp\">&gt;&gt;&gt; </span><span class=\"n\">r</span><span class=\"o\">.</span><span class=\"n\">url</span>\n",
      "<span class=\"go\">&#39;https://github.com/&#39;</span>\n",
      "<span class=\"gp\">&gt;&gt;&gt; </span><span class=\"n\">r</span><span class=\"o\">.</span><span class=\"n\">history</span>\n",
      "<span class=\"go\">[&lt;Response [301]&gt;]</span>\n",
      "</pre></div>\n",
      "</div>\n",
      "</div>\n",
      "<div class=\"section\" id=\"id10\">\n",
      "<h2>è¶",
      "æ¶<a class=\"headerlink\" href=\"#id10\" title=\"æ°¸ä¹",
      "é¾æ¥è³æ é¢\">Â¶</a></h2>\n",
      "<p>ä½ å¯ä»¥åè¯ requests å¨ç»è¿ä»¥ <code class=\"docutils literal\"><span class=\"pre\">timeout</span></code> åæ°è®¾å®çç§æ°æ¶é´ä¹ååæ­¢ç­å¾",
      "ååºãåºæ¬ä¸ææççäº§ä»£ç é½åºè¯¥ä½¿ç¨è¿ä¸åæ°ãå¦æä¸ä½¿ç¨ï¼ä½ çç¨åºå¯è½ä¼æ°¸è¿å¤±å»ååºï¼</p>\n",
      "<div class=\"highlight-default\"><div class=\"highlight\"><pre><span></span><span class=\"gp\">&gt;&gt;&gt; </span><span class=\"n\">requests</span><span class=\"o\">.</span><span class=\"n\">get</span><span class=\"p\">(</span><span class=\"s1\">&#39;http://github.com&#39;</span><span class=\"p\">,</span> <span class=\"n\">timeout</span><span class=\"o\">=</span><span class=\"mf\">0.001</span><span class=\"p\">)</span>\n",
      "<span class=\"gt\">Traceback (most recent call last):</span>\n",
      "  File <span class=\"nb\">&quot;&lt;stdin&gt;&quot;</span>, line <span class=\"m\">1</span>, in <span class=\"n\">&lt;module&gt;</span>\n",
      "<span class=\"gr\">requests.exceptions.Timeout</span>: <span class=\"n\">HTTPConnectionPool(host=&#39;github.com&#39;, port=80): Request timed out. (timeout=0.001)</span>\n",
      "</pre></div>\n",
      "</div>\n",
      "<div class=\"admonition- admonition\">\n",
      "<p class=\"first admonition-title\">æ³¨æ</p>\n",
      "<p class=\"last\"><code class=\"docutils literal\"><span class=\"pre\">timeout</span></code> ä»",
      "å¯¹è¿æ¥è¿ç¨ææï¼ä¸ååºä½çä¸è½½æ å",
      "³ã <code class=\"docutils literal\"><span class=\"pre\">timeout</span></code> å¹¶ä¸æ¯æ´ä¸ªä¸è½½ååºçæ¶é´éå¶ï¼èæ¯å¦ææå¡å¨å¨ <code class=\"docutils literal\"><span class=\"pre\">timeout</span></code> ç§å",
      "æ²¡æåºç­ï¼å°ä¼å¼åä¸ä¸ªå¼å¸¸ï¼æ´ç²¾ç¡®å°è¯´ï¼æ¯å¨\n",
      "<code class=\"docutils literal\"><span class=\"pre\">timeout</span></code> ç§å",
      "æ²¡æä»åºç¡å¥æ¥å­ä¸æ¥æ¶å°ä»»ä½å­èçæ°æ®æ¶ï¼If no timeout is specified explicitly, requests do\n",
      "not time out.</p>\n",
      "</div>\n",
      "</div>\n",
      "<div class=\"section\" id=\"id11\">\n",
      "<h2>éè¯¯ä¸å¼å¸¸<a class=\"headerlink\" href=\"#id11\" title=\"æ°¸ä¹",
      "é¾æ¥è³æ é¢\">Â¶</a></h2>\n",
      "<p>éå°ç½ç»é®é¢ï¼å¦ï¼DNS æ¥è¯¢å¤±è´¥ãæç»è¿æ¥ç­ï¼æ¶ï¼Requests ä¼æåºä¸ä¸ª\n",
      "<code class=\"xref py py-exc docutils literal\"><span class=\"pre\">ConnectionError</span></code> å¼å¸¸ã</p>\n",
      "<p>å¦æ HTTP è¯·æ±è¿åäºä¸æåçç¶æç ï¼ <a class=\"reference internal\" href=\"../api.html#requests.Response.raise_for_status\" title=\"requests.Response.raise_for_status\"><code class=\"xref py py-meth docutils literal\"><span class=\"pre\">Response.raise_for_status()</span></code></a>\n",
      "ä¼æåºä¸ä¸ª <code class=\"xref py py-exc docutils literal\"><span class=\"pre\">HTTPError</span></code> å¼å¸¸ã</p>\n",
      "<p>è¥è¯·æ±è¶",
      "æ¶ï¼åæåºä¸ä¸ª <code class=\"xref py py-exc docutils literal\"><span class=\"pre\">Timeout</span></code> å¼å¸¸ã</p>\n",
      "<p>è¥è¯·æ±è¶",
      "è¿äºè®¾å®çæå¤§éå®åæ¬¡æ°ï¼åä¼æåºä¸ä¸ª <code class=\"xref py py-exc docutils literal\"><span class=\"pre\">TooManyRedirects</span></code> å¼å¸¸ã</p>\n",
      "<p>ææRequestsæ¾å¼æåºçå¼å¸¸é½ç»§æ¿èª <code class=\"xref py py-exc docutils literal\"><span class=\"pre\">requests.exceptions.RequestException</span></code> ã</p>\n",
      "<hr class=\"docutils\" />\n",
      "<p>åå¤å¥½å­¦ä¹ æ´å¤å",
      "å®¹äºåï¼å» <a class=\"reference internal\" href=\"advanced.html#advanced\"><span class=\"std std-ref\">é«çº§ç¨æ³</span></a> ä¸èççå§ã</p>\n",
      "</div>\n",
      "</div>\n",
      "\n",
      "\n",
      "          </div>\n",
      "          \n",
      "        </div>\n",
      "      </div>\n",
      "      <div class=\"sphinxsidebar\" role=\"navigation\" aria-label=\"main navigation\">\n",
      "        <div class=\"sphinxsidebarwrapper\"><p class=\"logo\">\n",
      "  <a href=\"../index.html\">\n",
      "    <img class=\"logo\" src=\"../_static/requests-sidebar.png\" title=\"https://kennethreitz.org/tattoos\"/>\n",
      "  </a>\n",
      "</p>\n",
      "<p>\n",
      "<iframe src=\"http://ghbtns.com/github-btn.html?user=requests&repo=requests&type=watch&count=true&size=large\"\n",
      "  allowtransparency=\"true\" frameborder=\"0\" scrolling=\"0\" width=\"200px\" height=\"35px\"></iframe>\n",
      "</p>\n",
      "\n",
      "<p>\n",
      "  Requests is an elegant and simple HTTP library for Python, built for\n",
      "  human beings. You are currently looking at the documentation of the\n",
      "  development release.\n",
      "</p>\n",
      "\n",
      "<h3>Stay Informed</h3>\n",
      "<p>Receive updates on new releases and upcoming projects.</p>\n",
      "\n",
      "<p><a href=\"http://tinyletter.com/kennethreitz\">Join Mailing List</a>.</p>\n",
      "\n",
      "<hr/>\n",
      "\n",
      "<script async type=\"text/javascript\" src=\"//cdn.carbonads.com/carbon.js?zoneid=1673&serve=C6AILKT&placement=pythonrequestsorg\" id=\"_carbonads_js\"></script>\n",
      "\n",
      "<p>If you enjoy using this project, <a href=\"https://saythanks.io/to/kennethreitz\">Say Thanks!</a></p>\n",
      "\n",
      "<p><iframe src=\"http://ghbtns.com/github-btn.html?user=kennethreitz&type=follow&count=false\"\n",
      "  allowtransparency=\"true\" frameborder=\"0\" scrolling=\"0\" width=\"200\" height=\"20\"></iframe></p>\n",
      "\n",
      "<p><a href=\"https://twitter.com/kennethreitz\" class=\"twitter-follow-button\" data-show-count=\"false\">Follow @kennethreitz</a> <script>!function(d,s,id){var js,fjs=d.getElementsByTagName(s)[0],p=/^http:/.test(d.location)?'http':'https';if(!d.getElementById(id)){js=d.createElement(s);js.id=id;js.src=p+'://platform.twitter.com/widgets.js';fjs.parentNode.insertBefore(js,fjs);}}(document, 'script', 'twitter-wjs');</script></p>\n",
      "\n",
      "\n",
      "<h3>Other Projects</h3>\n",
      "\n",
      "<p>More <a href=\"http://kennethreitz.org/\">Kenneth Reitz</a> projects:</p>\n",
      "<ul>\n",
      "    <li><a href=\"http://edmsynths.com/\">edmsynths.com</a></li>\n",
      "    <li><a href=\"http://pipenv.org/\">pipenv</a></li>\n",
      "    <li><a href=\"http://pep8.org/\">pep8.org</a></li>\n",
      "    <li><a href=\"http://httpbin.org/\">httpbin.org</a></li>\n",
      "    <li><a href=\"http://python-guide.org\">The Python Guide</a></li>\n",
      "    <li><a href=\"https://github.com/kennethreitz/maya\">Maya: Datetimes for Humans</a></li>\n",
      "    <li><a href=\"https://github.com/kennethreitz/records\">Records: SQL for Humans</a></li>\n",
      "    <li><a href=\"http://www.git-legit.org\">Legit: Git for Humans</a></li>\n",
      "    <li><a href=\"http://docs.python-tablib.org/en/latest/\">Tablib: Tabular Datasets</a></li>\n",
      "</ul>\n",
      "\n",
      "\n",
      "<h3>Translations</h3>\n",
      "\n",
      "<ul>\n",
      "  <li><a href=\"http://docs.python-requests.org/\">English</a></li>\n",
      "  <li><a href=\"http://fr.python-requests.org/\">French</a></li>\n",
      "  <li><a href=\"http://de.python-requests.org/\">German</a></li>\n",
      "  <li><a href=\"http://jp.python-requests.org/\">Japanese</a></li>\n",
      "  <li><a href=\"http://cn.python-requests.org/\">Chinese</a></li>\n",
      "  <li><a href=\"http://pt.python-requests.org/\">Portuguese</a></li>\n",
      "  <li><a href=\"http://it.python-requests.org/\">Italian</a></li>\n",
      "  <li><a href=\"http://es.python-requests.org/\">Spanish</a></li>\n",
      "</ul>\n",
      "\n",
      "  <h3><a href=\"../index.html\">å",
      "§å®¹ç®å½</a></h3>\n",
      "  <ul>\n",
      "<li><a class=\"reference internal\" href=\"#\">å¿«éä¸æ</a><ul>\n",
      "<li><a class=\"reference internal\" href=\"#id2\">åéè¯·æ±</a></li>\n",
      "<li><a class=\"reference internal\" href=\"#url\">ä¼ é URL åæ°</a></li>\n",
      "<li><a class=\"reference internal\" href=\"#id3\">ååºå",
      "å®¹</a></li>\n",
      "<li><a class=\"reference internal\" href=\"#id4\">äºè¿å¶ååºå",
      "å®¹</a></li>\n",
      "<li><a class=\"reference internal\" href=\"#json\">JSON ååºå",
      "å®¹</a></li>\n",
      "<li><a class=\"reference internal\" href=\"#id5\">åå§ååºå",
      "å®¹</a></li>\n",
      "<li><a class=\"reference internal\" href=\"#id6\">å®å¶è¯·æ±å¤´</a></li>\n",
      "<li><a class=\"reference internal\" href=\"#post\">æ´å å¤æç POST è¯·æ±</a></li>\n",
      "<li><a class=\"reference internal\" href=\"#post-multipart-encoded\">POSTä¸ä¸ªå¤é¨åç¼ç (Multipart-Encoded)çæä»¶</a></li>\n",
      "<li><a class=\"reference internal\" href=\"#id7\">ååºç¶æç </a></li>\n",
      "<li><a class=\"reference internal\" href=\"#id8\">ååºå¤´</a></li>\n",
      "<li><a class=\"reference internal\" href=\"#cookie\">Cookie</a></li>\n",
      "<li><a class=\"reference internal\" href=\"#id9\">éå®åä¸è¯·æ±åå²</a></li>\n",
      "<li><a class=\"reference internal\" href=\"#id10\">è¶",
      "æ¶</a></li>\n",
      "<li><a class=\"reference internal\" href=\"#id11\">éè¯¯ä¸å¼å¸¸</a></li>\n",
      "</ul>\n",
      "</li>\n",
      "</ul>\n",
      "<div class=\"relations\">\n",
      "<h3>Related Topics</h3>\n",
      "<ul>\n",
      "  <li><a href=\"../index.html\">Documentation overview</a><ul>\n",
      "      <li>Previous: <a href=\"install.html\" title=\"ä¸ä¸ç« \">å®è£",
      " Requests</a></li>\n",
      "      <li>Next: <a href=\"advanced.html\" title=\"ä¸ä¸ç« \">é«çº§ç¨æ³</a></li>\n",
      "  </ul></li>\n",
      "</ul>\n",
      "</div>\n",
      "<div id=\"searchbox\" style=\"display: none\" role=\"search\">\n",
      "  <h3>å¿«éæç´¢</h3>\n",
      "    <form class=\"search\" action=\"../search.html\" method=\"get\">\n",
      "      <div><input type=\"text\" name=\"q\" /></div>\n",
      "      <div><input type=\"submit\" value=\"è½¬å\" /></div>\n",
      "      <input type=\"hidden\" name=\"check_keywords\" value=\"yes\" />\n",
      "      <input type=\"hidden\" name=\"area\" value=\"default\" />\n",
      "    </form>\n",
      "</div>\n",
      "<script type=\"text/javascript\">$('#searchbox').show(0);</script><!-- Alabaster (krTheme++) Hacks -->\n",
      "\n",
      "<!-- CSS Adjustments (I'm very picky.) -->\n",
      "<style type=\"text/css\">\n",
      "\n",
      "  /* Rezzy requires precise alignment. */\n",
      "  img.logo {margin-left: -20px!important;}\n",
      "\n",
      "  /* \"Quick Search\" should be capitalized. */\n",
      "  div#searchbox h3 {text-transform: capitalize;}\n",
      "\n",
      "  /* Make the document a little wider, less code is cut-off. */\n",
      "  div.document {width: 1008px;}\n",
      "\n",
      "  /* Much-improved spacing around code blocks. */\n",
      "  div.highlight pre {padding: 11px 14px;}\n",
      "\n",
      "  /* Remain Responsive! */\n",
      "  @media screen and (max-width: 1008px) {\n",
      "    div.sphinxsidebar {display: none;}\n",
      "    div.document {width: 100%!important;}\n",
      "\n",
      "    /* Have code blocks escape the document right-margin. */\n",
      "    div.highlight pre {margin-right: -30px;}\n",
      "  }\n",
      "\n",
      "</style>\n",
      "\n",
      "<!-- Analytics tracking for Kenneth. -->\n",
      "<script type=\"text/javascript\">\n",
      "  var _gauges = _gauges || [];\n",
      "  (function() {\n",
      "    var t   = document.createElement('script');\n",
      "    t.type  = 'text/javascript';\n",
      "    t.async = true;\n",
      "    t.id    = 'gauges-tracker';\n",
      "    t.setAttribute('data-site-id', '56ca7a57c88d9011080024dd');\n",
      "    t.setAttribute('data-track-path', 'https://track.gaug.es/track.gif');\n",
      "    t.src = 'https://d36ee2fcip1434.cloudfront.net/track.js';\n",
      "    var s = document.getElementsByTagName('script')[0];\n",
      "    s.parentNode.insertBefore(t, s);\n",
      "  })();\n",
      "</script>\n",
      "\n",
      "<!-- There are no more hacks. -->\n",
      "<!--         à®Ú¿Ú°Û£-Ú°Û£â         -->\n",
      "<!--   Love, Kenneth Reitz    -->\n",
      "\n",
      "<script src=\"../_static//konami.js\"></script>\n",
      "<script>\n",
      "  var easter_egg = new Konami('http://fortunes.herokuapp.com/random/raw');\n",
      "</script>\n",
      "\n",
      "<!-- That was not a hack. That was art. -->\n",
      "        </div>\n",
      "      </div>\n",
      "      <div class=\"clearer\"></div>\n",
      "    </div>\n",
      "    <div class=\"footer\">\n",
      "      &copy;MMXVII. A <a href=\"http://kennethreitz.com/pages/open-projects.html\">Kenneth Reitz</a> Project.\n",
      "      \n",
      "    </div>\n",
      "\n",
      "    \n",
      "    <a href=\"https://github.com/requests/requests\" class=\"github\">\n",
      "        <img style=\"position: absolute; top: 0; right: 0; border: 0;\" src=\"https://s3.amazonaws.com/github/ribbons/forkme_right_darkblue_121621.png\" alt=\"Fork me on GitHub\"  class=\"github\"/>\n",
      "    </a>\n",
      "    \n",
      "\n",
      "    \n",
      "  </body>\n",
      "</html>\n"
     ]
    }
   ],
   "source": [
    "import requests # http://docs.python-requests.org/zh_CN/latest/user/quickstart.html\n",
    "\n",
    "r = requests.get('http://docs.python-requests.org/zh_CN/latest/user/quickstart.html')\n",
    "\n",
    "print(r.text)"
   ]
  },
  {
   "cell_type": "code",
   "execution_count": null,
   "metadata": {
    "collapsed": true
   },
   "outputs": [],
   "source": []
  }
 ],
 "metadata": {
  "kernelspec": {
   "display_name": "Python 2",
   "language": "python",
   "name": "python2"
  },
  "language_info": {
   "codemirror_mode": {
    "name": "ipython",
    "version": 2
   },
   "file_extension": ".py",
   "mimetype": "text/x-python",
   "name": "python",
   "nbconvert_exporter": "python",
   "pygments_lexer": "ipython2",
   "version": "2.7.13"
  }
 },
 "nbformat": 4,
 "nbformat_minor": 2
}
