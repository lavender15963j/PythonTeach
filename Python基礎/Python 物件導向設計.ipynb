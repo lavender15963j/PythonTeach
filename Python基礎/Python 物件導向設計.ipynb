{
 "cells": [
  {
   "cell_type": "markdown",
   "metadata": {},
   "source": [
    "一、closure\n",
    "==========="
   ]
  },
  {
   "cell_type": "markdown",
   "metadata": {},
   "source": [
    "#### 閉包(closure): 當函式與變數被定義出來後，可以被呼叫到的區域，稱之為閉包。通常閉包會形成在 class 或 function 內。"
   ]
  },
  {
   "cell_type": "code",
   "execution_count": 3,
   "metadata": {},
   "outputs": [
    {
     "name": "stdout",
     "output_type": "stream",
     "text": [
      "a: 1\n",
      "b: 1\n",
      "a + b: 2\n"
     ]
    },
    {
     "ename": "NameError",
     "evalue": "name 'c' is not defined",
     "output_type": "error",
     "traceback": [
      "\u001b[1;31m---------------------------------------------------------------------------\u001b[0m",
      "\u001b[1;31mNameError\u001b[0m                                 Traceback (most recent call last)",
      "\u001b[1;32m<ipython-input-3-bc0228d1256d>\u001b[0m in \u001b[0;36m<module>\u001b[1;34m\u001b[0m\n\u001b[0;32m      9\u001b[0m \u001b[0mprint\u001b[0m\u001b[1;33m(\u001b[0m\u001b[1;34m\"b:\"\u001b[0m\u001b[1;33m,\u001b[0m \u001b[0mb\u001b[0m\u001b[1;33m)\u001b[0m\u001b[1;33m\u001b[0m\u001b[1;33m\u001b[0m\u001b[0m\n\u001b[0;32m     10\u001b[0m \u001b[0mprint\u001b[0m\u001b[1;33m(\u001b[0m\u001b[1;34m\"a + b:\"\u001b[0m\u001b[1;33m,\u001b[0m \u001b[0madd\u001b[0m\u001b[1;33m(\u001b[0m\u001b[1;33m)\u001b[0m\u001b[1;33m)\u001b[0m\u001b[1;33m\u001b[0m\u001b[1;33m\u001b[0m\u001b[0m\n\u001b[1;32m---> 11\u001b[1;33m \u001b[0mprint\u001b[0m\u001b[1;33m(\u001b[0m\u001b[1;34m\"c:\"\u001b[0m\u001b[1;33m,\u001b[0m \u001b[0mc\u001b[0m\u001b[1;33m)\u001b[0m\u001b[1;33m\u001b[0m\u001b[1;33m\u001b[0m\u001b[0m\n\u001b[0m",
      "\u001b[1;31mNameError\u001b[0m: name 'c' is not defined"
     ]
    }
   ],
   "source": [
    "a = 1 # 定義在外層，可以讓 function 使用到\n",
    "b = 1 # 定義在外層，可以讓 function 使用到\n",
    "\n",
    "def add():\n",
    "    c = a + b # 定義在function內，而 function是個閉包，只要離開 function 這個變數就會讀不到\n",
    "    return c\n",
    "\n",
    "print(\"a:\", a)\n",
    "print(\"b:\", b)\n",
    "print(\"a + b:\", add())\n",
    "print(\"c:\", c) # c 變數在閉包內，外層沒有這個變數存在: name 'c' is not defined"
   ]
  },
  {
   "cell_type": "code",
   "execution_count": 6,
   "metadata": {},
   "outputs": [
    {
     "name": "stdout",
     "output_type": "stream",
     "text": [
      "a: 1\n",
      "b: 1\n",
      "a + b: 5\n",
      "a: 1\n",
      "b: 1\n"
     ]
    },
    {
     "ename": "NameError",
     "evalue": "name 'c' is not defined",
     "output_type": "error",
     "traceback": [
      "\u001b[1;31m---------------------------------------------------------------------------\u001b[0m",
      "\u001b[1;31mNameError\u001b[0m                                 Traceback (most recent call last)",
      "\u001b[1;32m<ipython-input-6-a9c56f169010>\u001b[0m in \u001b[0;36m<module>\u001b[1;34m\u001b[0m\n\u001b[0;32m     14\u001b[0m \u001b[0mprint\u001b[0m\u001b[1;33m(\u001b[0m\u001b[1;34m\"a:\"\u001b[0m\u001b[1;33m,\u001b[0m \u001b[0ma\u001b[0m\u001b[1;33m)\u001b[0m\u001b[1;33m\u001b[0m\u001b[1;33m\u001b[0m\u001b[0m\n\u001b[0;32m     15\u001b[0m \u001b[0mprint\u001b[0m\u001b[1;33m(\u001b[0m\u001b[1;34m\"b:\"\u001b[0m\u001b[1;33m,\u001b[0m \u001b[0mb\u001b[0m\u001b[1;33m)\u001b[0m\u001b[1;33m\u001b[0m\u001b[1;33m\u001b[0m\u001b[0m\n\u001b[1;32m---> 16\u001b[1;33m \u001b[0mprint\u001b[0m\u001b[1;33m(\u001b[0m\u001b[1;34m\"c:\"\u001b[0m\u001b[1;33m,\u001b[0m \u001b[0mc\u001b[0m\u001b[1;33m)\u001b[0m\u001b[1;33m\u001b[0m\u001b[1;33m\u001b[0m\u001b[0m\n\u001b[0m",
      "\u001b[1;31mNameError\u001b[0m: name 'c' is not defined"
     ]
    }
   ],
   "source": [
    "a = 1 # 定義在外層，可以讓 function 使用到\n",
    "b = 1 # 定義在外層，可以讓 function 使用到\n",
    "\n",
    "def add(): \n",
    "    # 當外面有 a, b，但內部也有宣告 a, b 的情況下，以閉包內的為主\n",
    "    a = 2\n",
    "    b = 3\n",
    "    c = a + b # 定義在function內，而 function是個閉包，只要離開 function 這個變數就會讀不到\n",
    "    return c\n",
    "\n",
    "print(\"a:\", a)\n",
    "print(\"b:\", b)\n",
    "print(\"a + b:\", add())\n",
    "print(\"a:\", a)\n",
    "print(\"b:\", b)\n",
    "print(\"c:\", c) # c 變數在閉包內，外層沒有這個變數存在: name 'c' is not defined"
   ]
  },
  {
   "cell_type": "code",
   "execution_count": 7,
   "metadata": {},
   "outputs": [
    {
     "ename": "NameError",
     "evalue": "name 'testFunction' is not defined",
     "output_type": "error",
     "traceback": [
      "\u001b[1;31m---------------------------------------------------------------------------\u001b[0m",
      "\u001b[1;31mNameError\u001b[0m                                 Traceback (most recent call last)",
      "\u001b[1;32m<ipython-input-7-0c2e0a7f3853>\u001b[0m in \u001b[0;36m<module>\u001b[1;34m\u001b[0m\n\u001b[0;32m      4\u001b[0m         \u001b[1;32mreturn\u001b[0m\u001b[1;33m\u001b[0m\u001b[1;33m\u001b[0m\u001b[0m\n\u001b[0;32m      5\u001b[0m \u001b[1;33m\u001b[0m\u001b[0m\n\u001b[1;32m----> 6\u001b[1;33m \u001b[0mprint\u001b[0m\u001b[1;33m(\u001b[0m\u001b[0mtestFunction\u001b[0m\u001b[1;33m)\u001b[0m\u001b[1;33m\u001b[0m\u001b[1;33m\u001b[0m\u001b[0m\n\u001b[0m",
      "\u001b[1;31mNameError\u001b[0m: name 'testFunction' is not defined"
     ]
    }
   ],
   "source": [
    "class TestObject(object):\n",
    "    \n",
    "    def testFunction(self):\n",
    "        return\n",
    "    \n",
    "print(testFunction) # testFunction 被定義在 class 內: name 'testFunction' is not defined"
   ]
  },
  {
   "cell_type": "code",
   "execution_count": 9,
   "metadata": {},
   "outputs": [
    {
     "name": "stdout",
     "output_type": "stream",
     "text": [
      "<function testFunction at 0x00000000050D00D0>\n"
     ]
    }
   ],
   "source": [
    "def testFunction(self):\n",
    "    return\n",
    "\n",
    "class TestObject(object):\n",
    "    \n",
    "    def testFunction(self):\n",
    "        return\n",
    "    \n",
    "print(testFunction) # testFunction 有被定義在外層，因此存在"
   ]
  },
  {
   "cell_type": "code",
   "execution_count": null,
   "metadata": {},
   "outputs": [],
   "source": []
  },
  {
   "cell_type": "markdown",
   "metadata": {},
   "source": [
    "二、物件導向三大特性\n",
    "==================\n",
    "\n",
    "物件導向是一種抽象的概念也是現今主流的程式設計方式。在使用物件導向所設計出來的程式時，我們不需要知道他內部怎麼寫的，我們只要知道輸入輸出與即可。"
   ]
  },
  {
   "cell_type": "markdown",
   "metadata": {},
   "source": [
    "封裝\n",
    "--------"
   ]
  },
  {
   "cell_type": "markdown",
   "metadata": {},
   "source": [
    "#### 封裝: 透過閉包的原理，將一個物件所需要的相關 attribute 與 function 全都包起來，或做成套件或檔案(.py)包所需要的功能，稱之為閉包。使用者不需要了解物件內部是怎麼實作的，只要知道怎麼使用即可。"
   ]
  },
  {
   "cell_type": "markdown",
   "metadata": {},
   "source": [
    "下面以 建立一個 矩形物件為例"
   ]
  },
  {
   "cell_type": "markdown",
   "metadata": {},
   "source": [
    "我們考慮一個矩形的類別，要描述一個矩形，我們通常需要長(length)跟寬(width)，然後就能計算它的周常與面積。"
   ]
  },
  {
   "cell_type": "code",
   "execution_count": 11,
   "metadata": {},
   "outputs": [],
   "source": [
    "# 功能設計者視角: 需實作出 Rectangle 所需要的相關功能\n",
    "\n",
    "class Rectangle:\n",
    "    \n",
    "    def __init__(self, length, width):\n",
    "        self.length = length\n",
    "        self.width = width\n",
    "        \n",
    "    def perimeter(self): # 封裝了計算周長的函數\n",
    "        return 2 * (self.length + self.width)\n",
    "    \n",
    "    def area(self): # 封裝了計算面積的函數\n",
    "        return self.length * self.width "
   ]
  },
  {
   "cell_type": "code",
   "execution_count": 12,
   "metadata": {},
   "outputs": [
    {
     "name": "stdout",
     "output_type": "stream",
     "text": [
      "r1 周長: 10\n",
      "r2 周長: 20\n",
      "r1 面積: 6\n",
      "r2 面積: 25\n"
     ]
    }
   ],
   "source": [
    "# 功能使用者視角: 只要知道怎麼使用即可\n",
    "\n",
    "r1 = Rectangle(2, 3) # 宣告 r1 為長2寬3的矩形\n",
    "r2 = Rectangle(5, 5) # 宣告 r2 為長5寬5的矩形\n",
    "\n",
    "# 我們不需要知道周長怎麼計算，我們只知道只要 call perimeter() 就能得到周常\n",
    "print(\"r1 周長:\", r1.perimeter())\n",
    "print(\"r2 周長:\", r2.perimeter())\n",
    "\n",
    "# 我們不需要知道周長怎麼計算，我們只知道只要 call area() 就能得到周常\n",
    "print(\"r1 面積:\", r1.area())\n",
    "print(\"r2 面積:\", r2.area())"
   ]
  },
  {
   "cell_type": "code",
   "execution_count": 17,
   "metadata": {},
   "outputs": [
    {
     "name": "stdout",
     "output_type": "stream",
     "text": [
      "Windows\n"
     ]
    }
   ],
   "source": [
    "# 以 platform 這個套件為例\n",
    "# https://docs.python.org/2/library/platform.html\n",
    "\n",
    "import platform\n",
    "\n",
    "print(platform.system()) # 我們不需要知道 system 這個函式怎麼去拿作業系統名稱。我們只要知道 call system() 即可拿到。"
   ]
  },
  {
   "cell_type": "markdown",
   "metadata": {},
   "source": [
    "繼承\n",
    "-------"
   ]
  },
  {
   "cell_type": "markdown",
   "metadata": {},
   "source": [
    "#### 繼承: 類別擁有繼承的機制，子類別會繼承來自父類別的所有東西。通常用來簡化程式碼與判斷物件屬於哪種類別。"
   ]
  },
  {
   "cell_type": "markdown",
   "metadata": {},
   "source": [
    "下面我以 Dog 為例，我創立一個 Dog 的父類別，然後讓 Hound(獵犬) 與 Poodle(貴賓) 繼承 Dog 的特性。"
   ]
  },
  {
   "cell_type": "code",
   "execution_count": 34,
   "metadata": {},
   "outputs": [],
   "source": [
    "class Dog(object):\n",
    "    \n",
    "    def __init__(self, name):\n",
    "        self.name = name\n",
    "        \n",
    "    def screaming(self):\n",
    "        print(\"汪~~\")\n",
    "        \n",
    "    def sleep(self):\n",
    "        print(self.name, '正在睡覺')\n",
    "        \n",
    "    def eat(self):\n",
    "        print(self.name, '正在吃東西')"
   ]
  },
  {
   "cell_type": "code",
   "execution_count": 35,
   "metadata": {},
   "outputs": [],
   "source": [
    "class Hound(Dog):\n",
    "    pass"
   ]
  },
  {
   "cell_type": "code",
   "execution_count": 36,
   "metadata": {},
   "outputs": [],
   "source": [
    "class Poodle(Dog):\n",
    "    pass"
   ]
  },
  {
   "cell_type": "code",
   "execution_count": 37,
   "metadata": {},
   "outputs": [
    {
     "name": "stdout",
     "output_type": "stream",
     "text": [
      "汪~~\n",
      "汪~~\n",
      "獵犬一號 正在睡覺\n",
      "貴賓狗一號 正在睡覺\n",
      "獵犬一號 正在吃東西\n",
      "貴賓狗一號 正在吃東西\n"
     ]
    }
   ],
   "source": [
    "h1 = Hound(\"獵犬一號\")\n",
    "p1 = Poodle(\"貴賓狗一號\")\n",
    "\n",
    "# 貴賓與獵犬皆繼承到狗該有的特性\n",
    "h1.screaming()\n",
    "p1.screaming()\n",
    "h1.sleep()\n",
    "p1.sleep()\n",
    "h1.eat()\n",
    "p1.eat()"
   ]
  },
  {
   "cell_type": "code",
   "execution_count": 38,
   "metadata": {},
   "outputs": [],
   "source": [
    "class Hound(Dog):\n",
    "    \n",
    "    def screaming(self): # override: 覆蓋原有的狗叫聲\n",
    "        print(\"汪汪汪~~\")"
   ]
  },
  {
   "cell_type": "code",
   "execution_count": 39,
   "metadata": {},
   "outputs": [
    {
     "name": "stdout",
     "output_type": "stream",
     "text": [
      "汪汪汪~~\n",
      "汪~~\n"
     ]
    }
   ],
   "source": [
    "h1 = Hound(\"獵犬一號\")\n",
    "p1 = Poodle(\"貴賓狗一號\")\n",
    "\n",
    "# 貴賓與獵犬皆繼承到狗該有的特性，但獵犬在繼承後有被改寫，有稍微的不同\n",
    "h1.screaming()\n",
    "p1.screaming()"
   ]
  },
  {
   "cell_type": "code",
   "execution_count": 41,
   "metadata": {},
   "outputs": [
    {
     "name": "stdout",
     "output_type": "stream",
     "text": [
      "h1 屬於獵犬嗎: True\n",
      "h1 屬於貴賓狗嗎: False\n",
      "p1 屬於獵犬嗎: False\n",
      "p1 屬於貴賓狗嗎: True\n",
      "h1 屬於獵犬嗎: True\n",
      "p1 屬於貴賓狗嗎: True\n"
     ]
    }
   ],
   "source": [
    "# isinstance(obj, class): 判斷 obj 是否屬於 class 的\n",
    "\n",
    "print(\"h1 屬於獵犬嗎:\", isinstance(h1, Hound))\n",
    "print(\"h1 屬於貴賓狗嗎:\", isinstance(h1, Poodle))\n",
    "print(\"p1 屬於獵犬嗎:\", isinstance(p1, Hound))\n",
    "print(\"p1 屬於貴賓狗嗎:\", isinstance(p1, Poodle))\n",
    "\n",
    "print(\"h1 屬於獵犬嗎:\", isinstance(h1, Dog))\n",
    "print(\"p1 屬於貴賓狗嗎:\", isinstance(p1, Dog))"
   ]
  },
  {
   "cell_type": "markdown",
   "metadata": {},
   "source": [
    "抽象類別與介面\n",
    "-----------------------\n",
    "\n",
    "抽象類別: 類似於草稿，我們只需要定義他有啥功能即可，可不用實做出來。\n",
    "介面: 可以想像成介面是額外的 plugin。在 python 當中並沒有介面，以下用 python 舉例。\n",
    "\n",
    "參考資料:\n",
    "\n",
    "Python abc:\n",
    "https://blog.louie.lu/2017/07/28/%E4%BD%A0%E6%89%80%E4%B8%8D%E7%9F%A5%E9%81%93%E7%9A%84-python-%E6%A8%99%E6%BA%96%E5%87%BD%E5%BC%8F%E5%BA%AB%E7%94%A8%E6%B3%95-03-abc/\n",
    "\n",
    "Java 抽象類別與介面:\n",
    "https://coffee0127.github.io/blog/2016/09/10/abstract-class-vs-interface/"
   ]
  },
  {
   "cell_type": "code",
   "execution_count": 42,
   "metadata": {},
   "outputs": [],
   "source": [
    "import abc\n",
    "\n",
    "# 宣告一個抽象類別叫 Animal，並定義身為動物所該有的行為\n",
    "class Animal(abc.ABC):\n",
    "    \n",
    "    def __init__(self, name):\n",
    "        self.name = name\n",
    "        self.level = 1\n",
    "        \n",
    "    @abc.abstractmethod # 身為動物所該有的行為。每種動物的 screaming 都不一樣，只有繼承後實作出來才知道怎 screaming\n",
    "    def screaming(self):\n",
    "        return NotImplemented\n",
    "       \n",
    "    @abc.abstractmethod # 身為動物所該有的行為。每種動物的 est 都不一樣，只有繼承後實作出來才知道怎 eat\n",
    "    def eat(self):\n",
    "        return NotImplemented\n",
    "    \n",
    "    def upgrade(self):\n",
    "        self.level += 1\n",
    "        print(self.name, \"等級提升到\", self.level)"
   ]
  },
  {
   "cell_type": "code",
   "execution_count": 43,
   "metadata": {},
   "outputs": [
    {
     "ename": "TypeError",
     "evalue": "Can't instantiate abstract class Dog with abstract methods eat, screaming",
     "output_type": "error",
     "traceback": [
      "\u001b[1;31m---------------------------------------------------------------------------\u001b[0m",
      "\u001b[1;31mTypeError\u001b[0m                                 Traceback (most recent call last)",
      "\u001b[1;32m<ipython-input-43-fa0d19c800a7>\u001b[0m in \u001b[0;36m<module>\u001b[1;34m\u001b[0m\n\u001b[0;32m      3\u001b[0m     \u001b[1;32mpass\u001b[0m\u001b[1;33m\u001b[0m\u001b[1;33m\u001b[0m\u001b[0m\n\u001b[0;32m      4\u001b[0m \u001b[1;33m\u001b[0m\u001b[0m\n\u001b[1;32m----> 5\u001b[1;33m \u001b[0md1\u001b[0m \u001b[1;33m=\u001b[0m \u001b[0mDog\u001b[0m\u001b[1;33m(\u001b[0m\u001b[1;34m\"狗狗1號\"\u001b[0m\u001b[1;33m)\u001b[0m\u001b[1;33m\u001b[0m\u001b[1;33m\u001b[0m\u001b[0m\n\u001b[0m",
      "\u001b[1;31mTypeError\u001b[0m: Can't instantiate abstract class Dog with abstract methods eat, screaming"
     ]
    }
   ],
   "source": [
    "# 當 Dog 想成為動物，但 Dog 並沒有實作出身為動物所該有的\n",
    "class Dog(Animal):\n",
    "    pass\n",
    "\n",
    "d1 = Dog(\"狗狗1號\")"
   ]
  },
  {
   "cell_type": "code",
   "execution_count": 45,
   "metadata": {},
   "outputs": [
    {
     "name": "stdout",
     "output_type": "stream",
     "text": [
      "汪~~\n",
      "狗狗1號 正在吃東西\n",
      "狗狗1號 等級提升到 2\n",
      "狗狗1號 等級提升到 3\n",
      "狗狗1號 等級提升到 4\n"
     ]
    }
   ],
   "source": [
    "class Dog(Animal):\n",
    "    \n",
    "    def screaming(self):\n",
    "        print('汪~~')\n",
    "    \n",
    "    def eat(self):\n",
    "        print(self.name, '正在吃肉')\n",
    "        \n",
    "d1 = Dog(\"狗狗1號\")\n",
    "d1.screaming()\n",
    "d1.eat()\n",
    "d1.upgrade()\n",
    "d1.upgrade()\n",
    "d1.upgrade()"
   ]
  },
  {
   "cell_type": "code",
   "execution_count": 46,
   "metadata": {},
   "outputs": [
    {
     "name": "stdout",
     "output_type": "stream",
     "text": [
      "咩~~\n",
      "綿羊1號 正在吃草\n",
      "綿羊1號 等級提升到 2\n",
      "綿羊1號 等級提升到 3\n",
      "綿羊1號 等級提升到 4\n"
     ]
    }
   ],
   "source": [
    "class Sheep(Animal):\n",
    "    \n",
    "    def screaming(self):\n",
    "        print('咩~~')\n",
    "    \n",
    "    def eat(self):\n",
    "        print(self.name, '正在吃草')\n",
    "        \n",
    "s1 = Sheep(\"綿羊1號\")\n",
    "s1.screaming()\n",
    "s1.eat()\n",
    "s1.upgrade()\n",
    "s1.upgrade()\n",
    "s1.upgrade()"
   ]
  },
  {
   "cell_type": "code",
   "execution_count": 48,
   "metadata": {},
   "outputs": [
    {
     "name": "stdout",
     "output_type": "stream",
     "text": [
      "d1 屬於犬嗎: True\n",
      "d1 屬於綿羊嗎: False\n",
      "s1 屬於犬嗎: False\n",
      "s1 屬於綿羊嗎: True\n",
      "d1 屬於動物嗎: True\n",
      "s1 屬於動物嗎: True\n"
     ]
    }
   ],
   "source": [
    "print(\"d1 屬於犬嗎:\", isinstance(d1, Dog))\n",
    "print(\"d1 屬於綿羊嗎:\", isinstance(d1, Sheep))\n",
    "print(\"s1 屬於犬嗎:\", isinstance(s1, Dog))\n",
    "print(\"s1 屬於綿羊嗎:\", isinstance(s1, Sheep))\n",
    "\n",
    "print(\"d1 屬於動物嗎:\", isinstance(d1, Animal))\n",
    "print(\"s1 屬於動物嗎:\", isinstance(s1, Animal))"
   ]
  },
  {
   "cell_type": "code",
   "execution_count": 52,
   "metadata": {},
   "outputs": [
    {
     "ename": "TypeError",
     "evalue": "Can't instantiate abstract class FlyingSheep with abstract methods fly",
     "output_type": "error",
     "traceback": [
      "\u001b[1;31m---------------------------------------------------------------------------\u001b[0m",
      "\u001b[1;31mTypeError\u001b[0m                                 Traceback (most recent call last)",
      "\u001b[1;32m<ipython-input-52-7e3941690365>\u001b[0m in \u001b[0;36m<module>\u001b[1;34m\u001b[0m\n\u001b[0;32m     10\u001b[0m \u001b[1;33m\u001b[0m\u001b[0m\n\u001b[0;32m     11\u001b[0m \u001b[1;33m\u001b[0m\u001b[0m\n\u001b[1;32m---> 12\u001b[1;33m \u001b[0mfs1\u001b[0m \u001b[1;33m=\u001b[0m \u001b[0mFlyingSheep\u001b[0m\u001b[1;33m(\u001b[0m\u001b[1;34m\"飛天綿羊1號\"\u001b[0m\u001b[1;33m)\u001b[0m\u001b[1;33m\u001b[0m\u001b[1;33m\u001b[0m\u001b[0m\n\u001b[0m\u001b[0;32m     13\u001b[0m \u001b[0mfs1\u001b[0m\u001b[1;33m.\u001b[0m\u001b[0mfly\u001b[0m\u001b[1;33m(\u001b[0m\u001b[1;33m)\u001b[0m\u001b[1;33m\u001b[0m\u001b[1;33m\u001b[0m\u001b[0m\n",
      "\u001b[1;31mTypeError\u001b[0m: Can't instantiate abstract class FlyingSheep with abstract methods fly"
     ]
    }
   ],
   "source": [
    "# 因為 python 沒有介面的關係，但依然能夠實作出來。以下同樣用 abc 舉類\n",
    "class Fly(abc.ABC):\n",
    "\n",
    "    @abc.abstractmethod \n",
    "    def fly(self):\n",
    "        return NotImplemented\n",
    "    \n",
    "class FlyingSheep(Sheep, Fly): # 沒實作 fly 怎麼飛\n",
    "    pass\n",
    "\n",
    "        \n",
    "fs1 = FlyingSheep(\"飛天綿羊1號\")\n",
    "fs1.fly()"
   ]
  },
  {
   "cell_type": "code",
   "execution_count": 54,
   "metadata": {},
   "outputs": [
    {
     "name": "stdout",
     "output_type": "stream",
     "text": [
      "飛天綿羊1號 用翅膀飛行\n"
     ]
    }
   ],
   "source": [
    "class FlyingSheep(Sheep, Fly):\n",
    "    \n",
    "    def fly(self): # 實作出飛天綿羊怎麼飛\n",
    "        print(self.name, \"用翅膀飛行\")\n",
    "\n",
    "        \n",
    "fs1 = FlyingSheep(\"飛天綿羊1號\")\n",
    "fs1.fly()"
   ]
  },
  {
   "cell_type": "markdown",
   "metadata": {},
   "source": [
    "## 多型"
   ]
  },
  {
   "cell_type": "markdown",
   "metadata": {},
   "source": [
    "#### 多型: 繼承來自相同的父類別，子類別們必定擁有相同的功能。用於統一變數名或 function 名。"
   ]
  },
  {
   "cell_type": "code",
   "execution_count": 57,
   "metadata": {},
   "outputs": [
    {
     "name": "stdout",
     "output_type": "stream",
     "text": [
      "飛天綿羊1號 用翅膀飛行\n",
      "飛天狗1號 用噴射背包飛行\n"
     ]
    }
   ],
   "source": [
    "class FlyingDog(Dog, Fly):\n",
    "    \n",
    "    def fly(self): # 實作出飛天綿羊怎麼飛\n",
    "        print(self.name, \"用噴射背包飛行\")\n",
    "    \n",
    "# 只要知道飛天綿羊與飛天狗皆有繼承 Fly，他們並定都有 fly function 可以 call。\n",
    "fs1 = FlyingSheep(\"飛天綿羊1號\")\n",
    "fs1.fly()\n",
    "fd1 = FlyingDog(\"飛天狗1號\")\n",
    "fd1.fly()"
   ]
  },
  {
   "cell_type": "code",
   "execution_count": null,
   "metadata": {},
   "outputs": [],
   "source": []
  }
 ],
 "metadata": {
  "kernelspec": {
   "display_name": "Python 3",
   "language": "python",
   "name": "python3"
  },
  "language_info": {
   "codemirror_mode": {
    "name": "ipython",
    "version": 3
   },
   "file_extension": ".py",
   "mimetype": "text/x-python",
   "name": "python",
   "nbconvert_exporter": "python",
   "pygments_lexer": "ipython3",
   "version": "3.8.5"
  }
 },
 "nbformat": 4,
 "nbformat_minor": 2
}
