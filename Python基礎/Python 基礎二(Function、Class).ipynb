{
 "cells": [
  {
   "cell_type": "markdown",
   "metadata": {},
   "source": [
    "一、Function\n",
    "================="
   ]
  },
  {
   "cell_type": "code",
   "execution_count": 1,
   "metadata": {},
   "outputs": [
    {
     "name": "stdout",
     "output_type": "stream",
     "text": [
      "Hello\n"
     ]
    }
   ],
   "source": [
    "def doSomething():\n",
    "    print(\"Hello\")\n",
    "    \n",
    "doSomething()\n"
   ]
  },
  {
   "cell_type": "code",
   "execution_count": 2,
   "metadata": {},
   "outputs": [
    {
     "name": "stdout",
     "output_type": "stream",
     "text": [
      "3\n"
     ]
    }
   ],
   "source": [
    "def add(a, b):\n",
    "    print(a + b)\n",
    "    \n",
    "x = 1\n",
    "y = 2\n",
    "add(x, y)"
   ]
  },
  {
   "cell_type": "code",
   "execution_count": 3,
   "metadata": {},
   "outputs": [
    {
     "name": "stdout",
     "output_type": "stream",
     "text": [
      "3\n"
     ]
    }
   ],
   "source": [
    "def add(a, b):\n",
    "    return a + b # 回傳 a + b\n",
    "\n",
    "x = 1\n",
    "y = 2\n",
    "z = add(x, y) # z 接住 function return 的值\n",
    "print(z)"
   ]
  },
  {
   "cell_type": "code",
   "execution_count": 9,
   "metadata": {},
   "outputs": [
    {
     "name": "stdout",
     "output_type": "stream",
     "text": [
      "0\n",
      "1\n",
      "3\n",
      "6\n",
      "7\n"
     ]
    }
   ],
   "source": [
    "def add(a=0, b=0, c=0): # 設定這個 function 有三個 input 並且有預設值，如果使用者沒給，就用預設值 0\n",
    "    print(a + b + c)\n",
    "    \n",
    "add()\n",
    "add(1)\n",
    "add(1, 2)\n",
    "add(1, 2, 3)\n",
    "add(a=1, c=6)"
   ]
  },
  {
   "cell_type": "code",
   "execution_count": 12,
   "metadata": {},
   "outputs": [
    {
     "name": "stdout",
     "output_type": "stream",
     "text": [
      "(1,) 1\n",
      "(1, 2) 3\n",
      "(1, 2, 3) 6\n",
      "(1, 2, 3, 4) 10\n",
      "(1, 2, 3, 4, 5) 15\n"
     ]
    }
   ],
   "source": [
    "def add(*args):\n",
    "    print(args, sum(args)) # args 會是個 tuple\n",
    "    \n",
    "add(1)\n",
    "add(1, 2)\n",
    "add(1, 2, 3)\n",
    "add(1, 2, 3, 4)\n",
    "add(1, 2, 3, 4, 5)"
   ]
  },
  {
   "cell_type": "code",
   "execution_count": 14,
   "metadata": {},
   "outputs": [
    {
     "name": "stdout",
     "output_type": "stream",
     "text": [
      "apple : 1\n",
      "banana : 5\n"
     ]
    }
   ],
   "source": [
    "def printData(**kwargs):\n",
    "    for k in kwargs: # kwargs 會是個 dictionary\n",
    "        print(k, \":\", kwargs[k])\n",
    "        \n",
    "printData(apple=1, banana=5)"
   ]
  },
  {
   "cell_type": "markdown",
   "metadata": {},
   "source": [
    "二、Class\n",
    "============"
   ]
  },
  {
   "cell_type": "code",
   "execution_count": 5,
   "metadata": {},
   "outputs": [
    {
     "name": "stdout",
     "output_type": "stream",
     "text": [
      "<__main__.Car object at 0x0000000004B9D240>\n",
      "Blue\n"
     ]
    }
   ],
   "source": [
    "class Car():\n",
    "    \n",
    "    def __init__(self): # 建構式\n",
    "        self.color = \"Blue\"\n",
    "        \n",
    "        \n",
    "car1 = Car() # 做出一台 Car \n",
    "print(car1)\n",
    "print(car1.color) # car1 的 color"
   ]
  },
  {
   "cell_type": "code",
   "execution_count": 6,
   "metadata": {},
   "outputs": [
    {
     "name": "stdout",
     "output_type": "stream",
     "text": [
      "Blue\n",
      "Red\n"
     ]
    }
   ],
   "source": [
    "class Car():\n",
    "    \n",
    "    def __init__(self, color): # 建構式\n",
    "        self.color = color\n",
    "        \n",
    "car1 = Car(\"Blue\")\n",
    "car2 = Car(\"Red\")\n",
    "\n",
    "print(car1.color)\n",
    "print(car2.color)"
   ]
  },
  {
   "cell_type": "code",
   "execution_count": 15,
   "metadata": {},
   "outputs": [
    {
     "name": "stdout",
     "output_type": "stream",
     "text": [
      "1\n",
      "2\n"
     ]
    }
   ],
   "source": [
    "class Car():\n",
    "    \n",
    "    def __init__(self, color): # 建構式\n",
    "        self.color = color\n",
    "        self.number_of_people = 0\n",
    "        \n",
    "    def addPeople(self, number):\n",
    "        self.number_of_people += number\n",
    "        \n",
    "car1 = Car(\"Blue\")\n",
    "car2 = Car(\"Red\")\n",
    "\n",
    "car1.addPeople(1)\n",
    "car2.addPeople(2)\n",
    "\n",
    "print(car1.number_of_people)\n",
    "print(car2.number_of_people)"
   ]
  },
  {
   "cell_type": "code",
   "execution_count": 18,
   "metadata": {},
   "outputs": [
    {
     "name": "stdout",
     "output_type": "stream",
     "text": [
      "Blue0\n"
     ]
    }
   ],
   "source": [
    "class Car():\n",
    "    \n",
    "    def __init__(self, color): # 建構式\n",
    "        self.color = color\n",
    "        self.number_of_people = 0\n",
    "        \n",
    "    def addPeople(self, number):\n",
    "        self.number_of_people += number\n",
    "        \n",
    "    def outputProperties(self):\n",
    "        return self.color + str(self.number_of_people)\n",
    "        \n",
    "car1 = Car(\"Blue\")\n",
    "\n",
    "data = car1.outputProperties()\n",
    "\n",
    "print(data)"
   ]
  },
  {
   "cell_type": "markdown",
   "metadata": {},
   "source": [
    "三、Class 特殊定義 function\n",
    "===============================\n",
    "特殊 function 列表: https://docs.python.org/3/genindex-_.html\n"
   ]
  },
  {
   "cell_type": "code",
   "execution_count": 19,
   "metadata": {},
   "outputs": [
    {
     "name": "stdout",
     "output_type": "stream",
     "text": [
      "False\n"
     ]
    }
   ],
   "source": [
    "class Car():\n",
    "    \n",
    "    def __init__(self, color): # 建構式\n",
    "        self.color = color\n",
    "        self.number_of_people = 0\n",
    "        \n",
    "    def addPeople(self, number):\n",
    "        self.number_of_people += number\n",
    "        \n",
    "    def outputProperties(self):\n",
    "        return self.color + str(self.number_of_people)\n",
    "    \n",
    "car1 = Car(\"Blue\")\n",
    "car2 = Car(\"Blue\")\n",
    "    \n",
    "print(car1 == car2)"
   ]
  },
  {
   "cell_type": "code",
   "execution_count": 20,
   "metadata": {},
   "outputs": [
    {
     "name": "stdout",
     "output_type": "stream",
     "text": [
      "True\n"
     ]
    }
   ],
   "source": [
    "class Car():\n",
    "    \n",
    "    def __init__(self, color): # 建構式\n",
    "        self.color = color\n",
    "        self.number_of_people = 0\n",
    "        \n",
    "    def addPeople(self, number):\n",
    "        self.number_of_people += number\n",
    "        \n",
    "    def outputProperties(self):\n",
    "        return self.color + str(self.number_of_people)\n",
    "    \n",
    "    def __eq__(self, other): # 實作 Car 間是否互相相等\n",
    "        return self.color == other.color\n",
    "\n",
    "car1 = Car(\"Blue\")\n",
    "car2 = Car(\"Blue\")\n",
    "    \n",
    "print(car1 == car2)"
   ]
  },
  {
   "cell_type": "markdown",
   "metadata": {},
   "source": [
    "四、Class 的繼承\n",
    "================="
   ]
  },
  {
   "cell_type": "code",
   "execution_count": 28,
   "metadata": {},
   "outputs": [
    {
     "name": "stdout",
     "output_type": "stream",
     "text": [
      "吃~~~\n",
      "ㄏㄏ : 喵~~\n"
     ]
    }
   ],
   "source": [
    "# class 的繼承\n",
    "class Cat():\n",
    "    \n",
    "    def __init__(self, name):\n",
    "        self.name = name\n",
    "        \n",
    "    def barking(self):\n",
    "        print(self.name, \":\", \"喵~~\")\n",
    "        \n",
    "    def eatFood(self):\n",
    "        print(\"吃~~~\")\n",
    "        \n",
    "cat1 = Cat(\"ㄏㄏ\")\n",
    "cat1.eatFood()\n",
    "cat1.barking() "
   ]
  },
  {
   "cell_type": "code",
   "execution_count": 29,
   "metadata": {},
   "outputs": [
    {
     "name": "stdout",
     "output_type": "stream",
     "text": [
      "吃~~~\n",
      "凹凹 : 凹~~\n"
     ]
    }
   ],
   "source": [
    "class BigCat(Cat):\n",
    "    \n",
    "    def barking(self):\n",
    "        print(self.name, \":\", \"凹~~\")\n",
    "        \n",
    "cat2 = BigCat(\"凹凹\")\n",
    "cat2.eatFood()\n",
    "cat2.barking() "
   ]
  },
  {
   "cell_type": "markdown",
   "metadata": {},
   "source": [
    "五、Decorator\n",
    "=================\n",
    "https://foofish.net/python-decorator.html"
   ]
  },
  {
   "cell_type": "code",
   "execution_count": 30,
   "metadata": {},
   "outputs": [
    {
     "name": "stdout",
     "output_type": "stream",
     "text": [
      "Blue0\n"
     ]
    }
   ],
   "source": [
    "class Car():\n",
    "    \n",
    "    def __init__(self, color): # 建構式\n",
    "        self.color = color\n",
    "        self.number_of_people = 0\n",
    "        \n",
    "    def addPeople(self, number):\n",
    "        self.number_of_people += number\n",
    "        \n",
    "    @property # 有 @ 符號代表使用 Decorator，用於將下方的 function 修飾更改其一些功能\n",
    "    def outputProperties(self):\n",
    "        return self.color + str(self.number_of_people)\n",
    "    \n",
    "car1 = Car(\"Blue\")\n",
    "print(car1.outputProperties)"
   ]
  },
  {
   "cell_type": "markdown",
   "metadata": {},
   "source": [
    "六、內建 function\n",
    "=================="
   ]
  },
  {
   "cell_type": "code",
   "execution_count": 32,
   "metadata": {
    "collapsed": true
   },
   "outputs": [],
   "source": [
    "a = str(1) # 將數字1轉成字串1\n",
    "b = int(\"1\") # 將字串1轉乘數字1\n",
    "\n",
    "c = list((1, 2, 3)) # 將 tuple 轉成 list\n",
    "d = sum(c) # 將 list c 所有 item 進行加總"
   ]
  },
  {
   "cell_type": "code",
   "execution_count": 37,
   "metadata": {},
   "outputs": [
    {
     "name": "stdout",
     "output_type": "stream",
     "text": [
      "[0, 1, 2, 3, 4]\n",
      "[5, 6, 7, 8, 9, 10, 11, 12, 13, 14, 15, 16, 17, 18, 19]\n",
      "[5, 7, 9, 11, 13, 15, 17, 19]\n"
     ]
    }
   ],
   "source": [
    "print(list(range(5)))\n",
    "print(list(range(5, 20)))\n",
    "print(list(range(5, 20, 2)))"
   ]
  },
  {
   "cell_type": "code",
   "execution_count": 38,
   "metadata": {
    "collapsed": true
   },
   "outputs": [],
   "source": [
    "# 寫檔\n",
    "f = open(\"Hello.txt\", \"w\") # 開啟 Hello.txt\n",
    "f.write(\"Hello World!!\") # 在 Hello.txt 寫入 \"Hello World!!\"\n",
    "f.close()"
   ]
  },
  {
   "cell_type": "code",
   "execution_count": 39,
   "metadata": {},
   "outputs": [
    {
     "name": "stdout",
     "output_type": "stream",
     "text": [
      "Hello World!!\n"
     ]
    }
   ],
   "source": [
    "# 讀檔\n",
    "f = open(\"Hello.txt\", \"r\") # 開啟 Hello.txt\n",
    "content = f.read() # 讀取 Hello.txt 內的文字\n",
    "print(content)\n",
    "f.close()"
   ]
  },
  {
   "cell_type": "code",
   "execution_count": 40,
   "metadata": {},
   "outputs": [
    {
     "name": "stdout",
     "output_type": "stream",
     "text": [
      "<class 'int'>\n",
      "<class 'str'>\n"
     ]
    }
   ],
   "source": [
    "print(type(1))\n",
    "print(type(\"1\"))"
   ]
  },
  {
   "cell_type": "code",
   "execution_count": null,
   "metadata": {
    "collapsed": true
   },
   "outputs": [],
   "source": []
  }
 ],
 "metadata": {
  "kernelspec": {
   "display_name": "Python 2",
   "language": "python",
   "name": "python2"
  },
  "language_info": {
   "codemirror_mode": {
    "name": "ipython",
    "version": 2
   },
   "file_extension": ".py",
   "mimetype": "text/x-python",
   "name": "python",
   "nbconvert_exporter": "python",
   "pygments_lexer": "ipython2",
   "version": "2.7.13"
  }
 },
 "nbformat": 4,
 "nbformat_minor": 2
}
