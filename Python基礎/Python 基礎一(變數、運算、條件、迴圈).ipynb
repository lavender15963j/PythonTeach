{
 "cells": [
  {
   "cell_type": "markdown",
   "metadata": {},
   "source": [
    "一、Assignment(宣告變數)\n",
    "======================\n",
    "\n",
    "python 屬於無型別的程式語言，不需要在變數前宣告變數型態(EX: int x、float y、Object z)，只需要寫 [變數名稱] = [值] 即可"
   ]
  },
  {
   "cell_type": "code",
   "execution_count": 1,
   "metadata": {},
   "outputs": [
    {
     "name": "stdout",
     "output_type": "stream",
     "text": [
      "3\n"
     ]
    }
   ],
   "source": [
    "# 常見的變數型態(Integer整數)\n",
    "x = 1 \n",
    "y = 2\n",
    "\n",
    "print(x + y)\n"
   ]
  },
  {
   "cell_type": "code",
   "execution_count": 2,
   "metadata": {},
   "outputs": [
    {
     "name": "stdout",
     "output_type": "stream",
     "text": [
      "3.0\n"
     ]
    }
   ],
   "source": [
    "# 常見的變數型態(Float浮點數)\n",
    "x = 1.0\n",
    "y = 2.0\n",
    "\n",
    "print(x + y)"
   ]
  },
  {
   "cell_type": "code",
   "execution_count": 3,
   "metadata": {},
   "outputs": [
    {
     "name": "stdout",
     "output_type": "stream",
     "text": [
      "AAABBB\n"
     ]
    }
   ],
   "source": [
    "# 常見的變數型態(String字串)\n",
    "# 關於更多字串的操作可以看 https://www.w3schools.com/python/python_strings.asp\n",
    "x = \"AAA\" # 用\"或'都可以\n",
    "y = \"BBB\"\n",
    "\n",
    "# 字串相加\n",
    "print(x + y)"
   ]
  },
  {
   "cell_type": "code",
   "execution_count": 4,
   "metadata": {},
   "outputs": [
    {
     "name": "stdout",
     "output_type": "stream",
     "text": [
      "True False\n"
     ]
    }
   ],
   "source": [
    "# 常見的變數型態(Boolean布林值)\n",
    "x = True\n",
    "y = False\n",
    "\n",
    "print(x, y)"
   ]
  },
  {
   "cell_type": "code",
   "execution_count": 5,
   "metadata": {
    "scrolled": true
   },
   "outputs": [
    {
     "name": "stdout",
     "output_type": "stream",
     "text": [
      "x: [1, 2, 3, 4, 5]\n",
      "x[1]: 2\n",
      "x[1:]: [2, 3, 4, 5]\n",
      "x[1:3]: [2, 3]\n",
      "x[-1]: 5\n",
      "x [1, 2, 3, 4, 5, 6]\n",
      "x[-1]: 6\n",
      "y: (1, 2, 3, 4, 5)\n"
     ]
    }
   ],
   "source": [
    "# 常見的變數型態(List 清單)\n",
    "# 關於更多清單的操作可以看 https://www.w3schools.com/python/python_lists.asp\n",
    "x = [1, 2, 3, 4, 5]\n",
    "print(\"x:\", x)\n",
    "print(\"x[1]:\", x[1]) # 拿取 x 內的 index 1 的 item\n",
    "print(\"x[1:]:\", x[1:]) # 拿取 x 內的 index 1 之後的 items\n",
    "print(\"x[1:3]:\", x[1:3]) # 拿取 x 內的 index 1 之後且 index 3 之前(不包含)的 items\n",
    "print(\"x[-1]:\", x[-1]) # 拿取 x 內最後一個 items\n",
    "\n",
    "x.append(6) # 加一個 item 到 x 內\n",
    "print(\"x\", x) # 拿取 x 內最後一個 items\n",
    "print(\"x[-1]:\", x[-1]) # 拿取 x 內最後一個 items\n",
    "\n",
    "# 常見的變數型態(tuple)\n",
    "y = (1, 2, 3, 4, 5)\n",
    "print(\"y:\", y)"
   ]
  },
  {
   "cell_type": "code",
   "execution_count": 6,
   "metadata": {},
   "outputs": [
    {
     "name": "stdout",
     "output_type": "stream",
     "text": [
      "x: {'Apple': 0, 'Banana': 1}\n",
      "x['Apple']: 0\n",
      "x: {'Apple': 1, 'Banana': 1}\n",
      "x['Apple']: 1\n",
      "x: {'Apple': 1, 'Banana': 1, 'Orange': 3}\n"
     ]
    }
   ],
   "source": [
    "# 常見的變數型態(Dictionary 字典)\n",
    "# 關於更多字典的操作可以看 https://www.w3schools.com/python/python_dictionaries.asp\n",
    "x = {\"Apple\": 0, \"Banana\": 1}\n",
    "print(\"x:\", x)\n",
    "print(\"x['Apple']:\", x['Apple'])\n",
    "\n",
    "x['Apple'] += 1\n",
    "print(\"x:\", x)\n",
    "print(\"x['Apple']:\", x['Apple'])\n",
    "\n",
    "x[\"Orange\"] = 3\n",
    "print(\"x:\", x)"
   ]
  },
  {
   "cell_type": "markdown",
   "metadata": {},
   "source": [
    "二、Operators(運算子)\n",
    "===================="
   ]
  },
  {
   "cell_type": "code",
   "execution_count": 7,
   "metadata": {},
   "outputs": [
    {
     "name": "stdout",
     "output_type": "stream",
     "text": [
      "x + y = 3\n",
      "x - y = -1\n",
      "x * y = 2\n",
      "x / y = 0.5\n",
      "3 + 5 * 2 = 13\n",
      "15 / 2 的餘數 = 1\n",
      "7 / 3 後取整數 = 2\n",
      "2 的 5 次方 = 32\n"
     ]
    }
   ],
   "source": [
    "x = 1 \n",
    "y = 2\n",
    "\n",
    "print(\"x + y =\", x + y) # 相加\n",
    "print(\"x - y =\", x - y) # 相減\n",
    "print(\"x * y =\", x * y) # 相乘\n",
    "print(\"x / y =\", x / y) # 相除\n",
    "\n",
    "print(\"3 + 5 * 2 =\", 3 + 5 * 2) # 四則運算\n",
    "\n",
    "print(\"15 / 2 的餘數 =\", 15 % 2) # mod, the remainder of the division\n",
    "print(\"7 / 3 後取整數 =\", 7 // 3) # floor division discards the fractional part\n",
    "print(\"2 的 5 次方 =\", 2 ** 5) # 2 to the power of 5"
   ]
  },
  {
   "cell_type": "code",
   "execution_count": 8,
   "metadata": {},
   "outputs": [
    {
     "name": "stdout",
     "output_type": "stream",
     "text": [
      "3\n"
     ]
    }
   ],
   "source": [
    "x = 1\n",
    "y = 2\n",
    "\n",
    "z = x + y # 將 x y 相加宣告給 z\n",
    "print(z)"
   ]
  },
  {
   "cell_type": "code",
   "execution_count": 9,
   "metadata": {},
   "outputs": [],
   "source": [
    "# 其他: +=, -=, *=, /=, %=, **=, //=\n",
    "x = 1\n",
    "x += 1 # 相當於 x = x + 1\n",
    "x -= 1 # 相當於 x = x - 1 ...以此類推"
   ]
  },
  {
   "cell_type": "markdown",
   "metadata": {},
   "source": [
    "三、Comment(註解)\n",
    "====================\n",
    "用於在程式碼旁邊做筆記"
   ]
  },
  {
   "cell_type": "code",
   "execution_count": 10,
   "metadata": {},
   "outputs": [
    {
     "data": {
      "text/plain": [
       "'\\n這是註解第一行\\n這是註解第二行\\n這是註解第三行\\n'"
      ]
     },
     "execution_count": 10,
     "metadata": {},
     "output_type": "execute_result"
    }
   ],
   "source": [
    "\"\"\"\n",
    "這是註解第一行\n",
    "這是註解第二行\n",
    "這是註解第三行\n",
    "\"\"\"\n",
    "\n",
    "# 這是單行註解"
   ]
  },
  {
   "cell_type": "markdown",
   "metadata": {},
   "source": [
    "四、Conditions(條件式)\n",
    "=======================\n",
    "* Equals: a == b\n",
    "* Not Equals: a != b\n",
    "* Less than: a < b\n",
    "* Less than or equal to: a <= b\n",
    "* Greater than: a > b\n",
    "* Greater than or equal to: a >= b\n",
    "\n",
    "架構:\n",
    "\n",
    "if [條件式]:\n",
    "    # do something\n",
    "elif [條件式]:\n",
    "    # do something\n",
    "else:\n",
    "    # do something"
   ]
  },
  {
   "cell_type": "code",
   "execution_count": 11,
   "metadata": {},
   "outputs": [
    {
     "name": "stdout",
     "output_type": "stream",
     "text": [
      "x 比 y 小\n"
     ]
    }
   ],
   "source": [
    "x = 1\n",
    "y = 2\n",
    "\n",
    "if x < y:\n",
    "    print(\"x 比 y 小\")\n",
    "else:\n",
    "    print(\"x 比 y 大\")"
   ]
  },
  {
   "cell_type": "code",
   "execution_count": 12,
   "metadata": {},
   "outputs": [
    {
     "name": "stdout",
     "output_type": "stream",
     "text": [
      "x 比 y 小\n"
     ]
    }
   ],
   "source": [
    "x = 1\n",
    "y = 2\n",
    "\n",
    "if x < y:\n",
    "    print(\"x 比 y 小\")\n",
    "elif x == y:  # 注意: 要兩個 = \n",
    "    print(\"x 等於 y\")\n",
    "else:\n",
    "    print(\"x 比 y 大\")"
   ]
  },
  {
   "cell_type": "code",
   "execution_count": 13,
   "metadata": {},
   "outputs": [
    {
     "name": "stdout",
     "output_type": "stream",
     "text": [
      "False\n",
      "True\n",
      "False\n",
      "True\n"
     ]
    }
   ],
   "source": [
    "x = 1\n",
    "y = 2\n",
    "\n",
    "yes_or_no = x == y # assign 一個布林值給 yes_or_no 儲存\n",
    "print(yes_or_no)\n",
    "yes_or_no = x != y\n",
    "print(yes_or_no)\n",
    "yes_or_no = x > y\n",
    "print(yes_or_no)\n",
    "yes_or_no = x < y\n",
    "print(yes_or_no)"
   ]
  },
  {
   "cell_type": "code",
   "execution_count": 14,
   "metadata": {},
   "outputs": [
    {
     "name": "stdout",
     "output_type": "stream",
     "text": [
      "x 比 y 小\n"
     ]
    }
   ],
   "source": [
    "x = 1\n",
    "y = 2\n",
    "\n",
    "is_x_greater_than_y = x > y\n",
    "\n",
    "if is_x_greater_than_y:\n",
    "    # 當 is_x_greater_than_y 這個變數為 True 時跑這邊\n",
    "    print(\"x 比 y 大\")\n",
    "else:\n",
    "    print(\"x 比 y 小\")"
   ]
  },
  {
   "cell_type": "code",
   "execution_count": 15,
   "metadata": {},
   "outputs": [
    {
     "name": "stdout",
     "output_type": "stream",
     "text": [
      "x 比 y 小\n"
     ]
    }
   ],
   "source": [
    "x = 1\n",
    "y = 2\n",
    "\n",
    "is_x_greater_than_y = x > y\n",
    "\n",
    "if not is_x_greater_than_y: # not 會將 Boolean 轉換成另外一方，如: True 變成 False、False 變成 True\n",
    "    # 當 is_x_greater_than_y 這個變數為 False 時跑這邊\n",
    "    print(\"x 比 y 小\")\n",
    "else:\n",
    "    print(\"x 比 y 大\")"
   ]
  },
  {
   "cell_type": "markdown",
   "metadata": {},
   "source": [
    "五、Loops(迴圈)\n",
    "================\n",
    "for、while"
   ]
  },
  {
   "cell_type": "code",
   "execution_count": 16,
   "metadata": {},
   "outputs": [
    {
     "name": "stdout",
     "output_type": "stream",
     "text": [
      "1\n",
      "2\n",
      "3\n",
      "迴圈結束\n"
     ]
    }
   ],
   "source": [
    "for i in [1, 2, 3]:\n",
    "    print(i)\n",
    "print(\"迴圈結束\")"
   ]
  },
  {
   "cell_type": "code",
   "execution_count": 17,
   "metadata": {},
   "outputs": [
    {
     "name": "stdout",
     "output_type": "stream",
     "text": [
      "1\n",
      "迴圈結束\n"
     ]
    }
   ],
   "source": [
    "for i in [1, 2, 3]:\n",
    "    if i == 2:\n",
    "        break # 當迴圈 i 取到 2 時，跳出迴圈\n",
    "    print(i)\n",
    "print(\"迴圈結束\")  "
   ]
  },
  {
   "cell_type": "code",
   "execution_count": 18,
   "metadata": {},
   "outputs": [
    {
     "name": "stdout",
     "output_type": "stream",
     "text": [
      "1\n",
      "3\n",
      "迴圈結束\n"
     ]
    }
   ],
   "source": [
    "for i in [1, 2, 3]:\n",
    "    if i == 2:\n",
    "        continue # 當迴圈 i 取到 2 時，不繼續進行下面的程式直接跑下一輪迴圈\n",
    "    print(i)\n",
    "print(\"迴圈結束\")  "
   ]
  },
  {
   "cell_type": "code",
   "execution_count": 19,
   "metadata": {},
   "outputs": [
    {
     "name": "stdout",
     "output_type": "stream",
     "text": [
      "0\n",
      "1\n",
      "2\n",
      "3\n",
      "4\n",
      "迴圈結束\n"
     ]
    }
   ],
   "source": [
    "x = 0\n",
    "while x < 5: # While [條件式]\n",
    "    print(x)\n",
    "    x += 1\n",
    "print(\"迴圈結束\")  "
   ]
  },
  {
   "cell_type": "code",
   "execution_count": 20,
   "metadata": {},
   "outputs": [
    {
     "name": "stdout",
     "output_type": "stream",
     "text": [
      "0\n",
      "1\n",
      "2\n",
      "迴圈結束\n"
     ]
    }
   ],
   "source": [
    "x = 0\n",
    "while x < 5: # While [條件式]\n",
    "    if x == 3:\n",
    "        break\n",
    "    print(x)\n",
    "    x += 1\n",
    "print(\"迴圈結束\")  "
   ]
  },
  {
   "cell_type": "code",
   "execution_count": null,
   "metadata": {
    "collapsed": true
   },
   "outputs": [],
   "source": []
  }
 ],
 "metadata": {
  "kernelspec": {
   "display_name": "Python 3",
   "language": "python",
   "name": "python3"
  },
  "language_info": {
   "codemirror_mode": {
    "name": "ipython",
    "version": 3
   },
   "file_extension": ".py",
   "mimetype": "text/x-python",
   "name": "python",
   "nbconvert_exporter": "python",
   "pygments_lexer": "ipython3",
   "version": "3.8.5"
  }
 },
 "nbformat": 4,
 "nbformat_minor": 2
}
