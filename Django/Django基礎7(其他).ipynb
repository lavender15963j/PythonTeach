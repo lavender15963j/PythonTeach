{
 "cells": [
  {
   "cell_type": "markdown",
   "metadata": {},
   "source": [
    "一、Django Messages\n",
    "=====================\n",
    "以往我們要傳個簡單的提示訊息給使用者要寫 context 並傳給 template render\n",
    "\n",
    "而 Django Messages 這是一個方便傳訊息的功能，不需要特別寫 context\n",
    "\n",
    "如下，可以在任何想要的地方加 message，而這些 message 最後會傳給使用者看到\n",
    "\n",
    "https://docs.djangoproject.com/en/2.2/ref/contrib/messages/"
   ]
  },
  {
   "cell_type": "code",
   "execution_count": null,
   "metadata": {
    "collapsed": true
   },
   "outputs": [],
   "source": [
    "# blog/views.py\n",
    "class ArticleCreateView(generic.CreateView):\n",
    "    template_name = 'blog/article-add.html'\n",
    "    success_url = reverse_lazy('article-add')\n",
    "    form_class =  ArticleForm\n",
    "\n",
    "    def form_valid(self, form):\n",
    "        article = form.save(commit=False) \n",
    "        article.author = self.request.user \n",
    "        article.save()\n",
    "        messages.success(self.request, '成功新增了文章') # message\n",
    "        return super().form_valid(form)\n",
    "\n",
    "    def form_invalid(self, form):\n",
    "        messages.error(self.request, '表單填寫錯誤') # message\n",
    "        return super().form_invalid(form)\n",
    "\n",
    "class ArticleUpdateView(generic.UpdateView):\n",
    "    model = Article\n",
    "    template_name = 'blog/article-update.html'\n",
    "    form_class = ArticleForm\n",
    "\n",
    "    def form_valid(self, form): # 表單成功\n",
    "        messages.success(self.request, '成功更新了文章') # message\n",
    "        return super().form_valid(form)\n",
    "\n",
    "    def form_invalid(self, form): # 表單失敗\n",
    "        messages.error(self.request, '表單填寫錯誤') # message\n",
    "        return super().form_invalid(form)\n",
    "\n",
    "    def get_success_url(self):   \n",
    "        return reverse_lazy('article-detail', kwargs={'pk': self.object.id,})\n",
    "\n",
    "class ArticleDeleteView(generic.DeleteView):\n",
    "    model = Article\n",
    "    success_url = reverse_lazy('article-list')\n",
    "    template_name = 'blog/article-delete.html'\n",
    "\n",
    "    def delete(self, request, *args, **kwargs): # 確認刪除\n",
    "        messages.success(self.request, '成功刪除了文章') # message\n",
    "        return super().delete(request, *args, **kwargs)\n",
    "    \n",
    "# settings.py\n",
    "\n",
    "from django.contrib.messages import constants as messages\n",
    "\n",
    "# 而我為了讓 message render 像 boostrap 的 tag 模式，因此在 settings.py 加這段\n",
    "MESSAGE_TAGS = {\n",
    "    messages.ERROR: 'danger' # messages.ERROR 的 tag 預設是 error，這邊改成 danger\n",
    "}\n"
   ]
  },
  {
   "cell_type": "markdown",
   "metadata": {},
   "source": [
    "在 nav_accounts.html 下加一段程式碼，這段是用來 render message 的"
   ]
  },
  {
   "cell_type": "code",
   "execution_count": null,
   "metadata": {
    "collapsed": true
   },
   "outputs": [],
   "source": [
    "{% if messages %}\n",
    "  <div class=\"container\">\n",
    "    {% for message in messages %}\n",
    "    <div class=\"alert alert-{{ message.tags }}\" role=\"alert\">\n",
    "      {{ message }}\n",
    "    </div>\n",
    "    {% endfor %}\n",
    "  </div>\n",
    "{% endif %}"
   ]
  },
  {
   "cell_type": "markdown",
   "metadata": {},
   "source": [
    "二、Django Admin\n",
    "=======================\n",
    "這是 Django 內建的網站後台，專門給 superuser 與 staff 管理 DB 用的"
   ]
  },
  {
   "cell_type": "code",
   "execution_count": null,
   "metadata": {
    "collapsed": true
   },
   "outputs": [],
   "source": [
    "# blog/admin.py\n",
    "from blog.models import Article\n",
    "\n",
    "admin.site.register(Article) # 註冊 Article 可以在 admin 做操作"
   ]
  },
  {
   "cell_type": "markdown",
   "metadata": {},
   "source": [
    "重啟 server ，進去 http://127.0.0.1:8000/admin/ 可以看到有 Article 的選項"
   ]
  },
  {
   "cell_type": "code",
   "execution_count": 1,
   "metadata": {},
   "outputs": [
    {
     "data": {
      "image/png": "[encoded data removed]",
      "text/plain": [
       "<IPython.core.display.Image object>"
      ]
     },
     "execution_count": 1,
     "metadata": {},
     "output_type": "execute_result"
    }
   ],
   "source": [
    "from IPython.display import Image\n",
    "Image(\"images/P27.png\")"
   ]
  },
  {
   "cell_type": "markdown",
   "metadata": {},
   "source": [
    "但現在看起來醜醜的，我們可以來設定一些東西讓這個 list 頁看起來更好"
   ]
  },
  {
   "cell_type": "code",
   "execution_count": null,
   "metadata": {
    "collapsed": true
   },
   "outputs": [],
   "source": [
    "# blog/admin.py\n",
    "# 修改\n",
    "class ArticleAdmin(admin.ModelAdmin):\n",
    "    list_display = ['id', 'author', 'createTime',] # 顯示欄位\n",
    "\n",
    "admin.site.register(Article, ArticleAdmin)"
   ]
  },
  {
   "cell_type": "markdown",
   "metadata": {},
   "source": [
    "這邊只是大致上提一下，而這個 Admin 所包的方便的功能就足以應付客戶所提出的後台功能要求。當然也能自己寫自己想要的額外功能(如: 寄信、顯示統計分析...)，而這部份就必須好好研究 admin 的特殊 view 的寫法(其實都是改寫 admin.ModelAdmin 的 function 即可)\n",
    "\n",
    "詳細操作能看官方文件:\n",
    "https://docs.djangoproject.com/en/2.2/ref/contrib/admin/"
   ]
  },
  {
   "cell_type": "markdown",
   "metadata": {},
   "source": [
    "三、Login Required\n",
    "======================\n",
    "這在做一個網站當中，我們常設定一個 view 在沒有登入的情況下是不能瀏覽的。其實這個功能不需要額外在 view 寫程式碼判斷 user 是否登入，只要用 Django 的功能來使用即可。\n",
    "\n",
    "比方說，以登出狀態 http://127.0.0.1:8000/articles/add/ ，其實網頁還是會出來，但試著提交表單就會發現錯誤(因為沒有登入)"
   ]
  },
  {
   "cell_type": "code",
   "execution_count": null,
   "metadata": {
    "collapsed": true
   },
   "outputs": [],
   "source": [
    "# blog/views.py\n",
    "from django.contrib.auth.decorators import login_required\n",
    "from django.utils.decorators import method_decorator\n",
    "\n",
    "# function view\n",
    "@login_required\n",
    "def createArticle(request):\n",
    "    # ...\n",
    "  \n",
    "# class base view\n",
    "@method_decorator(login_required, name='dispatch')\n",
    "class ArticleCreateView(generic.FormView):\n",
    "    # ...\n",
    "    \n",
    "# settings.py\n",
    "LOGIN_URL = '/login/' # 設定登入頁面的網址"
   ]
  },
  {
   "cell_type": "markdown",
   "metadata": {},
   "source": [
    "會發現當連到 http://127.0.0.1:8000/articles/add/ 會被導到 http://127.0.0.1:8000/login/?next=/articles/add/\n",
    "\n",
    "next 參數是紀錄使用者是從哪個網頁被 login required 導到 login 頁的，理論上，使用者登入後要幫忙導到原來的頁面，因此我們要在 login view 上下手"
   ]
  },
  {
   "cell_type": "code",
   "execution_count": null,
   "metadata": {
    "collapsed": true
   },
   "outputs": [],
   "source": [
    "# blog/views.py\n",
    "class LoginView(generic.View):\n",
    "\n",
    "    def get(self, request, *args, **kwargs):\n",
    "        return render(request, 'blog/login.html')\n",
    "\n",
    "    def post(self, request, *args, **kwargs):\n",
    "        # 當使用者 POST 表單後運行這部分程式碼\n",
    "        username = request.POST.get('username')\n",
    "        password = request.POST.get('password')\n",
    "\n",
    "        # 用 auth.authenticate 來找 db 內是否有這筆帳戶資料\n",
    "        user = auth.authenticate(username=username, password=password)\n",
    "        \n",
    "        if user and user.is_active: # 判斷 user 是否存在，且沒有被凍結\n",
    "            # 允許登入\n",
    "            auth.login(request, user)\n",
    "\n",
    "            if request.GET.get('next'):\n",
    "                # 當有 next 參數時，幫忙導頁\n",
    "                return redirect(request.GET.get('next'))\n",
    "            return redirect(reverse_lazy('index')) # 進行導頁到 index\n",
    "        else:     \n",
    "            # 不允許登入\n",
    "            context = {\n",
    "                \"msg\": \"登入失敗\",\n",
    "            }\n",
    "            return render(request, 'blog/login.html', context)\n",
    "        \n",
    "# 此外，blog/login.html 修改\n",
    "action=\"{{ request.get_full_path }}\" # 這是讓表單也能 Post 記錄在網址上的參數"
   ]
  },
  {
   "cell_type": "markdown",
   "metadata": {},
   "source": [
    "登出後，再試試  http://127.0.0.1:8000/articles/add/ ，並登入看看是否導到新增文章頁"
   ]
  },
  {
   "cell_type": "code",
   "execution_count": null,
   "metadata": {
    "collapsed": true
   },
   "outputs": [],
   "source": []
  }
 ],
 "metadata": {
  "kernelspec": {
   "display_name": "Python 3",
   "language": "python",
   "name": "python3"
  },
  "language_info": {
   "codemirror_mode": {
    "name": "ipython",
    "version": 3
   },
   "file_extension": ".py",
   "mimetype": "text/x-python",
   "name": "python",
   "nbconvert_exporter": "python",
   "pygments_lexer": "ipython3",
   "version": "3.8.8"
  }
 },
 "nbformat": 4,
 "nbformat_minor": 2
}
