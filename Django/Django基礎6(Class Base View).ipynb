{
 "cells": [
  {
   "cell_type": "markdown",
   "metadata": {},
   "source": [
    "一、Class Bass View\n",
    "==================\n",
    "這是 Django 將我們在 View 上常寫的功能全都包成 class，我們只要傳資料給 Class Bass View 即可做出我們想要的頁面\n",
    "\n",
    "比方說，我們來改 index 這個 view"
   ]
  },
  {
   "cell_type": "code",
   "execution_count": null,
   "metadata": {
    "collapsed": true
   },
   "outputs": [],
   "source": [
    "# blog.views.py\n",
    "def index(request):\n",
    "    return render(request, 'blog/index.html')\n",
    "\n",
    "# 改成\n",
    "from django.views import generic\n",
    "\n",
    "class IndexView(generic.TemplateView):\n",
    "    template_name = 'blog/index.html'\n",
    "    \n",
    "# 修改 urls.py\n",
    "path('', blog_views.IndexView.as_view(), name=\"index\"), # 修改 index 這行\n"
   ]
  },
  {
   "cell_type": "markdown",
   "metadata": {},
   "source": [
    "這兩種寫法都一樣，只不過變成另外一種寫法。但用 Class Bass View 寫有快速撰寫與擴增方便等等的優點，建議大家都可以試著用用看\n",
    "\n",
    "如想傳 context 給 template render，只需要複寫 get_context_data 這個 function 即可"
   ]
  },
  {
   "cell_type": "code",
   "execution_count": null,
   "metadata": {
    "collapsed": true
   },
   "outputs": [],
   "source": [
    "# blog.views.py\n",
    "class IndexView(generic.TemplateView):\n",
    "    template_name = 'blog/index.html'\n",
    "\n",
    "    # 想傳 contaxt 給 template\n",
    "    def get_context_data(self, **kwargs):\n",
    "        context = super().get_context_data(**kwargs)\n",
    "\n",
    "        if self.request.user.is_authenticated():\n",
    "            context['msg'] = \"哈囉 %s\" % self.request.user\n",
    "        else:\n",
    "            context['msg'] = \"請先登入\"\n",
    "        return context"
   ]
  },
  {
   "cell_type": "markdown",
   "metadata": {},
   "source": [
    "Class Bass View 還分有很多種，通常會依照頁面的性質做選擇，如我們的 IndexView 使用的 TemplateView 就是用來處理 template render 做出簡單無功能的頁面\n",
    "\n",
    "https://docs.djangoproject.com/en/2.2/topics/class-based-views/"
   ]
  },
  {
   "cell_type": "markdown",
   "metadata": {},
   "source": [
    "二、generic.View\n",
    "=================\n",
    "這是最底層最簡單的 Class Bass View 物件，用於處理簡單的 get post\n",
    "\n",
    "比方說，修改 Login View"
   ]
  },
  {
   "cell_type": "code",
   "execution_count": null,
   "metadata": {
    "collapsed": true
   },
   "outputs": [],
   "source": [
    "# blog/views.py\n",
    "def login(request):\n",
    "    if request.POST:\n",
    "        # 當使用者 POST 表單後運行這部分程式碼\n",
    "        username = request.POST.get('username')\n",
    "        password = request.POST.get('password')\n",
    "\n",
    "        # 用 auth.authenticate 來找 db 內是否有這筆帳戶資料\n",
    "        user = auth.authenticate(username=username, password=password)\n",
    "        \n",
    "        if user and user.is_active: # 判斷 user 是否存在，且沒有被凍結\n",
    "            # 允許登入\n",
    "            auth.login(request, user)\n",
    "            return redirect(reverse_lazy('index')) # 進行導頁到 index\n",
    "        else:     \n",
    "            # 不允許登入\n",
    "            context = {\n",
    "                \"msg\": \"登入失敗\",\n",
    "            }\n",
    "            return render(request, 'blog/login.html', context)\n",
    "\n",
    "    return render(request, 'blog/login.html')\n",
    "\n",
    "# 改成\n",
    "class LoginView(generic.View):\n",
    "\n",
    "    # get function 裡面寫 get 時要處理的事\n",
    "    def get(self, request, *args, **kwargs):\n",
    "        return render(request, 'blog/login.html')\n",
    "\n",
    "    # post function 裡面寫 post 時要處理的事\n",
    "    def post(self, request, *args, **kwargs):\n",
    "        # 當使用者 POST 表單後運行這部分程式碼\n",
    "        username = request.POST.get('username')\n",
    "        password = request.POST.get('password')\n",
    "\n",
    "        # 用 auth.authenticate 來找 db 內是否有這筆帳戶資料\n",
    "        user = auth.authenticate(username=username, password=password)\n",
    "        \n",
    "        if user and user.is_active: # 判斷 user 是否存在，且沒有被凍結\n",
    "            # 允許登入\n",
    "            auth.login(request, user)\n",
    "            return redirect(reverse_lazy('index')) # 進行導頁到 index\n",
    "        else:     \n",
    "            # 不允許登入\n",
    "            context = {\n",
    "                \"msg\": \"登入失敗\",\n",
    "            }\n",
    "            return render(request, 'blog/login.html', context)\n",
    "        \n",
    "# urls.py\n",
    "path('login/', blog_views.LoginView.as_view(), name=\"login\"), # 修改這行"
   ]
  },
  {
   "cell_type": "markdown",
   "metadata": {},
   "source": [
    "二、ListView、DetailView\n",
    "============================\n",
    "這是我們常用的兩種用來呈現頁面的 View\n",
    "* ListView: 用來 render 出清單頁面，如 Article 清單頁\n",
    "* DetailView: 用來 render 出內文頁面，如 Article 內文頁\n",
    "\n",
    "通常會一起使用\n",
    "\n",
    "https://docs.djangoproject.com/en/2.2/topics/class-based-views/generic-display/"
   ]
  },
  {
   "cell_type": "code",
   "execution_count": null,
   "metadata": {
    "collapsed": true
   },
   "outputs": [],
   "source": [
    "# blog/views.py\n",
    "from blog.models import Article\n",
    "\n",
    "class ArticleList(generic.ListView):\n",
    "    template_name = 'blog/article-list.html' # 用來 render 的 template \n",
    "    context_object_name = 'articles' # 傳給 template 的 context 名稱\n",
    "\n",
    "    def get_queryset(self): # 拿取一堆資料(list)\n",
    "        return Article.objects.all()\n",
    "\n",
    "class ArticleDetail(generic.DetailView):\n",
    "    template_name = 'blog/article-detail.html' # 用來 render 的 template \n",
    "    context_object_name = 'article' # 傳給 template 的 context 名稱\n",
    "\n",
    "    def get_object(self, queryset=None): # 依照傳入的資料，拿取單一一筆資料\n",
    "        pk = self.kwargs.get(\"pk\")\n",
    "        return Article.objects.get(id=pk)\n",
    "\n",
    "# urls.py\n",
    "path('articles/', blog_views.ArticleList.as_view(), name=\"article-list\"),\n",
    "path('articles/<int:pk>/', blog_views.ArticleDetail.as_view(), name='article-detail'),"
   ]
  },
  {
   "cell_type": "markdown",
   "metadata": {},
   "source": [
    "修改 Template\n",
    "* nav_accounts.html"
   ]
  },
  {
   "cell_type": "code",
   "execution_count": null,
   "metadata": {
    "collapsed": true
   },
   "outputs": [],
   "source": [
    "<li class=\"nav-item\">\n",
    "    <a class=\"nav-link\" href=\"{% url 'article-list' %}\">文章清單</a>\n",
    "</li>"
   ]
  },
  {
   "cell_type": "markdown",
   "metadata": {},
   "source": [
    "新增\n",
    "* blog/article-list.html\n",
    "* blog/article-detail.html"
   ]
  },
  {
   "cell_type": "code",
   "execution_count": null,
   "metadata": {
    "collapsed": true
   },
   "outputs": [],
   "source": [
    "<!DOCTYPE html>\n",
    "\n",
    "<html>\n",
    "    <head>\n",
    "        <title>Index</title>\n",
    "        <link rel=\"stylesheet\" href=\"https://stackpath.bootstrapcdn.com/bootstrap/4.3.1/css/bootstrap.min.css\" integrity=\"sha384-ggOyR0iXCbMQv3Xipma34MD+dH/1fQ784/j6cY/iJTQUOhcWr7x9JvoRxT2MZw1T\" crossorigin=\"anonymous\">\n",
    "    </head>\n",
    "    <body>\n",
    "        {% include 'blog/nav_accounts.html' %}\n",
    "        <div class=\"container\">\n",
    "            <h1>所有文章</h1>\n",
    "            <p>{{ msg }}</p>\n",
    "            <ul>\n",
    "                {% for article in articles %}\n",
    "                <li>\n",
    "                    <a href=\"{% url 'article-detail' pk=article.id %}\">{{ article.title }} by {{ article.author }}</a>\n",
    "                </li>\n",
    "                {% endfor %}\n",
    "            </ul>\n",
    "        </div>\n",
    "    </body>\n",
    "</html>"
   ]
  },
  {
   "cell_type": "code",
   "execution_count": null,
   "metadata": {
    "collapsed": true
   },
   "outputs": [],
   "source": [
    "<!DOCTYPE html>\n",
    "\n",
    "<html>\n",
    "    <head>\n",
    "        <title>Index</title>\n",
    "        <link rel=\"stylesheet\" href=\"https://stackpath.bootstrapcdn.com/bootstrap/4.3.1/css/bootstrap.min.css\" integrity=\"sha384-ggOyR0iXCbMQv3Xipma34MD+dH/1fQ784/j6cY/iJTQUOhcWr7x9JvoRxT2MZw1T\" crossorigin=\"anonymous\">\n",
    "    </head>\n",
    "    <body>\n",
    "        {% include 'blog/nav_accounts.html' %}\n",
    "        <div class=\"container\">\n",
    "            <h1>{{ article.title}} by {{ article.author }}({{ article.createTime }})</h1>\n",
    "            <p>{{ article.content }}</p>\n",
    "            \n",
    "        </div>\n",
    "    </body>\n",
    "</html>"
   ]
  },
  {
   "cell_type": "markdown",
   "metadata": {},
   "source": [
    "完成後，我們就有 article list 頁與 article detail 頁了"
   ]
  },
  {
   "cell_type": "code",
   "execution_count": 5,
   "metadata": {},
   "outputs": [
    {
     "data": {
      "image/png": "[encoded data removed]",
      "text/plain": [
       "<IPython.core.display.Image object>"
      ]
     },
     "execution_count": 5,
     "metadata": {},
     "output_type": "execute_result"
    }
   ],
   "source": [
    "from IPython.display import Image\n",
    "Image(\"images/P25.png\")"
   ]
  },
  {
   "cell_type": "markdown",
   "metadata": {},
   "source": [
    "而 list 最重要的還有分頁功能"
   ]
  },
  {
   "cell_type": "code",
   "execution_count": null,
   "metadata": {
    "collapsed": true
   },
   "outputs": [],
   "source": [
    "# blog/views.py\n",
    "class ArticleList(generic.ListView):\n",
    "    template_name = 'blog/article-list.html' # 用來 render 的 template \n",
    "    context_object_name = 'articles' # 傳給 template 的 context 名稱\n",
    "    paginate_by = 3 # 每頁顯示幾個\n",
    "\n",
    "    def get_queryset(self): # 拿取一堆資料(list)\n",
    "        return Article.objects.all()"
   ]
  },
  {
   "cell_type": "markdown",
   "metadata": {},
   "source": [
    "新增 template\n",
    "* blog/pagination.html (我常用來做分頁的 html，使用 boostrap，也可以參考我的寫法自行設計，需要了解 paginator 機制)"
   ]
  },
  {
   "cell_type": "code",
   "execution_count": null,
   "metadata": {
    "collapsed": true
   },
   "outputs": [],
   "source": [
    "{% if is_paginated %}\n",
    "<div class=\"col-sm-12\" style=\"padding-left: 40%;\">\n",
    "    <ul class=\"pagination\">\n",
    "        {% if page_obj.has_previous %}\n",
    "        <li class=\"page-item\">\n",
    "            <a class=\"page-link\" href=\"?page={{ page_obj.previous_page_number }}\" aria-label=\"Previous\">\n",
    "                <span aria-hidden=\"true\">&laquo;</span>\n",
    "            </a>\n",
    "        </li>\n",
    "        {% else %}\n",
    "        <li class=\"page-item disabled\">\n",
    "            <a class=\"page-link\" href=\"#\" aria-label=\"Previous\">\n",
    "                <span aria-hidden=\"true\">&laquo;</span>\n",
    "            </a>\n",
    "        </li>\n",
    "        {% endif %}\n",
    "\n",
    "        {% for i in paginator.page_range %}\n",
    "            {% if page_obj.number == i %}\n",
    "            <li class=\"page-item active\" aria-current=\"page\">\n",
    "                <span class=\"page-link\">\n",
    "                    {{ i }}\n",
    "                    <span class=\"sr-only\">(current)</span>\n",
    "                </span>\n",
    "            </li>\n",
    "            {% else %}\n",
    "            <li class=\"page-item\"><a class=\"page-link\" href=\"?page={{ i }}\">{{ i }}</a></li>\n",
    "            {% endif %}\n",
    "        {% endfor %}\n",
    "\n",
    "        {% if page_obj.has_next %}\n",
    "        <li class=\"page-item\">\n",
    "            <a class=\"page-link\" href=\"?page={{ page_obj.next_page_number }}\" aria-label=\"Next\">\n",
    "                <span aria-hidden=\"true\">&raquo;</span>\n",
    "            </a>\n",
    "        </li>\n",
    "        {% else %}\n",
    "        <li class=\"page-item disabled\">\n",
    "            <a class=\"page-link\" href=\"#\" aria-label=\"Next\">\n",
    "                <span aria-hidden=\"true\">&raquo;</span>\n",
    "            </a>\n",
    "        </li>\n",
    "        {% endif %}\n",
    "    </ul>\n",
    "</div>\n",
    "{% endif %}"
   ]
  },
  {
   "cell_type": "markdown",
   "metadata": {},
   "source": [
    "修改 template\n",
    "* article-list.html"
   ]
  },
  {
   "cell_type": "code",
   "execution_count": null,
   "metadata": {
    "collapsed": true
   },
   "outputs": [],
   "source": [
    "<!DOCTYPE html>\n",
    "\n",
    "<html>\n",
    "    <head>\n",
    "        <title>Index</title>\n",
    "        <link rel=\"stylesheet\" href=\"https://stackpath.bootstrapcdn.com/bootstrap/4.3.1/css/bootstrap.min.css\" integrity=\"sha384-ggOyR0iXCbMQv3Xipma34MD+dH/1fQ784/j6cY/iJTQUOhcWr7x9JvoRxT2MZw1T\" crossorigin=\"anonymous\">\n",
    "    </head>\n",
    "    <body>\n",
    "        {% include 'blog/nav_accounts.html' %}\n",
    "        <div class=\"container\">\n",
    "            <h1>所有文章</h1>\n",
    "            <p>{{ msg }}</p>\n",
    "            <ul>\n",
    "                {% for article in articles %}\n",
    "                <li>\n",
    "                    <a href=\"{% url 'article-detail' pk=article.id %}\">{{ article.title }} by {{ article.author }}</a>\n",
    "                </li>\n",
    "                {% endfor %}\n",
    "            </ul>\n",
    "            {% include 'blog/pagination.html' %}\n",
    "        </div>\n",
    "    </body>\n",
    "</html>"
   ]
  },
  {
   "cell_type": "markdown",
   "metadata": {},
   "source": [
    "觀看結果"
   ]
  },
  {
   "cell_type": "code",
   "execution_count": 7,
   "metadata": {},
   "outputs": [
    {
     "data": {
      "image/png": "[encoded data removed]",
      "text/plain": [
       "<IPython.core.display.Image object>"
      ]
     },
     "execution_count": 7,
     "metadata": {},
     "output_type": "execute_result"
    }
   ],
   "source": [
    "from IPython.display import Image\n",
    "Image(\"images/P26.png\")"
   ]
  },
  {
   "cell_type": "markdown",
   "metadata": {},
   "source": [
    "三、FormView\n",
    "=================\n",
    "用於處理會提交表單的頁面(需要 django form)\n",
    "\n",
    "比方說，更改新增文章頁\n",
    "\n",
    "https://docs.djangoproject.com/en/2.2/topics/class-based-views/generic-editing/"
   ]
  },
  {
   "cell_type": "code",
   "execution_count": null,
   "metadata": {
    "collapsed": true
   },
   "outputs": [],
   "source": [
    "# blog.views.py\n",
    "def createArticle(request):\n",
    "    context = {}\n",
    "    if request.POST:\n",
    "        form = ArticleForm(request.POST)\n",
    "        if form.is_valid():\n",
    "            # 表單符合規則\n",
    "            # 用 POST 的資料做成一個 article 物件(相當於 Article.objects.create)\n",
    "            # commit=False 表示先別直接紀錄到 db，因為我們還要加其他資料\n",
    "            article = form.save(commit=False) \n",
    "            article.author = request.user # 紀錄是誰 create 這個 article 的\n",
    "            article.save() # 紀錄到 db 去\n",
    "\n",
    "            context['msg'] = \"成功新增一篇文章\"\n",
    "        else:\n",
    "            # 表單不符合規則\n",
    "            context['msg'] = \"表單錯誤\"\n",
    "    else:\n",
    "        form = ArticleForm()\n",
    "\n",
    "    context['form'] = form\n",
    "        \n",
    "    return render(request, 'blog/article-add.html', context)\n",
    "\n",
    "# 改成\n",
    "class ArticleCreateView(generic.FormView):\n",
    "    form_class =  ArticleForm\n",
    "    template_name = 'blog/article-add.html'\n",
    "    success_url = reverse_lazy('article-add') # redirect 到哪個 url\n",
    "\n",
    "    def form_valid(self, form):\n",
    "        # 表單符合規則\n",
    "        # 用 POST 的資料做成一個 article 物件(相當於 Article.objects.create)\n",
    "        # commit=False 表示先別直接紀錄到 db，因為我們還要加其他資料\n",
    "        article = form.save(commit=False) \n",
    "        article.author = self.request.user # 紀錄是誰 create 這個 article 的\n",
    "        article.save() # 紀錄到 db 去\n",
    "\n",
    "        return super().form_valid(form)\n",
    "\n",
    "    # 可不寫\n",
    "    def form_invalid(self, form):\n",
    "        # 表單不符合規則\n",
    "        # do something\n",
    "        return super().form_invalid(form)\n",
    "    \n",
    "# urls.py\n",
    "path('articles/add/', blog_views.ArticleCreateView.as_view(), name=\"article-add\"),\n"
   ]
  },
  {
   "cell_type": "markdown",
   "metadata": {},
   "source": [
    "然後觀看結果"
   ]
  },
  {
   "cell_type": "markdown",
   "metadata": {},
   "source": [
    "四、CreateView、UpdateView、DeleteView\n",
    "=========================================\n",
    "這三個 View 也都牽扯到 Django Form\n",
    "\n",
    "\n",
    "https://docs.djangoproject.com/en/2.2/ref/class-based-views/generic-editing/\n",
    "這三個 View 甚至可以不用做 Django Form，只需要給他參數即可(如上述文件)\n",
    "\n",
    "但我推薦，還是自己做 Django Form，擴充性比較好。但我們還是可以用這些 View 做些方便的頁面"
   ]
  },
  {
   "cell_type": "code",
   "execution_count": null,
   "metadata": {
    "collapsed": true
   },
   "outputs": [],
   "source": [
    "# blog/views.py\n",
    "\n",
    "# 這邊的 CreateView 寫法跟在第三節 FormView 的寫法完全相同\n",
    "class ArticleCreateView(generic.CreateView):\n",
    "    template_name = 'blog/article-add.html'\n",
    "    success_url = reverse_lazy('article-add')\n",
    "    form_class =  ArticleForm\n",
    "\n",
    "    def form_valid(self, form):\n",
    "        article = form.save(commit=False) \n",
    "        article.author = self.request.user \n",
    "        article.save()\n",
    "        return super().form_valid(form)\n",
    "\n",
    "    def form_invalid(self, form):\n",
    "        return super().form_invalid(form)\n",
    "\n",
    "class ArticleUpdateView(generic.UpdateView):\n",
    "    model = Article # 想更新的 Model\n",
    "    template_name = 'blog/article-update.html'\n",
    "    form_class = ArticleForm  # 更新時使用的 Form\n",
    "\n",
    "    def get_success_url(self):  # 更新完後，指定回傳的頁面\n",
    "        # 我這邊指定回去 Detail 頁\n",
    "        return reverse_lazy('article-detail', kwargs={'pk': self.object.id,})\n",
    "\n",
    "class ArticleDeleteView(generic.DeleteView):\n",
    "    model = Article # 想刪除的 Model\n",
    "    success_url = reverse_lazy('article-list') # 刪除此 Article 後，指定回傳的頁面\n",
    "    template_name = 'blog/article-delete.html'\n",
    "    \n",
    "# urls.py\n",
    "path('articles/<int:pk>/update/', blog_views.ArticleUpdateView.as_view(), name='article-update'),\n",
    "path('articles/<int:pk>/delete/', blog_views.ArticleDeleteView.as_view(), name='article-delete'),"
   ]
  },
  {
   "cell_type": "markdown",
   "metadata": {},
   "source": [
    "修改 article-detail.html"
   ]
  },
  {
   "cell_type": "code",
   "execution_count": null,
   "metadata": {
    "collapsed": true
   },
   "outputs": [],
   "source": [
    "<!DOCTYPE html>\n",
    "\n",
    "<html>\n",
    "    <head>\n",
    "        <title>Index</title>\n",
    "        <link rel=\"stylesheet\" href=\"https://stackpath.bootstrapcdn.com/bootstrap/4.3.1/css/bootstrap.min.css\" integrity=\"sha384-ggOyR0iXCbMQv3Xipma34MD+dH/1fQ784/j6cY/iJTQUOhcWr7x9JvoRxT2MZw1T\" crossorigin=\"anonymous\">\n",
    "    </head>\n",
    "    <body>\n",
    "        {% include 'blog/nav_accounts.html' %}\n",
    "        <div class=\"container\">\n",
    "            <h1>{{ article.title}} by {{ article.author }}({{ article.createTime }})</h1>\n",
    "            <p>{{ article.content }}</p>\n",
    "\n",
    "            {% if request.user.is_authenticated and request.user ==  article.author %}\n",
    "                <a class=\"btn btn-primary\" href=\"{% url 'article-update' pk=article.id %}\">編輯</a>\n",
    "                <a class=\"btn btn-danger\" href=\"{% url 'article-delete' pk=article.id %}\">刪除</a>\n",
    "            {% endif %}\n",
    "        </div>\n",
    "    </body>\n",
    "</html>"
   ]
  },
  {
   "cell_type": "markdown",
   "metadata": {},
   "source": [
    "新增 article-update.html article-delete.html"
   ]
  },
  {
   "cell_type": "code",
   "execution_count": null,
   "metadata": {
    "collapsed": true
   },
   "outputs": [],
   "source": [
    "<!DOCTYPE html>\n",
    "\n",
    "{% load bootstrap4 %}\n",
    "\n",
    "<html>\n",
    "    <head>\n",
    "        <title>Index</title>\n",
    "        <link rel=\"stylesheet\" href=\"https://stackpath.bootstrapcdn.com/bootstrap/4.3.1/css/bootstrap.min.css\" integrity=\"sha384-ggOyR0iXCbMQv3Xipma34MD+dH/1fQ784/j6cY/iJTQUOhcWr7x9JvoRxT2MZw1T\" crossorigin=\"anonymous\">\n",
    "    </head>\n",
    "    <body>\n",
    "        {% include 'blog/nav_accounts.html' %}\n",
    "        <div class=\"container\">\n",
    "            <h1>更新文章</h1>\n",
    "            <p>{{ msg }}</p>\n",
    "            <form method=\"POST\" action=\".\">\n",
    "                {% csrf_token %}\n",
    "                {% bootstrap_form form %}\n",
    "                <input class=\"btn btn-primary\" type=\"submit\">\n",
    "                <input class=\"btn btn-danger\" type=\"button\" onclick='javascript:history.back(-1);' value='返回'>\n",
    "            </form>\n",
    "        </div>\n",
    "    </body>\n",
    "</html>"
   ]
  },
  {
   "cell_type": "code",
   "execution_count": null,
   "metadata": {
    "collapsed": true
   },
   "outputs": [],
   "source": [
    "<!DOCTYPE html>\n",
    "\n",
    "{% load bootstrap4 %}\n",
    "\n",
    "<html>\n",
    "    <head>\n",
    "        <title>Index</title>\n",
    "        <link rel=\"stylesheet\" href=\"https://stackpath.bootstrapcdn.com/bootstrap/4.3.1/css/bootstrap.min.css\" integrity=\"sha384-ggOyR0iXCbMQv3Xipma34MD+dH/1fQ784/j6cY/iJTQUOhcWr7x9JvoRxT2MZw1T\" crossorigin=\"anonymous\">\n",
    "    </head>\n",
    "    <body>\n",
    "        {% include 'blog/nav_accounts.html' %}\n",
    "        <div class=\"container\">\n",
    "            <h1>刪除文章</h1>\n",
    "            <p>是否要刪除此文章?</p>\n",
    "            <form method=\"POST\" action=\".\">\n",
    "                {% csrf_token %}\n",
    "                {% bootstrap_form form %}\n",
    "                <input class=\"btn btn-primary\" type=\"submit\">\n",
    "                <input class=\"btn btn-danger\" type=\"button\" onclick='javascript:history.back(-1);' value='返回'>\n",
    "            </form>\n",
    "        </div>\n",
    "    </body>\n",
    "</html>"
   ]
  },
  {
   "cell_type": "markdown",
   "metadata": {},
   "source": [
    "Runserver 試試更新文章與刪除文章是否可以"
   ]
  },
  {
   "cell_type": "code",
   "execution_count": null,
   "metadata": {
    "collapsed": true
   },
   "outputs": [],
   "source": []
  }
 ],
 "metadata": {
  "kernelspec": {
   "display_name": "Python 3",
   "language": "python",
   "name": "python3"
  },
  "language_info": {
   "codemirror_mode": {
    "name": "ipython",
    "version": 3
   },
   "file_extension": ".py",
   "mimetype": "text/x-python",
   "name": "python",
   "nbconvert_exporter": "python",
   "pygments_lexer": "ipython3",
   "version": "3.8.5"
  }
 },
 "nbformat": 4,
 "nbformat_minor": 2
}
